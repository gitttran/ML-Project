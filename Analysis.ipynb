{
 "cells": [
  {
   "cell_type": "markdown",
   "metadata": {},
   "source": [
    "## Imports"
   ]
  },
  {
   "cell_type": "code",
   "execution_count": 1,
   "metadata": {},
   "outputs": [
    {
     "name": "stderr",
     "output_type": "stream",
     "text": [
      "C:\\Users\\Amy Perez\\Anaconda3\\lib\\site-packages\\h5py\\__init__.py:36: FutureWarning: Conversion of the second argument of issubdtype from `float` to `np.floating` is deprecated. In future, it will be treated as `np.float64 == np.dtype(float).type`.\n",
      "  from ._conv import register_converters as _register_converters\n",
      "Using TensorFlow backend.\n"
     ]
    }
   ],
   "source": [
    "#standard useful libraries\n",
    "import pandas as pd\n",
    "import numpy as np\n",
    "import random\n",
    "\n",
    "#model selection\n",
    "from sklearn.model_selection import GridSearchCV\n",
    "from sklearn.model_selection import StratifiedKFold\n",
    "from sklearn.model_selection import train_test_split\n",
    "from sklearn.preprocessing import MinMaxScaler\n",
    "\n",
    "#metrics\n",
    "from sklearn.metrics import classification_report\n",
    "from sklearn.metrics import confusion_matrix\n",
    "\n",
    "#models\n",
    "from sklearn.ensemble import RandomForestClassifier\n",
    "from sklearn.linear_model import LogisticRegression\n",
    "\n",
    "#neural network dependencies\n",
    "import tensorflow as tf\n",
    "from keras.models import Sequential\n",
    "from keras.utils import to_categorical\n",
    "from keras.layers import Dense"
   ]
  },
  {
   "cell_type": "markdown",
   "metadata": {},
   "source": [
    "# Loading Data"
   ]
  },
  {
   "cell_type": "code",
   "execution_count": 2,
   "metadata": {},
   "outputs": [
    {
     "name": "stderr",
     "output_type": "stream",
     "text": [
      "C:\\Users\\Amy Perez\\Anaconda3\\lib\\site-packages\\IPython\\core\\interactiveshell.py:2785: DtypeWarning: Columns (57,59,60,61) have mixed types. Specify dtype option on import or set low_memory=False.\n",
      "  interactivity=interactivity, compiler=compiler, result=result)\n"
     ]
    },
    {
     "data": {
      "text/html": [
       "<div>\n",
       "<style scoped>\n",
       "    .dataframe tbody tr th:only-of-type {\n",
       "        vertical-align: middle;\n",
       "    }\n",
       "\n",
       "    .dataframe tbody tr th {\n",
       "        vertical-align: top;\n",
       "    }\n",
       "\n",
       "    .dataframe thead th {\n",
       "        text-align: right;\n",
       "    }\n",
       "</style>\n",
       "<table border=\"1\" class=\"dataframe\">\n",
       "  <thead>\n",
       "    <tr style=\"text-align: right;\">\n",
       "      <th></th>\n",
       "      <th>FID</th>\n",
       "      <th>MOID</th>\n",
       "      <th>DIAMETER</th>\n",
       "      <th>PIPE_LENGTH</th>\n",
       "      <th>MATERIAL</th>\n",
       "      <th>DESCRIPTION</th>\n",
       "      <th>YEAR_INSTALLED</th>\n",
       "      <th>PRESSURE_ZONE</th>\n",
       "      <th>LINING</th>\n",
       "      <th>LINE_YEAR</th>\n",
       "      <th>...</th>\n",
       "      <th>WORK_ORDER_NUMBER</th>\n",
       "      <th>Comments</th>\n",
       "      <th>ReportDate</th>\n",
       "      <th>StartDateT</th>\n",
       "      <th>CompletedD</th>\n",
       "      <th>ReportedY</th>\n",
       "      <th>SrvcRqst_1</th>\n",
       "      <th>MATERIAL_1</th>\n",
       "      <th>MUSYM</th>\n",
       "      <th>FAILURE</th>\n",
       "    </tr>\n",
       "  </thead>\n",
       "  <tbody>\n",
       "    <tr>\n",
       "      <th>0</th>\n",
       "      <td>16420</td>\n",
       "      <td>P35881</td>\n",
       "      <td>8.0</td>\n",
       "      <td>861.090481</td>\n",
       "      <td>M.J.</td>\n",
       "      <td>Distribution</td>\n",
       "      <td>1952</td>\n",
       "      <td>Hemp 1175</td>\n",
       "      <td></td>\n",
       "      <td>0</td>\n",
       "      <td>...</td>\n",
       "      <td>1143689</td>\n",
       "      <td>PER UNIT 819\\n\\rREQUEST 1 6X12 PLATE AND 4 BAG...</td>\n",
       "      <td>2014-10-25</td>\n",
       "      <td>2014-11-16</td>\n",
       "      <td>2014-11-16</td>\n",
       "      <td>2014</td>\n",
       "      <td>Water Request</td>\n",
       "      <td>CAS</td>\n",
       "      <td>Ub</td>\n",
       "      <td>1</td>\n",
       "    </tr>\n",
       "    <tr>\n",
       "      <th>1</th>\n",
       "      <td>44465</td>\n",
       "      <td>P88079</td>\n",
       "      <td>8.0</td>\n",
       "      <td>749.511184</td>\n",
       "      <td>TYT</td>\n",
       "      <td>Distribution</td>\n",
       "      <td>1965</td>\n",
       "      <td>Hemp 1175</td>\n",
       "      <td></td>\n",
       "      <td>0</td>\n",
       "      <td>...</td>\n",
       "      <td>1311148</td>\n",
       "      <td>MAIN BREAK</td>\n",
       "      <td>2015-08-18</td>\n",
       "      <td>2015-08-18</td>\n",
       "      <td>2015-08-18</td>\n",
       "      <td>2015</td>\n",
       "      <td>Water Request</td>\n",
       "      <td>DIP</td>\n",
       "      <td>ReD</td>\n",
       "      <td>1</td>\n",
       "    </tr>\n",
       "    <tr>\n",
       "      <th>2</th>\n",
       "      <td>23810</td>\n",
       "      <td>P53764</td>\n",
       "      <td>8.0</td>\n",
       "      <td>171.554040</td>\n",
       "      <td>M.J.</td>\n",
       "      <td>Distribution</td>\n",
       "      <td>1958</td>\n",
       "      <td>Hemp 1175</td>\n",
       "      <td></td>\n",
       "      <td>0</td>\n",
       "      <td>...</td>\n",
       "      <td>1323748</td>\n",
       "      <td>PER JONATHAN WEBB THERE IS A MAIN BREAK AT THI...</td>\n",
       "      <td>2015-09-11</td>\n",
       "      <td>2015-09-12</td>\n",
       "      <td>2015-09-12</td>\n",
       "      <td>2015</td>\n",
       "      <td>Water Pressure Complaint</td>\n",
       "      <td>DIP</td>\n",
       "      <td>Ub</td>\n",
       "      <td>1</td>\n",
       "    </tr>\n",
       "    <tr>\n",
       "      <th>3</th>\n",
       "      <td>52630</td>\n",
       "      <td>P400741</td>\n",
       "      <td>8.0</td>\n",
       "      <td>42.761097</td>\n",
       "      <td>M.J.</td>\n",
       "      <td>Distribution</td>\n",
       "      <td>1958</td>\n",
       "      <td>Hemp 1175</td>\n",
       "      <td></td>\n",
       "      <td>0</td>\n",
       "      <td>...</td>\n",
       "      <td>1323748</td>\n",
       "      <td>PER JONATHAN WEBB THERE IS A MAIN BREAK AT THI...</td>\n",
       "      <td>2015-09-11</td>\n",
       "      <td>2015-09-12</td>\n",
       "      <td>2015-09-12</td>\n",
       "      <td>2015</td>\n",
       "      <td>Water Pressure Complaint</td>\n",
       "      <td>DIP</td>\n",
       "      <td>Ub</td>\n",
       "      <td>1</td>\n",
       "    </tr>\n",
       "    <tr>\n",
       "      <th>4</th>\n",
       "      <td>10510</td>\n",
       "      <td>P20210</td>\n",
       "      <td>12.0</td>\n",
       "      <td>31.300481</td>\n",
       "      <td>DIP</td>\n",
       "      <td>Transmission</td>\n",
       "      <td>2006</td>\n",
       "      <td>Hemp 1175</td>\n",
       "      <td></td>\n",
       "      <td>0</td>\n",
       "      <td>...</td>\n",
       "      <td>1628288</td>\n",
       "      <td>PER J. SKINNER MAIN BREAK AT LOCATION\\nCall ta...</td>\n",
       "      <td>2017-01-22</td>\n",
       "      <td>2017-02-28</td>\n",
       "      <td>2017-02-28</td>\n",
       "      <td>2017</td>\n",
       "      <td>Turn off burst pipe</td>\n",
       "      <td>DIP</td>\n",
       "      <td>Ub</td>\n",
       "      <td>1</td>\n",
       "    </tr>\n",
       "  </tbody>\n",
       "</table>\n",
       "<p>5 rows × 67 columns</p>\n",
       "</div>"
      ],
      "text/plain": [
       "     FID     MOID  DIAMETER  PIPE_LENGTH MATERIAL   DESCRIPTION  \\\n",
       "0  16420   P35881       8.0   861.090481     M.J.  Distribution   \n",
       "1  44465   P88079       8.0   749.511184      TYT  Distribution   \n",
       "2  23810   P53764       8.0   171.554040     M.J.  Distribution   \n",
       "3  52630  P400741       8.0    42.761097     M.J.  Distribution   \n",
       "4  10510   P20210      12.0    31.300481      DIP  Transmission   \n",
       "\n",
       "   YEAR_INSTALLED PRESSURE_ZONE LINING  LINE_YEAR   ...     WORK_ORDER_NUMBER  \\\n",
       "0            1952     Hemp 1175                 0   ...               1143689   \n",
       "1            1965     Hemp 1175                 0   ...               1311148   \n",
       "2            1958     Hemp 1175                 0   ...               1323748   \n",
       "3            1958     Hemp 1175                 0   ...               1323748   \n",
       "4            2006     Hemp 1175                 0   ...               1628288   \n",
       "\n",
       "                                            Comments  ReportDate  StartDateT  \\\n",
       "0  PER UNIT 819\\n\\rREQUEST 1 6X12 PLATE AND 4 BAG...  2014-10-25  2014-11-16   \n",
       "1                                         MAIN BREAK  2015-08-18  2015-08-18   \n",
       "2  PER JONATHAN WEBB THERE IS A MAIN BREAK AT THI...  2015-09-11  2015-09-12   \n",
       "3  PER JONATHAN WEBB THERE IS A MAIN BREAK AT THI...  2015-09-11  2015-09-12   \n",
       "4  PER J. SKINNER MAIN BREAK AT LOCATION\\nCall ta...  2017-01-22  2017-02-28   \n",
       "\n",
       "   CompletedD  ReportedY                SrvcRqst_1  MATERIAL_1  MUSYM  FAILURE  \n",
       "0  2014-11-16       2014             Water Request         CAS     Ub        1  \n",
       "1  2015-08-18       2015             Water Request         DIP    ReD        1  \n",
       "2  2015-09-12       2015  Water Pressure Complaint         DIP     Ub        1  \n",
       "3  2015-09-12       2015  Water Pressure Complaint         DIP     Ub        1  \n",
       "4  2017-02-28       2017       Turn off burst pipe         DIP     Ub        1  \n",
       "\n",
       "[5 rows x 67 columns]"
      ]
     },
     "execution_count": 2,
     "metadata": {},
     "output_type": "execute_result"
    }
   ],
   "source": [
    "#Loading data from csv\n",
    "pipes_df = pd.read_csv(\"Pipe_data.csv\")\n",
    "pipes_df.head()"
   ]
  },
  {
   "cell_type": "code",
   "execution_count": 3,
   "metadata": {},
   "outputs": [],
   "source": [
    "#get dummies for columns where applicable--MATERIAL, DESCRIPTION, PRESSURE_ZONE\n",
    "pipes_df = pd.concat([pipes_df, pd.get_dummies(pipes_df['MATERIAL'], prefix='MATERIAL')], axis=1)\n",
    "pipes_df = pd.concat([pipes_df, pd.get_dummies(pipes_df['DESCRIPTION'], prefix='DESCRIPTION')], axis=1); \n",
    "pipes_df = pd.concat([pipes_df, pd.get_dummies(pipes_df['PRESSURE_ZONE'], prefix='P-ZONE')], axis=1);\n",
    "\n",
    "#drop original columns--MATERIAL, DESCRIPTION, PRESSURE_ZONE\n",
    "pipes_df2 = pipes_df.drop(columns={ 'MATERIAL',\n",
    " 'DESCRIPTION',\n",
    " 'PRESSURE_ZONE',})\n",
    "\n",
    "#Condense correlating PATTERN + DEMAND columns into 1 column\n",
    "pipes_df2 = pipes_df2.rename(columns={\"DEMAND1\":\"Demand_RES\", \"DEMAND2\":\"Demand_NON-RES\",\"DEMAND3\":\"Demand_WHOLE\",\"DEMAND4\":\"Demand_FLUSH\",\"DEMAND5\":\"Demand_UFW\",\n",
    "                                     \"DEMAND6\":\"Demand_RES-DISTR\",\"DEMAND7\":\"Demand_NON RES-DISTR\",\"DEMAND8\":\"Demand_2030-CWTP-NS\"})\n",
    "\n",
    "#Delete unneeded columns\n",
    "#NOTE to Team: I didn’t see any data at all in the ‘DEMAND9’, ‘PATTERN9’, ‘DEMAND10’, ‘PATTERN10’ columns,so I deleted all of these columns\n",
    "pipes_df3 = pipes_df2.drop(columns={\"PATTERN1\", \"PATTERN2\", \"PATTERN3\", \"PATTERN4\", \"PATTERN5\", \"PATTERN6\", \"PATTERN7\", \"PATTERN8\", \"PATTERN9\", \"PATTERN10\", \"DEMAND9\", \"DEMAND10\"})"
   ]
  },
  {
   "cell_type": "code",
   "execution_count": 4,
   "metadata": {},
   "outputs": [],
   "source": [
    "#Create new Age column\n",
    "#Age is being calculated as 2018 - installation year if no report was made\n",
    "#Report year - installation year otherwise\n",
    "tempAgeList = []\n",
    "for row in np.arange(len(pipes_df3['FID'])):\n",
    "    try:\n",
    "        value = int(pipes_df3.iloc[row]['ReportDate'][:4]) - pipes_df3.iloc[row]['YEAR_INSTALLED']\n",
    "    except:\n",
    "        value = 2018 - pipes_df3.iloc[row]['YEAR_INSTALLED']\n",
    "    tempAgeList.append(value)\n",
    "pipes_df3['Age']=tempAgeList"
   ]
  },
  {
   "cell_type": "code",
   "execution_count": 6,
   "metadata": {},
   "outputs": [],
   "source": [
    "#Add a column to be opposite of FAILURE column for use in neural network training\n",
    "tempSuccessList = []\n",
    "for row in np.arange(len(pipes_df3['FID'])):\n",
    "    value = 1 - pipes_df3.iloc[row]['FAILURE']\n",
    "    tempSuccessList.append(value)\n",
    "pipes_df3['SUCCESS'] = tempSuccessList"
   ]
  },
  {
   "cell_type": "markdown",
   "metadata": {},
   "source": [
    "# Machine Learning"
   ]
  },
  {
   "cell_type": "markdown",
   "metadata": {},
   "source": [
    "# PreProcessing"
   ]
  },
  {
   "cell_type": "code",
   "execution_count": 7,
   "metadata": {},
   "outputs": [],
   "source": [
    "#Select which columns to train off of.\n",
    "#A number of iterations of this were initially used when exploring the data\n",
    "#In the end it was decided to only use average values for those which have averages\n",
    "\n",
    "inputColumns = ['DIAMETER', 'PIPE_LENGTH','ROUGHNESS', 'FLOW', 'VELOCITY', 'HEADLOSS',\n",
    "       'HL1000', 'MAX_FLOW', 'MIN_FLOW', 'AVE_FLOW', 'MAX_VELOCITY',\n",
    "       'MIN_VELOCITY', 'AVE_VELOCITY', 'MAX_HEADLOSS', 'MIN_HEADLOSS',\n",
    "       'AVE_HEADLOSS', 'ELEVATION','RUN_ELEV', 'DEMAND',\n",
    "       'HEAD', 'PRESSURE', 'MAX_HEAD', 'MIN_HEAD', 'AVE_HEAD', 'MAX_PRESS',\n",
    "       'MIN_PRESS', 'AVE_PRESS', 'DIFF_PRESS','MATERIAL_AMTYT',\n",
    "       'MATERIAL_CI', 'MATERIAL_CO', 'MATERIAL_COP', 'MATERIAL_CPP',\n",
    "       'MATERIAL_Copper', 'MATERIAL_DEL', 'MATERIAL_DIP', 'MATERIAL_EARGEO',\n",
    "       'MATERIAL_GP', 'MATERIAL_HDPE', 'MATERIAL_L.J.', 'MATERIAL_M.J.',\n",
    "       'MATERIAL_MCW', 'MATERIAL_OTH', 'MATERIAL_PE', 'MATERIAL_PP',\n",
    "       'MATERIAL_PVC', 'MATERIAL_R.L.J.', 'MATERIAL_RCP', 'MATERIAL_SP',\n",
    "       'MATERIAL_ST', 'MATERIAL_T.D', 'MATERIAL_T.D.', 'MATERIAL_TTE',\n",
    "       'MATERIAL_TYT', 'MATERIAL_UNK', 'MATERIAL_W.I.','Age']"
   ]
  },
  {
   "cell_type": "code",
   "execution_count": 8,
   "metadata": {},
   "outputs": [],
   "source": [
    "#Split into training and testing sets\n",
    "X_train, X_test, y_train, y_test = train_test_split(pipes_df3[inputColumns],pipes_df3['FAILURE'],stratify=pipes_df3['FAILURE'],test_size = 0.3, random_state=42)\n",
    "\n",
    "#Make another split for y which uses the additional 'SUCCESS' column for use in neural network\n",
    "#Note: Using random state the X_train and X_test would be identical and so need not be kept\n",
    "_, _, y_train_2, y_test_2 = train_test_split(pipes_df3[inputColumns],pipes_df3[['FAILURE','SUCCESS']],stratify=pipes_df3['FAILURE'],test_size = 0.3, random_state=42)"
   ]
  },
  {
   "cell_type": "code",
   "execution_count": 9,
   "metadata": {},
   "outputs": [],
   "source": [
    "#Note: If we were to train and test on the split as it currently is, it will just guess that everything is an unbroken pipe\n",
    "#This is not desired behavior\n",
    "\n",
    "#Split X_train into a list of those where the pipes are broken and those which arent\n",
    "#Then, undersample those pipes which are unbroken to avoid bias\n",
    "X_train_false = X_train[y_train==0].sample(n=sum(y_train), random_state=42)\n",
    "X_train_true = X_train[y_train==1].sample(n=sum(y_train), random_state=42)\n",
    "\n",
    "#Recombine the sampled X_train into one list and keep only those y_train values corresponding to selected indices\n",
    "X_train_sampled = X_train_true.append(X_train_false)\n",
    "y_train_sampled = y_train.loc[X_train_sampled.index]\n",
    "y_train_sampled_2 = y_train_2.loc[X_train_sampled.index]\n",
    "\n",
    "#Apply min-max scalers to X\n",
    "#Note: applying min-max too early changed format of dataframe into a np.array and interfered with the sampling process\n",
    "X_minmax = MinMaxScaler().fit(X_train)\n",
    "X_train_minmax = X_minmax.transform(X_train_sampled)\n",
    "X_test_minmax = X_minmax.transform(X_test)"
   ]
  },
  {
   "cell_type": "markdown",
   "metadata": {},
   "source": [
    "## Logistic Regression"
   ]
  },
  {
   "cell_type": "code",
   "execution_count": 10,
   "metadata": {},
   "outputs": [
    {
     "data": {
      "text/plain": [
       "0.6892797319932998"
      ]
     },
     "execution_count": 10,
     "metadata": {},
     "output_type": "execute_result"
    }
   ],
   "source": [
    "#Set a logistic regression as a model\n",
    "lrmodel = LogisticRegression()\n",
    "lrmodel.fit(X_train_minmax,y_train_sampled)\n",
    "lrmodel.score(X_train_minmax,y_train_sampled)"
   ]
  },
  {
   "cell_type": "code",
   "execution_count": 12,
   "metadata": {},
   "outputs": [
    {
     "data": {
      "text/plain": [
       "0.701142585098786"
      ]
     },
     "execution_count": 12,
     "metadata": {},
     "output_type": "execute_result"
    }
   ],
   "source": [
    "lrmodel.score(X_test_minmax,y_test)"
   ]
  },
  {
   "cell_type": "code",
   "execution_count": 13,
   "metadata": {},
   "outputs": [
    {
     "data": {
      "text/plain": [
       "array([[11100,  4680],\n",
       "       [  342,   682]], dtype=int64)"
      ]
     },
     "execution_count": 13,
     "metadata": {},
     "output_type": "execute_result"
    }
   ],
   "source": [
    "confusion_matrix(y_test,lrmodel.predict(X_test_minmax))"
   ]
  },
  {
   "cell_type": "markdown",
   "metadata": {},
   "source": [
    "## Neural Network"
   ]
  },
  {
   "cell_type": "code",
   "execution_count": 12,
   "metadata": {},
   "outputs": [
    {
     "name": "stdout",
     "output_type": "stream",
     "text": [
      "Epoch 1/100\n",
      " - 1s - loss: 0.6586 - acc: 0.6074\n",
      "Epoch 2/100\n",
      " - 0s - loss: 0.6410 - acc: 0.6277\n",
      "Epoch 3/100\n",
      " - 0s - loss: 0.6306 - acc: 0.6413\n",
      "Epoch 4/100\n",
      " - 0s - loss: 0.6224 - acc: 0.6489\n",
      "Epoch 5/100\n",
      " - 0s - loss: 0.6120 - acc: 0.6619\n",
      "Epoch 6/100\n",
      " - 0s - loss: 0.6008 - acc: 0.6790\n",
      "Epoch 7/100\n",
      " - 0s - loss: 0.5971 - acc: 0.6786\n",
      "Epoch 8/100\n",
      " - 0s - loss: 0.5882 - acc: 0.6899\n",
      "Epoch 9/100\n",
      " - 0s - loss: 0.5823 - acc: 0.6960\n",
      "Epoch 10/100\n",
      " - 0s - loss: 0.5776 - acc: 0.7018\n",
      "Epoch 11/100\n",
      " - 0s - loss: 0.5699 - acc: 0.7127\n",
      "Epoch 12/100\n",
      " - 0s - loss: 0.5654 - acc: 0.7194\n",
      "Epoch 13/100\n",
      " - 0s - loss: 0.5616 - acc: 0.7131\n",
      "Epoch 14/100\n",
      " - 0s - loss: 0.5571 - acc: 0.7245\n",
      "Epoch 15/100\n",
      " - 0s - loss: 0.5570 - acc: 0.7240\n",
      "Epoch 16/100\n",
      " - 0s - loss: 0.5559 - acc: 0.7255\n",
      "Epoch 17/100\n",
      " - 0s - loss: 0.5500 - acc: 0.7265\n",
      "Epoch 18/100\n",
      " - 0s - loss: 0.5512 - acc: 0.7263\n",
      "Epoch 19/100\n",
      " - 0s - loss: 0.5493 - acc: 0.7240\n",
      "Epoch 20/100\n",
      " - 0s - loss: 0.5450 - acc: 0.7307\n",
      "Epoch 21/100\n",
      " - 0s - loss: 0.5456 - acc: 0.7255\n",
      "Epoch 22/100\n",
      " - 0s - loss: 0.5399 - acc: 0.7330\n",
      "Epoch 23/100\n",
      " - 0s - loss: 0.5358 - acc: 0.7399\n",
      "Epoch 24/100\n",
      " - 0s - loss: 0.5368 - acc: 0.7349\n",
      "Epoch 25/100\n",
      " - 0s - loss: 0.5353 - acc: 0.7368\n",
      "Epoch 26/100\n",
      " - 0s - loss: 0.5290 - acc: 0.7425\n",
      "Epoch 27/100\n",
      " - 0s - loss: 0.5279 - acc: 0.7425\n",
      "Epoch 28/100\n",
      " - 0s - loss: 0.5237 - acc: 0.7498\n",
      "Epoch 29/100\n",
      " - 0s - loss: 0.5230 - acc: 0.7504\n",
      "Epoch 30/100\n",
      " - 0s - loss: 0.5227 - acc: 0.7504\n",
      "Epoch 31/100\n",
      " - 0s - loss: 0.5164 - acc: 0.7517\n",
      "Epoch 32/100\n",
      " - 0s - loss: 0.5180 - acc: 0.7527\n",
      "Epoch 33/100\n",
      " - 0s - loss: 0.5159 - acc: 0.7506\n",
      "Epoch 34/100\n",
      " - 0s - loss: 0.5128 - acc: 0.7515\n",
      "Epoch 35/100\n",
      " - 0s - loss: 0.5081 - acc: 0.7552\n",
      "Epoch 36/100\n",
      " - 0s - loss: 0.5067 - acc: 0.7586\n",
      "Epoch 37/100\n",
      " - 0s - loss: 0.5012 - acc: 0.7640\n",
      "Epoch 38/100\n",
      " - 0s - loss: 0.5026 - acc: 0.7649\n",
      "Epoch 39/100\n",
      " - 0s - loss: 0.5002 - acc: 0.7653\n",
      "Epoch 40/100\n",
      " - 0s - loss: 0.4992 - acc: 0.7624\n",
      "Epoch 41/100\n",
      " - 0s - loss: 0.4968 - acc: 0.7678\n",
      "Epoch 42/100\n",
      " - 0s - loss: 0.4921 - acc: 0.7711\n",
      "Epoch 43/100\n",
      " - 0s - loss: 0.4911 - acc: 0.7720\n",
      "Epoch 44/100\n",
      " - 0s - loss: 0.4920 - acc: 0.7695\n",
      "Epoch 45/100\n",
      " - 0s - loss: 0.4864 - acc: 0.7743\n",
      "Epoch 46/100\n",
      " - 0s - loss: 0.4848 - acc: 0.7718\n",
      "Epoch 47/100\n",
      " - 0s - loss: 0.4822 - acc: 0.7745\n",
      "Epoch 48/100\n",
      " - 0s - loss: 0.4783 - acc: 0.7816\n",
      "Epoch 49/100\n",
      " - 0s - loss: 0.4828 - acc: 0.7758\n",
      "Epoch 50/100\n",
      " - 0s - loss: 0.4747 - acc: 0.7856\n",
      "Epoch 51/100\n",
      " - 0s - loss: 0.4773 - acc: 0.7797\n",
      "Epoch 52/100\n",
      " - 0s - loss: 0.4706 - acc: 0.7835\n",
      "Epoch 53/100\n",
      " - 0s - loss: 0.4691 - acc: 0.7827\n",
      "Epoch 54/100\n",
      " - 0s - loss: 0.4684 - acc: 0.7852\n",
      "Epoch 55/100\n",
      " - 0s - loss: 0.4653 - acc: 0.7875\n",
      "Epoch 56/100\n",
      " - 0s - loss: 0.4690 - acc: 0.7841\n",
      "Epoch 57/100\n",
      " - 0s - loss: 0.4622 - acc: 0.7883\n",
      "Epoch 58/100\n",
      " - 0s - loss: 0.4623 - acc: 0.7915\n",
      "Epoch 59/100\n",
      " - 0s - loss: 0.4593 - acc: 0.7866\n",
      "Epoch 60/100\n",
      " - 0s - loss: 0.4603 - acc: 0.7917\n",
      "Epoch 61/100\n",
      " - 0s - loss: 0.4575 - acc: 0.7877\n",
      "Epoch 62/100\n",
      " - 0s - loss: 0.4571 - acc: 0.7887\n",
      "Epoch 63/100\n",
      " - 0s - loss: 0.4570 - acc: 0.7902\n",
      "Epoch 64/100\n",
      " - 0s - loss: 0.4546 - acc: 0.7902\n",
      "Epoch 65/100\n",
      " - 0s - loss: 0.4526 - acc: 0.7946\n",
      "Epoch 66/100\n",
      " - 0s - loss: 0.4515 - acc: 0.7950\n",
      "Epoch 67/100\n",
      " - 0s - loss: 0.4515 - acc: 0.7938\n",
      "Epoch 68/100\n",
      " - 0s - loss: 0.4472 - acc: 0.7959\n",
      "Epoch 69/100\n",
      " - 0s - loss: 0.4460 - acc: 0.7975\n",
      "Epoch 70/100\n",
      " - 0s - loss: 0.4464 - acc: 0.7946\n",
      "Epoch 71/100\n",
      " - 0s - loss: 0.4430 - acc: 0.7933\n",
      "Epoch 72/100\n",
      " - 0s - loss: 0.4445 - acc: 0.7938\n",
      "Epoch 73/100\n",
      " - 0s - loss: 0.4428 - acc: 0.7948\n",
      "Epoch 74/100\n",
      " - 0s - loss: 0.4451 - acc: 0.7988\n",
      "Epoch 75/100\n",
      " - 0s - loss: 0.4388 - acc: 0.7969\n",
      "Epoch 76/100\n",
      " - 0s - loss: 0.4416 - acc: 0.7990\n",
      "Epoch 77/100\n",
      " - 0s - loss: 0.4397 - acc: 0.7998\n",
      "Epoch 78/100\n",
      " - 0s - loss: 0.4400 - acc: 0.7984\n",
      "Epoch 79/100\n",
      " - 0s - loss: 0.4423 - acc: 0.7952\n",
      "Epoch 80/100\n",
      " - 0s - loss: 0.4411 - acc: 0.7942\n",
      "Epoch 81/100\n",
      " - 0s - loss: 0.4351 - acc: 0.8063\n",
      "Epoch 82/100\n",
      " - 0s - loss: 0.4399 - acc: 0.7982\n",
      "Epoch 83/100\n",
      " - 0s - loss: 0.4353 - acc: 0.7940\n",
      "Epoch 84/100\n",
      " - 0s - loss: 0.4386 - acc: 0.7990\n",
      "Epoch 85/100\n",
      " - 0s - loss: 0.4312 - acc: 0.8044\n",
      "Epoch 86/100\n",
      " - 0s - loss: 0.4319 - acc: 0.7988\n",
      "Epoch 87/100\n",
      " - 0s - loss: 0.4344 - acc: 0.7959\n",
      "Epoch 88/100\n",
      " - 0s - loss: 0.4318 - acc: 0.8038\n",
      "Epoch 89/100\n",
      " - 0s - loss: 0.4314 - acc: 0.7994\n",
      "Epoch 90/100\n",
      " - 0s - loss: 0.4302 - acc: 0.8000\n",
      "Epoch 91/100\n",
      " - 0s - loss: 0.4295 - acc: 0.8023\n",
      "Epoch 92/100\n",
      " - 0s - loss: 0.4266 - acc: 0.8015\n",
      "Epoch 93/100\n",
      " - 0s - loss: 0.4271 - acc: 0.8034\n",
      "Epoch 94/100\n",
      " - 0s - loss: 0.4301 - acc: 0.7982\n",
      "Epoch 95/100\n",
      " - 0s - loss: 0.4297 - acc: 0.8053\n",
      "Epoch 96/100\n",
      " - 0s - loss: 0.4289 - acc: 0.8017\n",
      "Epoch 97/100\n",
      " - 0s - loss: 0.4244 - acc: 0.8053\n",
      "Epoch 98/100\n",
      " - 0s - loss: 0.4257 - acc: 0.8095\n",
      "Epoch 99/100\n",
      " - 0s - loss: 0.4258 - acc: 0.8030\n",
      "Epoch 100/100\n",
      " - 0s - loss: 0.4277 - acc: 0.8026\n"
     ]
    },
    {
     "data": {
      "text/plain": [
       "<keras.callbacks.History at 0x26612ac0630>"
      ]
     },
     "execution_count": 12,
     "metadata": {},
     "output_type": "execute_result"
    }
   ],
   "source": [
    "#Add a shallow neural network\n",
    "nnmodel = Sequential()\n",
    "\n",
    "#Add layers\n",
    "nnmodel.add(Dense(100, activation='relu', input_dim=X_train_minmax.shape[1]))\n",
    "nnmodel.add(Dense(2,activation = 'softmax'))\n",
    "\n",
    "#Compile\n",
    "nnmodel.compile(loss=\"categorical_crossentropy\",\n",
    "              optimizer=\"adam\", metrics=['accuracy'])\n",
    "\n",
    "#Fit the training model to the data\n",
    "nnmodel.fit(\n",
    "    X_train_minmax,\n",
    "    y_train_sampled_2,\n",
    "    epochs=100,\n",
    "    shuffle=True,\n",
    "    verbose=2\n",
    ")"
   ]
  },
  {
   "cell_type": "code",
   "execution_count": 13,
   "metadata": {},
   "outputs": [
    {
     "name": "stdout",
     "output_type": "stream",
     "text": [
      "Loss: 0.4486992735858192, Accuracy: 0.8023089740537968\n"
     ]
    }
   ],
   "source": [
    "nnmodel_loss, nnmodel_accuracy = nnmodel.evaluate(X_test_minmax, y_test_2, verbose=2)\n",
    "print(f\"Loss: {nnmodel_loss}, Accuracy: {nnmodel_accuracy}\")"
   ]
  },
  {
   "cell_type": "markdown",
   "metadata": {},
   "source": [
    "## Random Forests"
   ]
  },
  {
   "cell_type": "markdown",
   "metadata": {},
   "source": [
    "### Decide on number of estimators to use"
   ]
  },
  {
   "cell_type": "code",
   "execution_count": 14,
   "metadata": {},
   "outputs": [
    {
     "name": "stdout",
     "output_type": "stream",
     "text": [
      "Fitting 3 folds for each of 5 candidates, totalling 15 fits\n",
      "[CV] n_estimators=20 .................................................\n"
     ]
    },
    {
     "name": "stderr",
     "output_type": "stream",
     "text": [
      "[Parallel(n_jobs=1)]: Done   1 out of   1 | elapsed:    1.3s remaining:    0.0s\n"
     ]
    },
    {
     "name": "stdout",
     "output_type": "stream",
     "text": [
      "[CV] ...................... n_estimators=20, score=0.75, total=   1.2s\n",
      "[CV] n_estimators=20 .................................................\n",
      "[CV] ........ n_estimators=20, score=0.7456030150753769, total=   1.0s\n",
      "[CV] n_estimators=20 .................................................\n"
     ]
    },
    {
     "name": "stderr",
     "output_type": "stream",
     "text": [
      "[Parallel(n_jobs=1)]: Done   2 out of   2 | elapsed:    2.5s remaining:    0.0s\n"
     ]
    },
    {
     "name": "stdout",
     "output_type": "stream",
     "text": [
      "[CV] ........ n_estimators=20, score=0.7788944723618091, total=   0.9s\n",
      "[CV] n_estimators=50 .................................................\n",
      "[CV] ........ n_estimators=50, score=0.7638190954773869, total=   2.8s\n",
      "[CV] n_estimators=50 .................................................\n",
      "[CV] ........ n_estimators=50, score=0.7807788944723618, total=   2.4s\n",
      "[CV] n_estimators=50 .................................................\n",
      "[CV] ........ n_estimators=50, score=0.7788944723618091, total=   3.1s\n",
      "[CV] n_estimators=100 ................................................\n",
      "[CV] ....... n_estimators=100, score=0.7619346733668342, total=   4.7s\n",
      "[CV] n_estimators=100 ................................................\n",
      "[CV] ....... n_estimators=100, score=0.7726130653266332, total=   4.1s\n",
      "[CV] n_estimators=100 ................................................\n",
      "[CV] ....... n_estimators=100, score=0.7701005025125628, total=   5.3s\n",
      "[CV] n_estimators=200 ................................................\n",
      "[CV] ....... n_estimators=200, score=0.7594221105527639, total=   9.4s\n",
      "[CV] n_estimators=200 ................................................\n",
      "[CV] ....... n_estimators=200, score=0.7713567839195979, total=   9.2s\n",
      "[CV] n_estimators=200 ................................................\n",
      "[CV] ........ n_estimators=200, score=0.782035175879397, total=   8.7s\n",
      "[CV] n_estimators=300 ................................................\n",
      "[CV] ....... n_estimators=300, score=0.7581658291457286, total=  11.7s\n",
      "[CV] n_estimators=300 ................................................\n",
      "[CV] ....... n_estimators=300, score=0.7707286432160804, total=  16.3s\n",
      "[CV] n_estimators=300 ................................................\n",
      "[CV] ....... n_estimators=300, score=0.7933417085427136, total=  15.0s\n"
     ]
    },
    {
     "name": "stderr",
     "output_type": "stream",
     "text": [
      "[Parallel(n_jobs=1)]: Done  15 out of  15 | elapsed:  1.7min finished\n"
     ]
    },
    {
     "data": {
      "text/plain": [
       "GridSearchCV(cv=None, error_score='raise',\n",
       "       estimator=RandomForestClassifier(bootstrap=True, class_weight=None, criterion='gini',\n",
       "            max_depth=None, max_features='auto', max_leaf_nodes=None,\n",
       "            min_impurity_decrease=0.0, min_impurity_split=None,\n",
       "            min_samples_leaf=1, min_samples_split=2,\n",
       "            min_weight_fraction_leaf=0.0, n_estimators=10, n_jobs=1,\n",
       "            oob_score=False, random_state=None, verbose=0,\n",
       "            warm_start=False),\n",
       "       fit_params=None, iid=True, n_jobs=1,\n",
       "       param_grid={'n_estimators': [20, 50, 100, 200, 300]},\n",
       "       pre_dispatch='2*n_jobs', refit=True, return_train_score='warn',\n",
       "       scoring=None, verbose=3)"
      ]
     },
     "execution_count": 14,
     "metadata": {},
     "output_type": "execute_result"
    }
   ],
   "source": [
    "#Load a Random Forest model\n",
    "model = RandomForestClassifier()\n",
    "\n",
    "#Set a parameter grid\n",
    "#Only real parameters we needed to check was the number of estimators\n",
    "param_grid = {'n_estimators': [20,50,100,200,300]}\n",
    "grid = GridSearchCV(model, param_grid, verbose=3)\n",
    "\n",
    "#Fit the grid\n",
    "grid.fit(X_train_minmax,y_train_sampled)"
   ]
  },
  {
   "cell_type": "code",
   "execution_count": 16,
   "metadata": {},
   "outputs": [
    {
     "name": "stdout",
     "output_type": "stream",
     "text": [
      "The best score was 0.8045108307545823\n",
      "The best parameters were {'n_estimators': 50}\n"
     ]
    }
   ],
   "source": [
    "#Find the best score and best parameters\n",
    "print(f'The best score was {grid.score(X_test_minmax,y_test)}\\nThe best parameters were {grid.best_params_}')"
   ]
  },
  {
   "cell_type": "code",
   "execution_count": 17,
   "metadata": {},
   "outputs": [
    {
     "name": "stdout",
     "output_type": "stream",
     "text": [
      "             precision    recall  f1-score   support\n",
      "\n",
      "          0       0.98      0.81      0.89     15780\n",
      "          1       0.20      0.77      0.32      1024\n",
      "\n",
      "avg / total       0.93      0.80      0.85     16804\n",
      "\n"
     ]
    }
   ],
   "source": [
    "#Take a look at classification report to confirm that the model is ideal\n",
    "print(classification_report(y_test, grid.predict(X_test_minmax)))"
   ]
  },
  {
   "cell_type": "code",
   "execution_count": 18,
   "metadata": {},
   "outputs": [
    {
     "data": {
      "text/plain": [
       "array([[12734,  3046],\n",
       "       [  239,   785]], dtype=int64)"
      ]
     },
     "execution_count": 18,
     "metadata": {},
     "output_type": "execute_result"
    }
   ],
   "source": [
    "#Take a look at the confusion matrix to confirm that there is no unintended behavior (e.g. only guessing unbroken)\n",
    "confusion_matrix(y_test, grid.predict(X_test_minmax))"
   ]
  },
  {
   "cell_type": "markdown",
   "metadata": {},
   "source": [
    "# Performing deeper analysis with Random Forests"
   ]
  },
  {
   "cell_type": "code",
   "execution_count": 19,
   "metadata": {},
   "outputs": [],
   "source": [
    "#Apply cross validation so as to have percentage predictions for all data points without bias towards training data\n",
    "cv = StratifiedKFold(n_splits=5, shuffle=True, random_state=42)\n",
    "split = cv.split(pipes_df3[inputColumns],pipes_df3['FAILURE'])\n",
    "rfmodel = RandomForestClassifier(n_estimators=300, random_state=42)"
   ]
  },
  {
   "cell_type": "code",
   "execution_count": 20,
   "metadata": {},
   "outputs": [],
   "source": [
    "#Create new column for use in displaying results of analysis to be filled in later\n",
    "#Final results will be stored in final_df\n",
    "scores = []\n",
    "final_df = pipes_df3\n",
    "final_df['BurstChance'] = 0\n",
    "confusion = []"
   ]
  },
  {
   "cell_type": "code",
   "execution_count": 21,
   "metadata": {},
   "outputs": [
    {
     "name": "stdout",
     "output_type": "stream",
     "text": [
      "[[8425 2095]\n",
      " [ 119  564]]\n"
     ]
    },
    {
     "name": "stderr",
     "output_type": "stream",
     "text": [
      "C:\\Users\\Amy Perez\\Anaconda3\\lib\\site-packages\\pandas\\core\\indexing.py:189: SettingWithCopyWarning: \n",
      "A value is trying to be set on a copy of a slice from a DataFrame\n",
      "\n",
      "See the caveats in the documentation: http://pandas.pydata.org/pandas-docs/stable/indexing.html#indexing-view-versus-copy\n",
      "  self._setitem_with_indexer(indexer, value)\n"
     ]
    },
    {
     "name": "stdout",
     "output_type": "stream",
     "text": [
      "[[8460 2060]\n",
      " [ 134  549]]\n"
     ]
    },
    {
     "name": "stderr",
     "output_type": "stream",
     "text": [
      "C:\\Users\\Amy Perez\\Anaconda3\\lib\\site-packages\\pandas\\core\\indexing.py:189: SettingWithCopyWarning: \n",
      "A value is trying to be set on a copy of a slice from a DataFrame\n",
      "\n",
      "See the caveats in the documentation: http://pandas.pydata.org/pandas-docs/stable/indexing.html#indexing-view-versus-copy\n",
      "  self._setitem_with_indexer(indexer, value)\n"
     ]
    },
    {
     "name": "stdout",
     "output_type": "stream",
     "text": [
      "[[8468 2052]\n",
      " [ 129  553]]\n"
     ]
    },
    {
     "name": "stderr",
     "output_type": "stream",
     "text": [
      "C:\\Users\\Amy Perez\\Anaconda3\\lib\\site-packages\\pandas\\core\\indexing.py:189: SettingWithCopyWarning: \n",
      "A value is trying to be set on a copy of a slice from a DataFrame\n",
      "\n",
      "See the caveats in the documentation: http://pandas.pydata.org/pandas-docs/stable/indexing.html#indexing-view-versus-copy\n",
      "  self._setitem_with_indexer(indexer, value)\n"
     ]
    },
    {
     "name": "stdout",
     "output_type": "stream",
     "text": [
      "[[8328 2192]\n",
      " [ 127  555]]\n"
     ]
    },
    {
     "name": "stderr",
     "output_type": "stream",
     "text": [
      "C:\\Users\\Amy Perez\\Anaconda3\\lib\\site-packages\\pandas\\core\\indexing.py:189: SettingWithCopyWarning: \n",
      "A value is trying to be set on a copy of a slice from a DataFrame\n",
      "\n",
      "See the caveats in the documentation: http://pandas.pydata.org/pandas-docs/stable/indexing.html#indexing-view-versus-copy\n",
      "  self._setitem_with_indexer(indexer, value)\n"
     ]
    },
    {
     "name": "stdout",
     "output_type": "stream",
     "text": [
      "[[8436 2084]\n",
      " [ 150  532]]\n"
     ]
    },
    {
     "name": "stderr",
     "output_type": "stream",
     "text": [
      "C:\\Users\\Amy Perez\\Anaconda3\\lib\\site-packages\\pandas\\core\\indexing.py:189: SettingWithCopyWarning: \n",
      "A value is trying to be set on a copy of a slice from a DataFrame\n",
      "\n",
      "See the caveats in the documentation: http://pandas.pydata.org/pandas-docs/stable/indexing.html#indexing-view-versus-copy\n",
      "  self._setitem_with_indexer(indexer, value)\n"
     ]
    }
   ],
   "source": [
    "#For each train-test split from our crossvalidation, run the same type of analysis as before\n",
    "for train_idx, test_idx in cv.split(pipes_df3[inputColumns],pipes_df3['FAILURE']):\n",
    "    Current_X_train = pipes_df3[inputColumns].loc[train_idx]\n",
    "    Current_X_test = pipes_df3[inputColumns].loc[test_idx]\n",
    "    Current_y_train = pipes_df3['FAILURE'].loc[train_idx]\n",
    "    Current_y_test = pipes_df3['FAILURE'].loc[test_idx]\n",
    "    \n",
    "    \n",
    "    #Undersample training data as before\n",
    "    Current_X_train_false = Current_X_train[Current_y_train==0].sample(n=sum(Current_y_train))\n",
    "    Current_X_train_true = Current_X_train[Current_y_train==1].sample(n=sum(Current_y_train))\n",
    "    \n",
    "    Current_X_train_sampled = Current_X_train_true.append(Current_X_train_false)\n",
    "    Current_y_train_sampled = Current_y_train.loc[Current_X_train_sampled.index]\n",
    "    \n",
    "    Current_X_minmax = MinMaxScaler().fit(Current_X_train)\n",
    "    Current_X_train_minmax = Current_X_minmax.transform(Current_X_train_sampled)\n",
    "    Current_X_test_minmax = Current_X_minmax.transform(Current_X_test)\n",
    "\n",
    "    \n",
    "    rfmodel.fit(Current_X_train_minmax, Current_y_train_sampled)\n",
    "    score = rfmodel.score(Current_X_test_minmax, Current_y_test)\n",
    "    scores.append(score)\n",
    "    currentconfusion = confusion_matrix(Current_y_test,rfmodel.predict(Current_X_test_minmax))\n",
    "    print(currentconfusion)\n",
    "    confusion.append([currentconfusion[0][0],currentconfusion[0][1],currentconfusion[1][0],currentconfusion[1][1]])\n",
    "    \n",
    "    #Store prediction probabilities into final_df\n",
    "    final_df['BurstChance'].loc[test_idx] = [x[1] for x in list(rfmodel.predict_proba(Current_X_test_minmax))]\n"
   ]
  },
  {
   "cell_type": "code",
   "execution_count": 22,
   "metadata": {},
   "outputs": [],
   "source": [
    "#Look at combined confusion matrix\n",
    "truepositive = confusion[0][0] + confusion[1][0]+confusion[2][0]+confusion[3][0]+confusion[4][0]\n",
    "falsenegative = confusion[0][1] + confusion[1][1]+confusion[2][1]+confusion[3][1]+confusion[4][1]\n",
    "falsepositive = confusion[0][2] + confusion[1][2]+confusion[2][2]+confusion[3][2]+confusion[4][2]\n",
    "truenegative = confusion[0][3] + confusion[1][3]+confusion[2][3]+confusion[3][3]+confusion[4][3]\n"
   ]
  },
  {
   "cell_type": "code",
   "execution_count": 23,
   "metadata": {},
   "outputs": [
    {
     "name": "stdout",
     "output_type": "stream",
     "text": [
      "[[42117, 10483]\n",
      "[659, 2753]]\n"
     ]
    }
   ],
   "source": [
    "print(f'[{[truepositive, falsenegative]}\\n{[falsepositive,truenegative]}]')"
   ]
  },
  {
   "cell_type": "code",
   "execution_count": 24,
   "metadata": {},
   "outputs": [
    {
     "data": {
      "text/plain": [
       "[0.8023743640096402,\n",
       " 0.8041596001071142,\n",
       " 0.8053026245313337,\n",
       " 0.7929833958221746,\n",
       " 0.8005713265488306]"
      ]
     },
     "execution_count": 24,
     "metadata": {},
     "output_type": "execute_result"
    }
   ],
   "source": [
    "#Look at final scores for each\n",
    "scores"
   ]
  },
  {
   "cell_type": "code",
   "execution_count": 25,
   "metadata": {},
   "outputs": [
    {
     "data": {
      "text/html": [
       "<div>\n",
       "<style scoped>\n",
       "    .dataframe tbody tr th:only-of-type {\n",
       "        vertical-align: middle;\n",
       "    }\n",
       "\n",
       "    .dataframe tbody tr th {\n",
       "        vertical-align: top;\n",
       "    }\n",
       "\n",
       "    .dataframe thead th {\n",
       "        text-align: right;\n",
       "    }\n",
       "</style>\n",
       "<table border=\"1\" class=\"dataframe\">\n",
       "  <thead>\n",
       "    <tr style=\"text-align: right;\">\n",
       "      <th></th>\n",
       "      <th>BurstChance</th>\n",
       "      <th>FID</th>\n",
       "      <th>MOID</th>\n",
       "      <th>DIAMETER</th>\n",
       "      <th>PIPE_LENGTH</th>\n",
       "      <th>ROUGHNESS</th>\n",
       "      <th>FLOW</th>\n",
       "      <th>VELOCITY</th>\n",
       "      <th>HEADLOSS</th>\n",
       "      <th>HL1000</th>\n",
       "      <th>...</th>\n",
       "      <th>MATERIAL_RCP</th>\n",
       "      <th>MATERIAL_SP</th>\n",
       "      <th>MATERIAL_ST</th>\n",
       "      <th>MATERIAL_T.D</th>\n",
       "      <th>MATERIAL_T.D.</th>\n",
       "      <th>MATERIAL_TTE</th>\n",
       "      <th>MATERIAL_TYT</th>\n",
       "      <th>MATERIAL_UNK</th>\n",
       "      <th>MATERIAL_W.I.</th>\n",
       "      <th>Age</th>\n",
       "    </tr>\n",
       "  </thead>\n",
       "  <tbody>\n",
       "    <tr>\n",
       "      <th>32757</th>\n",
       "      <td>0.966667</td>\n",
       "      <td>12184</td>\n",
       "      <td>P29259</td>\n",
       "      <td>6.0</td>\n",
       "      <td>565.147169</td>\n",
       "      <td>84</td>\n",
       "      <td>40.2327</td>\n",
       "      <td>0.4565</td>\n",
       "      <td>0.2451</td>\n",
       "      <td>0.4337</td>\n",
       "      <td>...</td>\n",
       "      <td>0</td>\n",
       "      <td>0</td>\n",
       "      <td>0</td>\n",
       "      <td>0</td>\n",
       "      <td>0</td>\n",
       "      <td>0</td>\n",
       "      <td>0</td>\n",
       "      <td>0</td>\n",
       "      <td>0</td>\n",
       "      <td>52</td>\n",
       "    </tr>\n",
       "    <tr>\n",
       "      <th>29863</th>\n",
       "      <td>0.960000</td>\n",
       "      <td>18278</td>\n",
       "      <td>P52337</td>\n",
       "      <td>6.0</td>\n",
       "      <td>656.275538</td>\n",
       "      <td>84</td>\n",
       "      <td>2.2905</td>\n",
       "      <td>0.0260</td>\n",
       "      <td>0.0013</td>\n",
       "      <td>0.0020</td>\n",
       "      <td>...</td>\n",
       "      <td>0</td>\n",
       "      <td>0</td>\n",
       "      <td>0</td>\n",
       "      <td>0</td>\n",
       "      <td>0</td>\n",
       "      <td>0</td>\n",
       "      <td>0</td>\n",
       "      <td>0</td>\n",
       "      <td>0</td>\n",
       "      <td>60</td>\n",
       "    </tr>\n",
       "    <tr>\n",
       "      <th>55116</th>\n",
       "      <td>0.960000</td>\n",
       "      <td>19747</td>\n",
       "      <td>P50077</td>\n",
       "      <td>6.0</td>\n",
       "      <td>847.919534</td>\n",
       "      <td>121</td>\n",
       "      <td>29.4955</td>\n",
       "      <td>0.3347</td>\n",
       "      <td>0.1052</td>\n",
       "      <td>0.1241</td>\n",
       "      <td>...</td>\n",
       "      <td>0</td>\n",
       "      <td>0</td>\n",
       "      <td>0</td>\n",
       "      <td>0</td>\n",
       "      <td>0</td>\n",
       "      <td>0</td>\n",
       "      <td>0</td>\n",
       "      <td>1</td>\n",
       "      <td>0</td>\n",
       "      <td>51</td>\n",
       "    </tr>\n",
       "    <tr>\n",
       "      <th>1913</th>\n",
       "      <td>0.960000</td>\n",
       "      <td>10000</td>\n",
       "      <td>P29568</td>\n",
       "      <td>6.0</td>\n",
       "      <td>536.392085</td>\n",
       "      <td>39</td>\n",
       "      <td>11.6671</td>\n",
       "      <td>0.1324</td>\n",
       "      <td>0.0973</td>\n",
       "      <td>0.1814</td>\n",
       "      <td>...</td>\n",
       "      <td>0</td>\n",
       "      <td>0</td>\n",
       "      <td>0</td>\n",
       "      <td>0</td>\n",
       "      <td>0</td>\n",
       "      <td>0</td>\n",
       "      <td>0</td>\n",
       "      <td>0</td>\n",
       "      <td>0</td>\n",
       "      <td>82</td>\n",
       "    </tr>\n",
       "    <tr>\n",
       "      <th>53977</th>\n",
       "      <td>0.960000</td>\n",
       "      <td>17100</td>\n",
       "      <td>P51125</td>\n",
       "      <td>6.0</td>\n",
       "      <td>331.339401</td>\n",
       "      <td>39</td>\n",
       "      <td>13.6345</td>\n",
       "      <td>0.1547</td>\n",
       "      <td>0.0802</td>\n",
       "      <td>0.2420</td>\n",
       "      <td>...</td>\n",
       "      <td>0</td>\n",
       "      <td>0</td>\n",
       "      <td>0</td>\n",
       "      <td>0</td>\n",
       "      <td>0</td>\n",
       "      <td>0</td>\n",
       "      <td>0</td>\n",
       "      <td>1</td>\n",
       "      <td>0</td>\n",
       "      <td>86</td>\n",
       "    </tr>\n",
       "    <tr>\n",
       "      <th>2018</th>\n",
       "      <td>0.956667</td>\n",
       "      <td>28728</td>\n",
       "      <td>P38796</td>\n",
       "      <td>6.0</td>\n",
       "      <td>425.384105</td>\n",
       "      <td>39</td>\n",
       "      <td>31.5878</td>\n",
       "      <td>0.3584</td>\n",
       "      <td>0.4880</td>\n",
       "      <td>1.1473</td>\n",
       "      <td>...</td>\n",
       "      <td>0</td>\n",
       "      <td>0</td>\n",
       "      <td>0</td>\n",
       "      <td>0</td>\n",
       "      <td>0</td>\n",
       "      <td>0</td>\n",
       "      <td>0</td>\n",
       "      <td>0</td>\n",
       "      <td>0</td>\n",
       "      <td>80</td>\n",
       "    </tr>\n",
       "    <tr>\n",
       "      <th>1985</th>\n",
       "      <td>0.956667</td>\n",
       "      <td>9505</td>\n",
       "      <td>P33450</td>\n",
       "      <td>6.0</td>\n",
       "      <td>644.597451</td>\n",
       "      <td>39</td>\n",
       "      <td>15.5969</td>\n",
       "      <td>0.1770</td>\n",
       "      <td>0.2002</td>\n",
       "      <td>0.3106</td>\n",
       "      <td>...</td>\n",
       "      <td>0</td>\n",
       "      <td>0</td>\n",
       "      <td>0</td>\n",
       "      <td>0</td>\n",
       "      <td>0</td>\n",
       "      <td>0</td>\n",
       "      <td>0</td>\n",
       "      <td>0</td>\n",
       "      <td>0</td>\n",
       "      <td>80</td>\n",
       "    </tr>\n",
       "    <tr>\n",
       "      <th>39019</th>\n",
       "      <td>0.956667</td>\n",
       "      <td>18254</td>\n",
       "      <td>P52004</td>\n",
       "      <td>6.0</td>\n",
       "      <td>450.160677</td>\n",
       "      <td>121</td>\n",
       "      <td>2.1036</td>\n",
       "      <td>0.0239</td>\n",
       "      <td>0.0004</td>\n",
       "      <td>0.0008</td>\n",
       "      <td>...</td>\n",
       "      <td>0</td>\n",
       "      <td>0</td>\n",
       "      <td>0</td>\n",
       "      <td>0</td>\n",
       "      <td>1</td>\n",
       "      <td>0</td>\n",
       "      <td>0</td>\n",
       "      <td>0</td>\n",
       "      <td>0</td>\n",
       "      <td>46</td>\n",
       "    </tr>\n",
       "    <tr>\n",
       "      <th>2080</th>\n",
       "      <td>0.953333</td>\n",
       "      <td>19705</td>\n",
       "      <td>P39470</td>\n",
       "      <td>6.0</td>\n",
       "      <td>554.608068</td>\n",
       "      <td>39</td>\n",
       "      <td>13.0873</td>\n",
       "      <td>0.1485</td>\n",
       "      <td>0.1245</td>\n",
       "      <td>0.2245</td>\n",
       "      <td>...</td>\n",
       "      <td>0</td>\n",
       "      <td>0</td>\n",
       "      <td>0</td>\n",
       "      <td>0</td>\n",
       "      <td>0</td>\n",
       "      <td>0</td>\n",
       "      <td>0</td>\n",
       "      <td>0</td>\n",
       "      <td>0</td>\n",
       "      <td>79</td>\n",
       "    </tr>\n",
       "    <tr>\n",
       "      <th>2254</th>\n",
       "      <td>0.953333</td>\n",
       "      <td>17720</td>\n",
       "      <td>P45010</td>\n",
       "      <td>6.0</td>\n",
       "      <td>321.106136</td>\n",
       "      <td>39</td>\n",
       "      <td>22.2302</td>\n",
       "      <td>0.2522</td>\n",
       "      <td>0.1923</td>\n",
       "      <td>0.5987</td>\n",
       "      <td>...</td>\n",
       "      <td>0</td>\n",
       "      <td>0</td>\n",
       "      <td>0</td>\n",
       "      <td>0</td>\n",
       "      <td>0</td>\n",
       "      <td>0</td>\n",
       "      <td>0</td>\n",
       "      <td>0</td>\n",
       "      <td>0</td>\n",
       "      <td>77</td>\n",
       "    </tr>\n",
       "  </tbody>\n",
       "</table>\n",
       "<p>10 rows × 60 columns</p>\n",
       "</div>"
      ],
      "text/plain": [
       "       BurstChance    FID    MOID  DIAMETER  PIPE_LENGTH  ROUGHNESS     FLOW  \\\n",
       "32757     0.966667  12184  P29259       6.0   565.147169         84  40.2327   \n",
       "29863     0.960000  18278  P52337       6.0   656.275538         84   2.2905   \n",
       "55116     0.960000  19747  P50077       6.0   847.919534        121  29.4955   \n",
       "1913      0.960000  10000  P29568       6.0   536.392085         39  11.6671   \n",
       "53977     0.960000  17100  P51125       6.0   331.339401         39  13.6345   \n",
       "2018      0.956667  28728  P38796       6.0   425.384105         39  31.5878   \n",
       "1985      0.956667   9505  P33450       6.0   644.597451         39  15.5969   \n",
       "39019     0.956667  18254  P52004       6.0   450.160677        121   2.1036   \n",
       "2080      0.953333  19705  P39470       6.0   554.608068         39  13.0873   \n",
       "2254      0.953333  17720  P45010       6.0   321.106136         39  22.2302   \n",
       "\n",
       "       VELOCITY  HEADLOSS  HL1000 ...   MATERIAL_RCP  MATERIAL_SP  \\\n",
       "32757    0.4565    0.2451  0.4337 ...              0            0   \n",
       "29863    0.0260    0.0013  0.0020 ...              0            0   \n",
       "55116    0.3347    0.1052  0.1241 ...              0            0   \n",
       "1913     0.1324    0.0973  0.1814 ...              0            0   \n",
       "53977    0.1547    0.0802  0.2420 ...              0            0   \n",
       "2018     0.3584    0.4880  1.1473 ...              0            0   \n",
       "1985     0.1770    0.2002  0.3106 ...              0            0   \n",
       "39019    0.0239    0.0004  0.0008 ...              0            0   \n",
       "2080     0.1485    0.1245  0.2245 ...              0            0   \n",
       "2254     0.2522    0.1923  0.5987 ...              0            0   \n",
       "\n",
       "       MATERIAL_ST  MATERIAL_T.D  MATERIAL_T.D.  MATERIAL_TTE  MATERIAL_TYT  \\\n",
       "32757            0             0              0             0             0   \n",
       "29863            0             0              0             0             0   \n",
       "55116            0             0              0             0             0   \n",
       "1913             0             0              0             0             0   \n",
       "53977            0             0              0             0             0   \n",
       "2018             0             0              0             0             0   \n",
       "1985             0             0              0             0             0   \n",
       "39019            0             0              1             0             0   \n",
       "2080             0             0              0             0             0   \n",
       "2254             0             0              0             0             0   \n",
       "\n",
       "       MATERIAL_UNK  MATERIAL_W.I.  Age  \n",
       "32757             0              0   52  \n",
       "29863             0              0   60  \n",
       "55116             1              0   51  \n",
       "1913              0              0   82  \n",
       "53977             1              0   86  \n",
       "2018              0              0   80  \n",
       "1985              0              0   80  \n",
       "39019             0              0   46  \n",
       "2080              0              0   79  \n",
       "2254              0              0   77  \n",
       "\n",
       "[10 rows x 60 columns]"
      ]
     },
     "execution_count": 25,
     "metadata": {},
     "output_type": "execute_result"
    }
   ],
   "source": [
    "#Output top ten most likely pipes to burst which are currently unbroken according to our model\n",
    "final_df[['BurstChance','FID','MOID'] + inputColumns].loc[final_df['FAILURE']==0].sort_values('BurstChance', ascending=False).head(10)"
   ]
  },
  {
   "cell_type": "code",
   "execution_count": 26,
   "metadata": {},
   "outputs": [
    {
     "name": "stdout",
     "output_type": "stream",
     "text": [
      "[(0.0894, 'PIPE_LENGTH'), (0.0794, 'Age'), (0.0414, 'MAX_HEAD'), (0.0377, 'MIN_HEAD'), (0.0366, 'DEMAND'), (0.0357, 'MAX_HEADLOSS'), (0.0357, 'HEAD'), (0.0353, 'AVE_HEAD'), (0.035, 'AVE_HEADLOSS'), (0.0334, 'ROUGHNESS'), (0.0322, 'DIFF_PRESS'), (0.029, 'HEADLOSS'), (0.0288, 'MIN_PRESS'), (0.0286, 'MAX_FLOW'), (0.0282, 'FLOW'), (0.0276, 'MAX_VELOCITY'), (0.0275, 'MIN_FLOW'), (0.0275, 'AVE_FLOW'), (0.0269, 'DIAMETER'), (0.0267, 'ELEVATION'), (0.0267, 'AVE_PRESS'), (0.0264, 'RUN_ELEV'), (0.0261, 'AVE_VELOCITY'), (0.026, 'MIN_VELOCITY'), (0.0254, 'MAX_PRESS'), (0.0252, 'VELOCITY'), (0.0248, 'PRESSURE'), (0.0246, 'HL1000'), (0.0239, 'MIN_HEADLOSS'), (0.0069, 'MATERIAL_T.D.'), (0.0068, 'MATERIAL_M.J.'), (0.0049, 'MATERIAL_DIP'), (0.0032, 'MATERIAL_TYT'), (0.0017, 'MATERIAL_L.J.'), (0.0017, 'MATERIAL_DEL'), (0.001, 'MATERIAL_UNK'), (0.0006, 'MATERIAL_W.I.'), (0.0005, 'MATERIAL_CPP'), (0.0003, 'MATERIAL_CO'), (0.0002, 'MATERIAL_ST'), (0.0002, 'MATERIAL_OTH'), (0.0002, 'MATERIAL_CI'), (0.0001, 'MATERIAL_MCW'), (0.0, 'MATERIAL_TTE'), (0.0, 'MATERIAL_T.D'), (0.0, 'MATERIAL_SP'), (0.0, 'MATERIAL_RCP'), (0.0, 'MATERIAL_R.L.J.'), (0.0, 'MATERIAL_PVC'), (0.0, 'MATERIAL_PP'), (0.0, 'MATERIAL_PE'), (0.0, 'MATERIAL_HDPE'), (0.0, 'MATERIAL_GP'), (0.0, 'MATERIAL_EARGEO'), (0.0, 'MATERIAL_Copper'), (0.0, 'MATERIAL_COP'), (0.0, 'MATERIAL_AMTYT')]\n"
     ]
    }
   ],
   "source": [
    "#Output most relevant parameters according to our recent model\n",
    "print(sorted(zip(map(lambda x: round(x, 4), rfmodel.feature_importances_), inputColumns), reverse=True))"
   ]
  },
  {
   "cell_type": "code",
   "execution_count": 27,
   "metadata": {},
   "outputs": [
    {
     "data": {
      "text/plain": [
       "57"
      ]
     },
     "execution_count": 27,
     "metadata": {},
     "output_type": "execute_result"
    }
   ],
   "source": [
    "len(inputColumns)"
   ]
  },
  {
   "cell_type": "code",
   "execution_count": 28,
   "metadata": {
    "scrolled": true
   },
   "outputs": [
    {
     "name": "stdout",
     "output_type": "stream",
     "text": [
      "             precision    recall  f1-score   support\n",
      "\n",
      "          0       1.00      0.81      0.89     15780\n",
      "          1       0.24      0.94      0.39      1024\n",
      "\n",
      "avg / total       0.95      0.82      0.86     16804\n",
      "\n"
     ]
    }
   ],
   "source": [
    "print(classification_report(y_test,rfmodel.predict(X_test_minmax)))"
   ]
  },
  {
   "cell_type": "code",
   "execution_count": 29,
   "metadata": {},
   "outputs": [],
   "source": [
    "final_df.to_csv('output2.csv')"
   ]
  },
  {
   "cell_type": "code",
   "execution_count": null,
   "metadata": {},
   "outputs": [],
   "source": []
  }
 ],
 "metadata": {
  "kernelspec": {
   "display_name": "Python [default]",
   "language": "python",
   "name": "python3"
  },
  "language_info": {
   "codemirror_mode": {
    "name": "ipython",
    "version": 3
   },
   "file_extension": ".py",
   "mimetype": "text/x-python",
   "name": "python",
   "nbconvert_exporter": "python",
   "pygments_lexer": "ipython3",
   "version": "3.6.5"
  }
 },
 "nbformat": 4,
 "nbformat_minor": 2
}
