{
 "cells": [
  {
   "cell_type": "code",
   "execution_count": 1,
   "metadata": {},
   "outputs": [],
   "source": [
    "#Import Dependencies\n",
    "import pandas as pd\n",
    "import numpy as np\n",
    "from sklearn.model_selection import train_test_split\n",
    "from sklearn.linear_model import LogisticRegression"
   ]
  },
  {
   "cell_type": "code",
   "execution_count": 2,
   "metadata": {},
   "outputs": [
    {
     "name": "stderr",
     "output_type": "stream",
     "text": [
      "C:\\ProgramData\\Anaconda3\\lib\\site-packages\\IPython\\core\\interactiveshell.py:2785: DtypeWarning: Columns (57,59,60,61) have mixed types. Specify dtype option on import or set low_memory=False.\n",
      "  interactivity=interactivity, compiler=compiler, result=result)\n"
     ]
    },
    {
     "data": {
      "text/html": [
       "<div>\n",
       "<style scoped>\n",
       "    .dataframe tbody tr th:only-of-type {\n",
       "        vertical-align: middle;\n",
       "    }\n",
       "\n",
       "    .dataframe tbody tr th {\n",
       "        vertical-align: top;\n",
       "    }\n",
       "\n",
       "    .dataframe thead th {\n",
       "        text-align: right;\n",
       "    }\n",
       "</style>\n",
       "<table border=\"1\" class=\"dataframe\">\n",
       "  <thead>\n",
       "    <tr style=\"text-align: right;\">\n",
       "      <th></th>\n",
       "      <th>FID</th>\n",
       "      <th>MOID</th>\n",
       "      <th>DIAMETER</th>\n",
       "      <th>PIPE_LENGTH</th>\n",
       "      <th>MATERIAL</th>\n",
       "      <th>DESCRIPTION</th>\n",
       "      <th>YEAR_INSTALLED</th>\n",
       "      <th>PRESSURE_ZONE</th>\n",
       "      <th>LINING</th>\n",
       "      <th>LINE_YEAR</th>\n",
       "      <th>...</th>\n",
       "      <th>WORK_ORDER_NUMBER</th>\n",
       "      <th>Comments</th>\n",
       "      <th>ReportDate</th>\n",
       "      <th>StartDateT</th>\n",
       "      <th>CompletedD</th>\n",
       "      <th>ReportedY</th>\n",
       "      <th>SrvcRqst_1</th>\n",
       "      <th>MATERIAL_1</th>\n",
       "      <th>MUSYM</th>\n",
       "      <th>FAILURE</th>\n",
       "    </tr>\n",
       "  </thead>\n",
       "  <tbody>\n",
       "    <tr>\n",
       "      <th>0</th>\n",
       "      <td>16420</td>\n",
       "      <td>P35881</td>\n",
       "      <td>8.0</td>\n",
       "      <td>861.090481</td>\n",
       "      <td>M.J.</td>\n",
       "      <td>Distribution</td>\n",
       "      <td>1952</td>\n",
       "      <td>Hemp 1175</td>\n",
       "      <td></td>\n",
       "      <td>0</td>\n",
       "      <td>...</td>\n",
       "      <td>1143689</td>\n",
       "      <td>PER UNIT 819\\n\\rREQUEST 1 6X12 PLATE AND 4 BAG...</td>\n",
       "      <td>2014-10-25</td>\n",
       "      <td>2014-11-16</td>\n",
       "      <td>2014-11-16</td>\n",
       "      <td>2014</td>\n",
       "      <td>Water Request</td>\n",
       "      <td>CAS</td>\n",
       "      <td>Ub</td>\n",
       "      <td>1</td>\n",
       "    </tr>\n",
       "    <tr>\n",
       "      <th>1</th>\n",
       "      <td>44465</td>\n",
       "      <td>P88079</td>\n",
       "      <td>8.0</td>\n",
       "      <td>749.511184</td>\n",
       "      <td>TYT</td>\n",
       "      <td>Distribution</td>\n",
       "      <td>1965</td>\n",
       "      <td>Hemp 1175</td>\n",
       "      <td></td>\n",
       "      <td>0</td>\n",
       "      <td>...</td>\n",
       "      <td>1311148</td>\n",
       "      <td>MAIN BREAK</td>\n",
       "      <td>2015-08-18</td>\n",
       "      <td>2015-08-18</td>\n",
       "      <td>2015-08-18</td>\n",
       "      <td>2015</td>\n",
       "      <td>Water Request</td>\n",
       "      <td>DIP</td>\n",
       "      <td>ReD</td>\n",
       "      <td>1</td>\n",
       "    </tr>\n",
       "    <tr>\n",
       "      <th>2</th>\n",
       "      <td>23810</td>\n",
       "      <td>P53764</td>\n",
       "      <td>8.0</td>\n",
       "      <td>171.554040</td>\n",
       "      <td>M.J.</td>\n",
       "      <td>Distribution</td>\n",
       "      <td>1958</td>\n",
       "      <td>Hemp 1175</td>\n",
       "      <td></td>\n",
       "      <td>0</td>\n",
       "      <td>...</td>\n",
       "      <td>1323748</td>\n",
       "      <td>PER JONATHAN WEBB THERE IS A MAIN BREAK AT THI...</td>\n",
       "      <td>2015-09-11</td>\n",
       "      <td>2015-09-12</td>\n",
       "      <td>2015-09-12</td>\n",
       "      <td>2015</td>\n",
       "      <td>Water Pressure Complaint</td>\n",
       "      <td>DIP</td>\n",
       "      <td>Ub</td>\n",
       "      <td>1</td>\n",
       "    </tr>\n",
       "    <tr>\n",
       "      <th>3</th>\n",
       "      <td>52630</td>\n",
       "      <td>P400741</td>\n",
       "      <td>8.0</td>\n",
       "      <td>42.761097</td>\n",
       "      <td>M.J.</td>\n",
       "      <td>Distribution</td>\n",
       "      <td>1958</td>\n",
       "      <td>Hemp 1175</td>\n",
       "      <td></td>\n",
       "      <td>0</td>\n",
       "      <td>...</td>\n",
       "      <td>1323748</td>\n",
       "      <td>PER JONATHAN WEBB THERE IS A MAIN BREAK AT THI...</td>\n",
       "      <td>2015-09-11</td>\n",
       "      <td>2015-09-12</td>\n",
       "      <td>2015-09-12</td>\n",
       "      <td>2015</td>\n",
       "      <td>Water Pressure Complaint</td>\n",
       "      <td>DIP</td>\n",
       "      <td>Ub</td>\n",
       "      <td>1</td>\n",
       "    </tr>\n",
       "    <tr>\n",
       "      <th>4</th>\n",
       "      <td>10510</td>\n",
       "      <td>P20210</td>\n",
       "      <td>12.0</td>\n",
       "      <td>31.300481</td>\n",
       "      <td>DIP</td>\n",
       "      <td>Transmission</td>\n",
       "      <td>2006</td>\n",
       "      <td>Hemp 1175</td>\n",
       "      <td></td>\n",
       "      <td>0</td>\n",
       "      <td>...</td>\n",
       "      <td>1628288</td>\n",
       "      <td>PER J. SKINNER MAIN BREAK AT LOCATION\\nCall ta...</td>\n",
       "      <td>2017-01-22</td>\n",
       "      <td>2017-02-28</td>\n",
       "      <td>2017-02-28</td>\n",
       "      <td>2017</td>\n",
       "      <td>Turn off burst pipe</td>\n",
       "      <td>DIP</td>\n",
       "      <td>Ub</td>\n",
       "      <td>1</td>\n",
       "    </tr>\n",
       "  </tbody>\n",
       "</table>\n",
       "<p>5 rows × 67 columns</p>\n",
       "</div>"
      ],
      "text/plain": [
       "     FID     MOID  DIAMETER  PIPE_LENGTH MATERIAL   DESCRIPTION  \\\n",
       "0  16420   P35881       8.0   861.090481     M.J.  Distribution   \n",
       "1  44465   P88079       8.0   749.511184      TYT  Distribution   \n",
       "2  23810   P53764       8.0   171.554040     M.J.  Distribution   \n",
       "3  52630  P400741       8.0    42.761097     M.J.  Distribution   \n",
       "4  10510   P20210      12.0    31.300481      DIP  Transmission   \n",
       "\n",
       "   YEAR_INSTALLED PRESSURE_ZONE LINING  LINE_YEAR   ...     WORK_ORDER_NUMBER  \\\n",
       "0            1952     Hemp 1175                 0   ...               1143689   \n",
       "1            1965     Hemp 1175                 0   ...               1311148   \n",
       "2            1958     Hemp 1175                 0   ...               1323748   \n",
       "3            1958     Hemp 1175                 0   ...               1323748   \n",
       "4            2006     Hemp 1175                 0   ...               1628288   \n",
       "\n",
       "                                            Comments  ReportDate  StartDateT  \\\n",
       "0  PER UNIT 819\\n\\rREQUEST 1 6X12 PLATE AND 4 BAG...  2014-10-25  2014-11-16   \n",
       "1                                         MAIN BREAK  2015-08-18  2015-08-18   \n",
       "2  PER JONATHAN WEBB THERE IS A MAIN BREAK AT THI...  2015-09-11  2015-09-12   \n",
       "3  PER JONATHAN WEBB THERE IS A MAIN BREAK AT THI...  2015-09-11  2015-09-12   \n",
       "4  PER J. SKINNER MAIN BREAK AT LOCATION\\nCall ta...  2017-01-22  2017-02-28   \n",
       "\n",
       "   CompletedD  ReportedY                SrvcRqst_1  MATERIAL_1  MUSYM  FAILURE  \n",
       "0  2014-11-16       2014             Water Request         CAS     Ub        1  \n",
       "1  2015-08-18       2015             Water Request         DIP    ReD        1  \n",
       "2  2015-09-12       2015  Water Pressure Complaint         DIP     Ub        1  \n",
       "3  2015-09-12       2015  Water Pressure Complaint         DIP     Ub        1  \n",
       "4  2017-02-28       2017       Turn off burst pipe         DIP     Ub        1  \n",
       "\n",
       "[5 rows x 67 columns]"
      ]
     },
     "execution_count": 2,
     "metadata": {},
     "output_type": "execute_result"
    }
   ],
   "source": [
    "#Load in data from csv\n",
    "pipes_df = pd.read_csv(\"Pipe_data.csv\")\n",
    "pipes_df.head()"
   ]
  },
  {
   "cell_type": "code",
   "execution_count": 3,
   "metadata": {},
   "outputs": [
    {
     "name": "stdout",
     "output_type": "stream",
     "text": [
      "There are 23 columns containing strings\n",
      "--------------------------------------------------------------\n",
      "MOID                 object\n",
      "MATERIAL             object\n",
      "DESCRIPTION          object\n",
      "PRESSURE_ZONE        object\n",
      "LINING               object\n",
      "PATTERN1             object\n",
      "PATTERN2             object\n",
      "PATTERN3             object\n",
      "PATTERN4             object\n",
      "PATTERN5             object\n",
      "PATTERN6             object\n",
      "PATTERN7             object\n",
      "PATTERN8             object\n",
      "PATTERN9             object\n",
      "PATTERN10            object\n",
      "WORK_ORDER_NUMBER    object\n",
      "Comments             object\n",
      "ReportDate           object\n",
      "StartDateT           object\n",
      "CompletedD           object\n",
      "SrvcRqst_1           object\n",
      "MATERIAL_1           object\n",
      "MUSYM                object\n",
      "dtype: object\n"
     ]
    }
   ],
   "source": [
    "#clean data by converting all columns with strings to float/int or other type that works in ML \n",
    "\n",
    "#find all columns in dataframe where type = object \n",
    "df_types = pipes_df.select_dtypes(include=[np.object])\n",
    "\n",
    "print(f'There are {len(df_types.dtypes)} columns containing strings')\n",
    "print('--------------------------------------------------------------')\n",
    "print(df_types.dtypes)"
   ]
  },
  {
   "cell_type": "code",
   "execution_count": 4,
   "metadata": {},
   "outputs": [
    {
     "data": {
      "text/html": [
       "<div>\n",
       "<style scoped>\n",
       "    .dataframe tbody tr th:only-of-type {\n",
       "        vertical-align: middle;\n",
       "    }\n",
       "\n",
       "    .dataframe tbody tr th {\n",
       "        vertical-align: top;\n",
       "    }\n",
       "\n",
       "    .dataframe thead th {\n",
       "        text-align: right;\n",
       "    }\n",
       "</style>\n",
       "<table border=\"1\" class=\"dataframe\">\n",
       "  <thead>\n",
       "    <tr style=\"text-align: right;\">\n",
       "      <th></th>\n",
       "      <th>FID</th>\n",
       "      <th>MOID</th>\n",
       "      <th>DIAMETER</th>\n",
       "      <th>PIPE_LENGTH</th>\n",
       "      <th>MATERIAL</th>\n",
       "      <th>DESCRIPTION</th>\n",
       "      <th>YEAR_INSTALLED</th>\n",
       "      <th>PRESSURE_ZONE</th>\n",
       "      <th>LINING</th>\n",
       "      <th>LINE_YEAR</th>\n",
       "      <th>...</th>\n",
       "      <th>DESCRIPTION_Distribution</th>\n",
       "      <th>DESCRIPTION_Experimental Pipe not in CIP</th>\n",
       "      <th>DESCRIPTION_Facility Pipe</th>\n",
       "      <th>DESCRIPTION_Proposed Main: Adamsville</th>\n",
       "      <th>DESCRIPTION_Transmission</th>\n",
       "      <th>P-ZONE_Chatt 1020</th>\n",
       "      <th>P-ZONE_Hemp 1175</th>\n",
       "      <th>P-ZONE_Hemp 1175 (moved)</th>\n",
       "      <th>P-ZONE_North 1225</th>\n",
       "      <th>P-ZONE_WTP</th>\n",
       "    </tr>\n",
       "  </thead>\n",
       "  <tbody>\n",
       "    <tr>\n",
       "      <th>0</th>\n",
       "      <td>16420</td>\n",
       "      <td>P35881</td>\n",
       "      <td>8.0</td>\n",
       "      <td>861.090481</td>\n",
       "      <td>M.J.</td>\n",
       "      <td>Distribution</td>\n",
       "      <td>1952</td>\n",
       "      <td>Hemp 1175</td>\n",
       "      <td></td>\n",
       "      <td>0</td>\n",
       "      <td>...</td>\n",
       "      <td>1</td>\n",
       "      <td>0</td>\n",
       "      <td>0</td>\n",
       "      <td>0</td>\n",
       "      <td>0</td>\n",
       "      <td>0</td>\n",
       "      <td>1</td>\n",
       "      <td>0</td>\n",
       "      <td>0</td>\n",
       "      <td>0</td>\n",
       "    </tr>\n",
       "    <tr>\n",
       "      <th>1</th>\n",
       "      <td>44465</td>\n",
       "      <td>P88079</td>\n",
       "      <td>8.0</td>\n",
       "      <td>749.511184</td>\n",
       "      <td>TYT</td>\n",
       "      <td>Distribution</td>\n",
       "      <td>1965</td>\n",
       "      <td>Hemp 1175</td>\n",
       "      <td></td>\n",
       "      <td>0</td>\n",
       "      <td>...</td>\n",
       "      <td>1</td>\n",
       "      <td>0</td>\n",
       "      <td>0</td>\n",
       "      <td>0</td>\n",
       "      <td>0</td>\n",
       "      <td>0</td>\n",
       "      <td>1</td>\n",
       "      <td>0</td>\n",
       "      <td>0</td>\n",
       "      <td>0</td>\n",
       "    </tr>\n",
       "    <tr>\n",
       "      <th>2</th>\n",
       "      <td>23810</td>\n",
       "      <td>P53764</td>\n",
       "      <td>8.0</td>\n",
       "      <td>171.554040</td>\n",
       "      <td>M.J.</td>\n",
       "      <td>Distribution</td>\n",
       "      <td>1958</td>\n",
       "      <td>Hemp 1175</td>\n",
       "      <td></td>\n",
       "      <td>0</td>\n",
       "      <td>...</td>\n",
       "      <td>1</td>\n",
       "      <td>0</td>\n",
       "      <td>0</td>\n",
       "      <td>0</td>\n",
       "      <td>0</td>\n",
       "      <td>0</td>\n",
       "      <td>1</td>\n",
       "      <td>0</td>\n",
       "      <td>0</td>\n",
       "      <td>0</td>\n",
       "    </tr>\n",
       "    <tr>\n",
       "      <th>3</th>\n",
       "      <td>52630</td>\n",
       "      <td>P400741</td>\n",
       "      <td>8.0</td>\n",
       "      <td>42.761097</td>\n",
       "      <td>M.J.</td>\n",
       "      <td>Distribution</td>\n",
       "      <td>1958</td>\n",
       "      <td>Hemp 1175</td>\n",
       "      <td></td>\n",
       "      <td>0</td>\n",
       "      <td>...</td>\n",
       "      <td>1</td>\n",
       "      <td>0</td>\n",
       "      <td>0</td>\n",
       "      <td>0</td>\n",
       "      <td>0</td>\n",
       "      <td>0</td>\n",
       "      <td>1</td>\n",
       "      <td>0</td>\n",
       "      <td>0</td>\n",
       "      <td>0</td>\n",
       "    </tr>\n",
       "    <tr>\n",
       "      <th>4</th>\n",
       "      <td>10510</td>\n",
       "      <td>P20210</td>\n",
       "      <td>12.0</td>\n",
       "      <td>31.300481</td>\n",
       "      <td>DIP</td>\n",
       "      <td>Transmission</td>\n",
       "      <td>2006</td>\n",
       "      <td>Hemp 1175</td>\n",
       "      <td></td>\n",
       "      <td>0</td>\n",
       "      <td>...</td>\n",
       "      <td>0</td>\n",
       "      <td>0</td>\n",
       "      <td>0</td>\n",
       "      <td>0</td>\n",
       "      <td>1</td>\n",
       "      <td>0</td>\n",
       "      <td>1</td>\n",
       "      <td>0</td>\n",
       "      <td>0</td>\n",
       "      <td>0</td>\n",
       "    </tr>\n",
       "  </tbody>\n",
       "</table>\n",
       "<p>5 rows × 106 columns</p>\n",
       "</div>"
      ],
      "text/plain": [
       "     FID     MOID  DIAMETER  PIPE_LENGTH MATERIAL   DESCRIPTION  \\\n",
       "0  16420   P35881       8.0   861.090481     M.J.  Distribution   \n",
       "1  44465   P88079       8.0   749.511184      TYT  Distribution   \n",
       "2  23810   P53764       8.0   171.554040     M.J.  Distribution   \n",
       "3  52630  P400741       8.0    42.761097     M.J.  Distribution   \n",
       "4  10510   P20210      12.0    31.300481      DIP  Transmission   \n",
       "\n",
       "   YEAR_INSTALLED PRESSURE_ZONE LINING  LINE_YEAR     ...      \\\n",
       "0            1952     Hemp 1175                 0     ...       \n",
       "1            1965     Hemp 1175                 0     ...       \n",
       "2            1958     Hemp 1175                 0     ...       \n",
       "3            1958     Hemp 1175                 0     ...       \n",
       "4            2006     Hemp 1175                 0     ...       \n",
       "\n",
       "   DESCRIPTION_Distribution  DESCRIPTION_Experimental Pipe not in CIP  \\\n",
       "0                         1                                         0   \n",
       "1                         1                                         0   \n",
       "2                         1                                         0   \n",
       "3                         1                                         0   \n",
       "4                         0                                         0   \n",
       "\n",
       "   DESCRIPTION_Facility Pipe  DESCRIPTION_Proposed Main: Adamsville  \\\n",
       "0                          0                                      0   \n",
       "1                          0                                      0   \n",
       "2                          0                                      0   \n",
       "3                          0                                      0   \n",
       "4                          0                                      0   \n",
       "\n",
       "   DESCRIPTION_Transmission  P-ZONE_Chatt 1020  P-ZONE_Hemp 1175  \\\n",
       "0                         0                  0                 1   \n",
       "1                         0                  0                 1   \n",
       "2                         0                  0                 1   \n",
       "3                         0                  0                 1   \n",
       "4                         1                  0                 1   \n",
       "\n",
       "   P-ZONE_Hemp 1175 (moved)  P-ZONE_North 1225  P-ZONE_WTP  \n",
       "0                         0                  0           0  \n",
       "1                         0                  0           0  \n",
       "2                         0                  0           0  \n",
       "3                         0                  0           0  \n",
       "4                         0                  0           0  \n",
       "\n",
       "[5 rows x 106 columns]"
      ]
     },
     "execution_count": 4,
     "metadata": {},
     "output_type": "execute_result"
    }
   ],
   "source": [
    "#get dummies for columns where applicable--MATERIAL, DESCRIPTION, PRESSURE_ZONE\n",
    "pipes_df = pd.concat([pipes_df, pd.get_dummies(pipes_df['MATERIAL'], prefix='MATERIAL')], axis=1)\n",
    "pipes_df = pd.concat([pipes_df, pd.get_dummies(pipes_df['DESCRIPTION'], prefix='DESCRIPTION')], axis=1); \n",
    "pipes_df = pd.concat([pipes_df, pd.get_dummies(pipes_df['PRESSURE_ZONE'], prefix='P-ZONE')], axis=1); \n",
    "pipes_df.head()"
   ]
  },
  {
   "cell_type": "code",
   "execution_count": 5,
   "metadata": {},
   "outputs": [
    {
     "data": {
      "text/html": [
       "<div>\n",
       "<style scoped>\n",
       "    .dataframe tbody tr th:only-of-type {\n",
       "        vertical-align: middle;\n",
       "    }\n",
       "\n",
       "    .dataframe tbody tr th {\n",
       "        vertical-align: top;\n",
       "    }\n",
       "\n",
       "    .dataframe thead th {\n",
       "        text-align: right;\n",
       "    }\n",
       "</style>\n",
       "<table border=\"1\" class=\"dataframe\">\n",
       "  <thead>\n",
       "    <tr style=\"text-align: right;\">\n",
       "      <th></th>\n",
       "      <th>FID</th>\n",
       "      <th>MOID</th>\n",
       "      <th>DIAMETER</th>\n",
       "      <th>PIPE_LENGTH</th>\n",
       "      <th>YEAR_INSTALLED</th>\n",
       "      <th>LINING</th>\n",
       "      <th>LINE_YEAR</th>\n",
       "      <th>INDEX_YR</th>\n",
       "      <th>ROUGHNESS</th>\n",
       "      <th>FLOW</th>\n",
       "      <th>...</th>\n",
       "      <th>DESCRIPTION_Distribution</th>\n",
       "      <th>DESCRIPTION_Experimental Pipe not in CIP</th>\n",
       "      <th>DESCRIPTION_Facility Pipe</th>\n",
       "      <th>DESCRIPTION_Proposed Main: Adamsville</th>\n",
       "      <th>DESCRIPTION_Transmission</th>\n",
       "      <th>P-ZONE_Chatt 1020</th>\n",
       "      <th>P-ZONE_Hemp 1175</th>\n",
       "      <th>P-ZONE_Hemp 1175 (moved)</th>\n",
       "      <th>P-ZONE_North 1225</th>\n",
       "      <th>P-ZONE_WTP</th>\n",
       "    </tr>\n",
       "  </thead>\n",
       "  <tbody>\n",
       "    <tr>\n",
       "      <th>0</th>\n",
       "      <td>16420</td>\n",
       "      <td>P35881</td>\n",
       "      <td>8.0</td>\n",
       "      <td>861.090481</td>\n",
       "      <td>1952</td>\n",
       "      <td></td>\n",
       "      <td>0</td>\n",
       "      <td>1952</td>\n",
       "      <td>86</td>\n",
       "      <td>23.4711</td>\n",
       "      <td>...</td>\n",
       "      <td>1</td>\n",
       "      <td>0</td>\n",
       "      <td>0</td>\n",
       "      <td>0</td>\n",
       "      <td>0</td>\n",
       "      <td>0</td>\n",
       "      <td>1</td>\n",
       "      <td>0</td>\n",
       "      <td>0</td>\n",
       "      <td>0</td>\n",
       "    </tr>\n",
       "    <tr>\n",
       "      <th>1</th>\n",
       "      <td>44465</td>\n",
       "      <td>P88079</td>\n",
       "      <td>8.0</td>\n",
       "      <td>749.511184</td>\n",
       "      <td>1965</td>\n",
       "      <td></td>\n",
       "      <td>0</td>\n",
       "      <td>1965</td>\n",
       "      <td>122</td>\n",
       "      <td>56.2002</td>\n",
       "      <td>...</td>\n",
       "      <td>1</td>\n",
       "      <td>0</td>\n",
       "      <td>0</td>\n",
       "      <td>0</td>\n",
       "      <td>0</td>\n",
       "      <td>0</td>\n",
       "      <td>1</td>\n",
       "      <td>0</td>\n",
       "      <td>0</td>\n",
       "      <td>0</td>\n",
       "    </tr>\n",
       "    <tr>\n",
       "      <th>2</th>\n",
       "      <td>23810</td>\n",
       "      <td>P53764</td>\n",
       "      <td>8.0</td>\n",
       "      <td>171.554040</td>\n",
       "      <td>1958</td>\n",
       "      <td></td>\n",
       "      <td>0</td>\n",
       "      <td>1958</td>\n",
       "      <td>61</td>\n",
       "      <td>79.6832</td>\n",
       "      <td>...</td>\n",
       "      <td>1</td>\n",
       "      <td>0</td>\n",
       "      <td>0</td>\n",
       "      <td>0</td>\n",
       "      <td>0</td>\n",
       "      <td>0</td>\n",
       "      <td>1</td>\n",
       "      <td>0</td>\n",
       "      <td>0</td>\n",
       "      <td>0</td>\n",
       "    </tr>\n",
       "    <tr>\n",
       "      <th>3</th>\n",
       "      <td>52630</td>\n",
       "      <td>P400741</td>\n",
       "      <td>8.0</td>\n",
       "      <td>42.761097</td>\n",
       "      <td>1958</td>\n",
       "      <td></td>\n",
       "      <td>0</td>\n",
       "      <td>1958</td>\n",
       "      <td>61</td>\n",
       "      <td>79.6832</td>\n",
       "      <td>...</td>\n",
       "      <td>1</td>\n",
       "      <td>0</td>\n",
       "      <td>0</td>\n",
       "      <td>0</td>\n",
       "      <td>0</td>\n",
       "      <td>0</td>\n",
       "      <td>1</td>\n",
       "      <td>0</td>\n",
       "      <td>0</td>\n",
       "      <td>0</td>\n",
       "    </tr>\n",
       "    <tr>\n",
       "      <th>4</th>\n",
       "      <td>10510</td>\n",
       "      <td>P20210</td>\n",
       "      <td>12.0</td>\n",
       "      <td>31.300481</td>\n",
       "      <td>2006</td>\n",
       "      <td></td>\n",
       "      <td>0</td>\n",
       "      <td>2006</td>\n",
       "      <td>139</td>\n",
       "      <td>98.6106</td>\n",
       "      <td>...</td>\n",
       "      <td>0</td>\n",
       "      <td>0</td>\n",
       "      <td>0</td>\n",
       "      <td>0</td>\n",
       "      <td>1</td>\n",
       "      <td>0</td>\n",
       "      <td>1</td>\n",
       "      <td>0</td>\n",
       "      <td>0</td>\n",
       "      <td>0</td>\n",
       "    </tr>\n",
       "  </tbody>\n",
       "</table>\n",
       "<p>5 rows × 103 columns</p>\n",
       "</div>"
      ],
      "text/plain": [
       "     FID     MOID  DIAMETER  PIPE_LENGTH  YEAR_INSTALLED LINING  LINE_YEAR  \\\n",
       "0  16420   P35881       8.0   861.090481            1952                 0   \n",
       "1  44465   P88079       8.0   749.511184            1965                 0   \n",
       "2  23810   P53764       8.0   171.554040            1958                 0   \n",
       "3  52630  P400741       8.0    42.761097            1958                 0   \n",
       "4  10510   P20210      12.0    31.300481            2006                 0   \n",
       "\n",
       "   INDEX_YR  ROUGHNESS     FLOW     ...      DESCRIPTION_Distribution  \\\n",
       "0      1952         86  23.4711     ...                             1   \n",
       "1      1965        122  56.2002     ...                             1   \n",
       "2      1958         61  79.6832     ...                             1   \n",
       "3      1958         61  79.6832     ...                             1   \n",
       "4      2006        139  98.6106     ...                             0   \n",
       "\n",
       "   DESCRIPTION_Experimental Pipe not in CIP  DESCRIPTION_Facility Pipe  \\\n",
       "0                                         0                          0   \n",
       "1                                         0                          0   \n",
       "2                                         0                          0   \n",
       "3                                         0                          0   \n",
       "4                                         0                          0   \n",
       "\n",
       "   DESCRIPTION_Proposed Main: Adamsville  DESCRIPTION_Transmission  \\\n",
       "0                                      0                         0   \n",
       "1                                      0                         0   \n",
       "2                                      0                         0   \n",
       "3                                      0                         0   \n",
       "4                                      0                         1   \n",
       "\n",
       "   P-ZONE_Chatt 1020  P-ZONE_Hemp 1175  P-ZONE_Hemp 1175 (moved)  \\\n",
       "0                  0                 1                         0   \n",
       "1                  0                 1                         0   \n",
       "2                  0                 1                         0   \n",
       "3                  0                 1                         0   \n",
       "4                  0                 1                         0   \n",
       "\n",
       "   P-ZONE_North 1225  P-ZONE_WTP  \n",
       "0                  0           0  \n",
       "1                  0           0  \n",
       "2                  0           0  \n",
       "3                  0           0  \n",
       "4                  0           0  \n",
       "\n",
       "[5 rows x 103 columns]"
      ]
     },
     "execution_count": 5,
     "metadata": {},
     "output_type": "execute_result"
    }
   ],
   "source": [
    "#drop original columns--MATERIAL, DESCRIPTION, PRESSURE_ZONE\n",
    "pipes_df2 = pipes_df.drop(columns={ 'MATERIAL',\n",
    " 'DESCRIPTION',\n",
    " 'PRESSURE_ZONE',})\n",
    "pipes_df2.head()"
   ]
  },
  {
   "cell_type": "code",
   "execution_count": 7,
   "metadata": {},
   "outputs": [
    {
     "data": {
      "text/plain": [
       "RES    55937\n",
       "          75\n",
       "Name: PATTERN1, dtype: int64"
      ]
     },
     "execution_count": 7,
     "metadata": {},
     "output_type": "execute_result"
    }
   ],
   "source": [
    "# Now work on the'PATTERN' columns. There are 10 of them. \n",
    "#check if each pattern column only has 1 value\n",
    "pipes_df2[\"PATTERN1\"].value_counts()"
   ]
  },
  {
   "cell_type": "code",
   "execution_count": 8,
   "metadata": {},
   "outputs": [
    {
     "data": {
      "text/plain": [
       "NON-RES    55937\n",
       "              75\n",
       "Name: PATTERN2, dtype: int64"
      ]
     },
     "execution_count": 8,
     "metadata": {},
     "output_type": "execute_result"
    }
   ],
   "source": [
    "pipes_df2[\"PATTERN2\"].value_counts()"
   ]
  },
  {
   "cell_type": "code",
   "execution_count": 9,
   "metadata": {},
   "outputs": [
    {
     "data": {
      "text/plain": [
       "WHOLE    55937\n",
       "            75\n",
       "Name: PATTERN3, dtype: int64"
      ]
     },
     "execution_count": 9,
     "metadata": {},
     "output_type": "execute_result"
    }
   ],
   "source": [
    "pipes_df2[\"PATTERN3\"].value_counts()"
   ]
  },
  {
   "cell_type": "code",
   "execution_count": 10,
   "metadata": {},
   "outputs": [
    {
     "data": {
      "text/plain": [
       "FLUSH    55937\n",
       "            75\n",
       "Name: PATTERN4, dtype: int64"
      ]
     },
     "execution_count": 10,
     "metadata": {},
     "output_type": "execute_result"
    }
   ],
   "source": [
    "pipes_df2[\"PATTERN4\"].value_counts()"
   ]
  },
  {
   "cell_type": "code",
   "execution_count": 11,
   "metadata": {},
   "outputs": [
    {
     "data": {
      "text/plain": [
       "UFW    55937\n",
       "          75\n",
       "Name: PATTERN5, dtype: int64"
      ]
     },
     "execution_count": 11,
     "metadata": {},
     "output_type": "execute_result"
    }
   ],
   "source": [
    "pipes_df2[\"PATTERN5\"].value_counts()"
   ]
  },
  {
   "cell_type": "code",
   "execution_count": 12,
   "metadata": {},
   "outputs": [
    {
     "data": {
      "text/plain": [
       "RES-DISTR    55937\n",
       "                75\n",
       "Name: PATTERN6, dtype: int64"
      ]
     },
     "execution_count": 12,
     "metadata": {},
     "output_type": "execute_result"
    }
   ],
   "source": [
    "pipes_df2[\"PATTERN6\"].value_counts()"
   ]
  },
  {
   "cell_type": "code",
   "execution_count": 13,
   "metadata": {},
   "outputs": [
    {
     "data": {
      "text/plain": [
       "NON-RES-DISTR    55937\n",
       "                    75\n",
       "Name: PATTERN7, dtype: int64"
      ]
     },
     "execution_count": 13,
     "metadata": {},
     "output_type": "execute_result"
    }
   ],
   "source": [
    "pipes_df2[\"PATTERN7\"].value_counts()"
   ]
  },
  {
   "cell_type": "code",
   "execution_count": 14,
   "metadata": {},
   "outputs": [
    {
     "data": {
      "text/plain": [
       "                56010\n",
       "2030-CWTP-NS        2\n",
       "Name: PATTERN8, dtype: int64"
      ]
     },
     "execution_count": 14,
     "metadata": {},
     "output_type": "execute_result"
    }
   ],
   "source": [
    "pipes_df2[\"PATTERN8\"].value_counts()"
   ]
  },
  {
   "cell_type": "code",
   "execution_count": 15,
   "metadata": {},
   "outputs": [
    {
     "data": {
      "text/plain": [
       "     56012\n",
       "Name: PATTERN9, dtype: int64"
      ]
     },
     "execution_count": 15,
     "metadata": {},
     "output_type": "execute_result"
    }
   ],
   "source": [
    "pipes_df2[\"PATTERN9\"].value_counts()"
   ]
  },
  {
   "cell_type": "code",
   "execution_count": 16,
   "metadata": {},
   "outputs": [
    {
     "data": {
      "text/plain": [
       "     56012\n",
       "Name: PATTERN10, dtype: int64"
      ]
     },
     "execution_count": 16,
     "metadata": {},
     "output_type": "execute_result"
    }
   ],
   "source": [
    "pipes_df2[\"PATTERN10\"].value_counts()"
   ]
  },
  {
   "cell_type": "code",
   "execution_count": 17,
   "metadata": {},
   "outputs": [],
   "source": [
    "#Condense correlating PATTERN + DEMAND columns into 1 column\n",
    "pipes_df2 = pipes_df2.rename(columns={\"DEMAND1\":\"Demand_RES\", \"DEMAND2\":\"Demand_NON-RES\",\"DEMAND3\":\"Demand_WHOLE\",\"DEMAND4\":\"Demand_FLUSH\",\"DEMAND5\":\"Demand_UFW\",\n",
    "                                     \"DEMAND6\":\"Demand_RES-DISTR\",\"DEMAND7\":\"Demand_NON RES-DISTR\",\"DEMAND8\":\"Demand_2030-CWTP-NS\"})\n",
    "\n",
    "#Delete unneeded columns\n",
    "#NOTE to Team: I didn’t see any data at all in the ‘DEMAND9’, ‘PATTERN9’, ‘DEMAND10’, ‘PATTERN10’ columns,so I deleted all of these columns\n",
    "pipes_df3 = pipes_df2.drop(columns={\"PATTERN1\", \"PATTERN2\", \"PATTERN3\", \"PATTERN4\", \"PATTERN5\", \"PATTERN6\", \"PATTERN7\", \"PATTERN8\", \"PATTERN9\", \"PATTERN10\", \"DEMAND9\", \"DEMAND10\"})"
   ]
  },
  {
   "cell_type": "code",
   "execution_count": 18,
   "metadata": {},
   "outputs": [
    {
     "data": {
      "text/html": [
       "<div>\n",
       "<style scoped>\n",
       "    .dataframe tbody tr th:only-of-type {\n",
       "        vertical-align: middle;\n",
       "    }\n",
       "\n",
       "    .dataframe tbody tr th {\n",
       "        vertical-align: top;\n",
       "    }\n",
       "\n",
       "    .dataframe thead th {\n",
       "        text-align: right;\n",
       "    }\n",
       "</style>\n",
       "<table border=\"1\" class=\"dataframe\">\n",
       "  <thead>\n",
       "    <tr style=\"text-align: right;\">\n",
       "      <th></th>\n",
       "      <th>FID</th>\n",
       "      <th>MOID</th>\n",
       "      <th>DIAMETER</th>\n",
       "      <th>PIPE_LENGTH</th>\n",
       "      <th>YEAR_INSTALLED</th>\n",
       "      <th>LINING</th>\n",
       "      <th>LINE_YEAR</th>\n",
       "      <th>INDEX_YR</th>\n",
       "      <th>ROUGHNESS</th>\n",
       "      <th>FLOW</th>\n",
       "      <th>...</th>\n",
       "      <th>DESCRIPTION_Distribution</th>\n",
       "      <th>DESCRIPTION_Experimental Pipe not in CIP</th>\n",
       "      <th>DESCRIPTION_Facility Pipe</th>\n",
       "      <th>DESCRIPTION_Proposed Main: Adamsville</th>\n",
       "      <th>DESCRIPTION_Transmission</th>\n",
       "      <th>P-ZONE_Chatt 1020</th>\n",
       "      <th>P-ZONE_Hemp 1175</th>\n",
       "      <th>P-ZONE_Hemp 1175 (moved)</th>\n",
       "      <th>P-ZONE_North 1225</th>\n",
       "      <th>P-ZONE_WTP</th>\n",
       "    </tr>\n",
       "  </thead>\n",
       "  <tbody>\n",
       "    <tr>\n",
       "      <th>0</th>\n",
       "      <td>16420</td>\n",
       "      <td>P35881</td>\n",
       "      <td>8.0</td>\n",
       "      <td>861.090481</td>\n",
       "      <td>1952</td>\n",
       "      <td></td>\n",
       "      <td>0</td>\n",
       "      <td>1952</td>\n",
       "      <td>86</td>\n",
       "      <td>23.4711</td>\n",
       "      <td>...</td>\n",
       "      <td>1</td>\n",
       "      <td>0</td>\n",
       "      <td>0</td>\n",
       "      <td>0</td>\n",
       "      <td>0</td>\n",
       "      <td>0</td>\n",
       "      <td>1</td>\n",
       "      <td>0</td>\n",
       "      <td>0</td>\n",
       "      <td>0</td>\n",
       "    </tr>\n",
       "    <tr>\n",
       "      <th>1</th>\n",
       "      <td>44465</td>\n",
       "      <td>P88079</td>\n",
       "      <td>8.0</td>\n",
       "      <td>749.511184</td>\n",
       "      <td>1965</td>\n",
       "      <td></td>\n",
       "      <td>0</td>\n",
       "      <td>1965</td>\n",
       "      <td>122</td>\n",
       "      <td>56.2002</td>\n",
       "      <td>...</td>\n",
       "      <td>1</td>\n",
       "      <td>0</td>\n",
       "      <td>0</td>\n",
       "      <td>0</td>\n",
       "      <td>0</td>\n",
       "      <td>0</td>\n",
       "      <td>1</td>\n",
       "      <td>0</td>\n",
       "      <td>0</td>\n",
       "      <td>0</td>\n",
       "    </tr>\n",
       "    <tr>\n",
       "      <th>2</th>\n",
       "      <td>23810</td>\n",
       "      <td>P53764</td>\n",
       "      <td>8.0</td>\n",
       "      <td>171.554040</td>\n",
       "      <td>1958</td>\n",
       "      <td></td>\n",
       "      <td>0</td>\n",
       "      <td>1958</td>\n",
       "      <td>61</td>\n",
       "      <td>79.6832</td>\n",
       "      <td>...</td>\n",
       "      <td>1</td>\n",
       "      <td>0</td>\n",
       "      <td>0</td>\n",
       "      <td>0</td>\n",
       "      <td>0</td>\n",
       "      <td>0</td>\n",
       "      <td>1</td>\n",
       "      <td>0</td>\n",
       "      <td>0</td>\n",
       "      <td>0</td>\n",
       "    </tr>\n",
       "    <tr>\n",
       "      <th>3</th>\n",
       "      <td>52630</td>\n",
       "      <td>P400741</td>\n",
       "      <td>8.0</td>\n",
       "      <td>42.761097</td>\n",
       "      <td>1958</td>\n",
       "      <td></td>\n",
       "      <td>0</td>\n",
       "      <td>1958</td>\n",
       "      <td>61</td>\n",
       "      <td>79.6832</td>\n",
       "      <td>...</td>\n",
       "      <td>1</td>\n",
       "      <td>0</td>\n",
       "      <td>0</td>\n",
       "      <td>0</td>\n",
       "      <td>0</td>\n",
       "      <td>0</td>\n",
       "      <td>1</td>\n",
       "      <td>0</td>\n",
       "      <td>0</td>\n",
       "      <td>0</td>\n",
       "    </tr>\n",
       "    <tr>\n",
       "      <th>4</th>\n",
       "      <td>10510</td>\n",
       "      <td>P20210</td>\n",
       "      <td>12.0</td>\n",
       "      <td>31.300481</td>\n",
       "      <td>2006</td>\n",
       "      <td></td>\n",
       "      <td>0</td>\n",
       "      <td>2006</td>\n",
       "      <td>139</td>\n",
       "      <td>98.6106</td>\n",
       "      <td>...</td>\n",
       "      <td>0</td>\n",
       "      <td>0</td>\n",
       "      <td>0</td>\n",
       "      <td>0</td>\n",
       "      <td>1</td>\n",
       "      <td>0</td>\n",
       "      <td>1</td>\n",
       "      <td>0</td>\n",
       "      <td>0</td>\n",
       "      <td>0</td>\n",
       "    </tr>\n",
       "  </tbody>\n",
       "</table>\n",
       "<p>5 rows × 91 columns</p>\n",
       "</div>"
      ],
      "text/plain": [
       "     FID     MOID  DIAMETER  PIPE_LENGTH  YEAR_INSTALLED LINING  LINE_YEAR  \\\n",
       "0  16420   P35881       8.0   861.090481            1952                 0   \n",
       "1  44465   P88079       8.0   749.511184            1965                 0   \n",
       "2  23810   P53764       8.0   171.554040            1958                 0   \n",
       "3  52630  P400741       8.0    42.761097            1958                 0   \n",
       "4  10510   P20210      12.0    31.300481            2006                 0   \n",
       "\n",
       "   INDEX_YR  ROUGHNESS     FLOW     ...      DESCRIPTION_Distribution  \\\n",
       "0      1952         86  23.4711     ...                             1   \n",
       "1      1965        122  56.2002     ...                             1   \n",
       "2      1958         61  79.6832     ...                             1   \n",
       "3      1958         61  79.6832     ...                             1   \n",
       "4      2006        139  98.6106     ...                             0   \n",
       "\n",
       "   DESCRIPTION_Experimental Pipe not in CIP  DESCRIPTION_Facility Pipe  \\\n",
       "0                                         0                          0   \n",
       "1                                         0                          0   \n",
       "2                                         0                          0   \n",
       "3                                         0                          0   \n",
       "4                                         0                          0   \n",
       "\n",
       "   DESCRIPTION_Proposed Main: Adamsville  DESCRIPTION_Transmission  \\\n",
       "0                                      0                         0   \n",
       "1                                      0                         0   \n",
       "2                                      0                         0   \n",
       "3                                      0                         0   \n",
       "4                                      0                         1   \n",
       "\n",
       "   P-ZONE_Chatt 1020  P-ZONE_Hemp 1175  P-ZONE_Hemp 1175 (moved)  \\\n",
       "0                  0                 1                         0   \n",
       "1                  0                 1                         0   \n",
       "2                  0                 1                         0   \n",
       "3                  0                 1                         0   \n",
       "4                  0                 1                         0   \n",
       "\n",
       "   P-ZONE_North 1225  P-ZONE_WTP  \n",
       "0                  0           0  \n",
       "1                  0           0  \n",
       "2                  0           0  \n",
       "3                  0           0  \n",
       "4                  0           0  \n",
       "\n",
       "[5 rows x 91 columns]"
      ]
     },
     "execution_count": 18,
     "metadata": {},
     "output_type": "execute_result"
    }
   ],
   "source": [
    "pipes_df3.head()"
   ]
  },
  {
   "cell_type": "code",
   "execution_count": 19,
   "metadata": {},
   "outputs": [
    {
     "data": {
      "text/plain": [
       "MOID                 object\n",
       "LINING               object\n",
       "WORK_ORDER_NUMBER    object\n",
       "Comments             object\n",
       "ReportDate           object\n",
       "StartDateT           object\n",
       "CompletedD           object\n",
       "SrvcRqst_1           object\n",
       "MATERIAL_1           object\n",
       "MUSYM                object\n",
       "dtype: object"
      ]
     },
     "execution_count": 19,
     "metadata": {},
     "output_type": "execute_result"
    }
   ],
   "source": [
    "#ANUM'S STOPPING POINT\n",
    "#These are the columns that still need to be converted to different types\n",
    "df_types = pipes_df3.select_dtypes(include=[np.object])\n",
    "df_types.dtypes"
   ]
  },
  {
   "cell_type": "code",
   "execution_count": 20,
   "metadata": {},
   "outputs": [],
   "source": [
    "#created new dataframe to change the datatype of ReportDate,StartDateT,CompletedD from object to datetime\n",
    "df_date=pipes_df3"
   ]
  },
  {
   "cell_type": "code",
   "execution_count": 21,
   "metadata": {},
   "outputs": [],
   "source": [
    "df_date[\"ReportDate\"]=pd.to_datetime(df_date[\"ReportDate\"], yearfirst=True, errors='coerce')\n",
    "df_date[\"StartDateT\"]=pd.to_datetime(df_date[\"StartDateT\"],yearfirst=True, errors='coerce')\n",
    "df_date[\"CompletedD\"]=pd.to_datetime(df_date[\"CompletedD\"],yearfirst=True, errors='coerce')"
   ]
  },
  {
   "cell_type": "code",
   "execution_count": 22,
   "metadata": {},
   "outputs": [
    {
     "data": {
      "text/plain": [
       "MOID                 object\n",
       "LINING               object\n",
       "WORK_ORDER_NUMBER    object\n",
       "Comments             object\n",
       "SrvcRqst_1           object\n",
       "MATERIAL_1           object\n",
       "MUSYM                object\n",
       "dtype: object"
      ]
     },
     "execution_count": 22,
     "metadata": {},
     "output_type": "execute_result"
    }
   ],
   "source": [
    "df_types11 = df_date.select_dtypes(include=[np.object])\n",
    "df_types11.dtypes"
   ]
  },
  {
   "cell_type": "code",
   "execution_count": 23,
   "metadata": {},
   "outputs": [
    {
     "data": {
      "text/plain": [
       "0   2014-10-25\n",
       "1   2015-08-18\n",
       "2   2015-09-11\n",
       "3   2015-09-11\n",
       "4   2017-01-22\n",
       "Name: ReportDate, dtype: datetime64[ns]"
      ]
     },
     "execution_count": 23,
     "metadata": {},
     "output_type": "execute_result"
    }
   ],
   "source": [
    "df_date[\"ReportDate\"].head()"
   ]
  },
  {
   "cell_type": "code",
   "execution_count": 24,
   "metadata": {},
   "outputs": [
    {
     "data": {
      "text/plain": [
       "0   2014-11-16\n",
       "1   2015-08-18\n",
       "2   2015-09-12\n",
       "3   2015-09-12\n",
       "4   2017-02-28\n",
       "Name: CompletedD, dtype: datetime64[ns]"
      ]
     },
     "execution_count": 24,
     "metadata": {},
     "output_type": "execute_result"
    }
   ],
   "source": [
    "\n",
    "df_date[\"CompletedD\"].head()"
   ]
  },
  {
   "cell_type": "code",
   "execution_count": 25,
   "metadata": {},
   "outputs": [
    {
     "data": {
      "text/plain": [
       "0   2014-11-16\n",
       "1   2015-08-18\n",
       "2   2015-09-12\n",
       "3   2015-09-12\n",
       "4   2017-02-28\n",
       "Name: StartDateT, dtype: datetime64[ns]"
      ]
     },
     "execution_count": 25,
     "metadata": {},
     "output_type": "execute_result"
    }
   ],
   "source": [
    "df_date[\"StartDateT\"].head()"
   ]
  },
  {
   "cell_type": "code",
   "execution_count": 26,
   "metadata": {},
   "outputs": [
    {
     "data": {
      "text/html": [
       "<div>\n",
       "<style scoped>\n",
       "    .dataframe tbody tr th:only-of-type {\n",
       "        vertical-align: middle;\n",
       "    }\n",
       "\n",
       "    .dataframe tbody tr th {\n",
       "        vertical-align: top;\n",
       "    }\n",
       "\n",
       "    .dataframe thead th {\n",
       "        text-align: right;\n",
       "    }\n",
       "</style>\n",
       "<table border=\"1\" class=\"dataframe\">\n",
       "  <thead>\n",
       "    <tr style=\"text-align: right;\">\n",
       "      <th></th>\n",
       "      <th>FID</th>\n",
       "      <th>MOID</th>\n",
       "      <th>DIAMETER</th>\n",
       "      <th>PIPE_LENGTH</th>\n",
       "      <th>YEAR_INSTALLED</th>\n",
       "      <th>LINING</th>\n",
       "      <th>LINE_YEAR</th>\n",
       "      <th>INDEX_YR</th>\n",
       "      <th>ROUGHNESS</th>\n",
       "      <th>FLOW</th>\n",
       "      <th>...</th>\n",
       "      <th>DESCRIPTION_Distribution</th>\n",
       "      <th>DESCRIPTION_Experimental Pipe not in CIP</th>\n",
       "      <th>DESCRIPTION_Facility Pipe</th>\n",
       "      <th>DESCRIPTION_Proposed Main: Adamsville</th>\n",
       "      <th>DESCRIPTION_Transmission</th>\n",
       "      <th>P-ZONE_Chatt 1020</th>\n",
       "      <th>P-ZONE_Hemp 1175</th>\n",
       "      <th>P-ZONE_Hemp 1175 (moved)</th>\n",
       "      <th>P-ZONE_North 1225</th>\n",
       "      <th>P-ZONE_WTP</th>\n",
       "    </tr>\n",
       "  </thead>\n",
       "  <tbody>\n",
       "    <tr>\n",
       "      <th>0</th>\n",
       "      <td>16420</td>\n",
       "      <td>P35881</td>\n",
       "      <td>8.0</td>\n",
       "      <td>861.090481</td>\n",
       "      <td>1952</td>\n",
       "      <td></td>\n",
       "      <td>0</td>\n",
       "      <td>1952</td>\n",
       "      <td>86</td>\n",
       "      <td>23.4711</td>\n",
       "      <td>...</td>\n",
       "      <td>1</td>\n",
       "      <td>0</td>\n",
       "      <td>0</td>\n",
       "      <td>0</td>\n",
       "      <td>0</td>\n",
       "      <td>0</td>\n",
       "      <td>1</td>\n",
       "      <td>0</td>\n",
       "      <td>0</td>\n",
       "      <td>0</td>\n",
       "    </tr>\n",
       "    <tr>\n",
       "      <th>1</th>\n",
       "      <td>44465</td>\n",
       "      <td>P88079</td>\n",
       "      <td>8.0</td>\n",
       "      <td>749.511184</td>\n",
       "      <td>1965</td>\n",
       "      <td></td>\n",
       "      <td>0</td>\n",
       "      <td>1965</td>\n",
       "      <td>122</td>\n",
       "      <td>56.2002</td>\n",
       "      <td>...</td>\n",
       "      <td>1</td>\n",
       "      <td>0</td>\n",
       "      <td>0</td>\n",
       "      <td>0</td>\n",
       "      <td>0</td>\n",
       "      <td>0</td>\n",
       "      <td>1</td>\n",
       "      <td>0</td>\n",
       "      <td>0</td>\n",
       "      <td>0</td>\n",
       "    </tr>\n",
       "    <tr>\n",
       "      <th>2</th>\n",
       "      <td>23810</td>\n",
       "      <td>P53764</td>\n",
       "      <td>8.0</td>\n",
       "      <td>171.554040</td>\n",
       "      <td>1958</td>\n",
       "      <td></td>\n",
       "      <td>0</td>\n",
       "      <td>1958</td>\n",
       "      <td>61</td>\n",
       "      <td>79.6832</td>\n",
       "      <td>...</td>\n",
       "      <td>1</td>\n",
       "      <td>0</td>\n",
       "      <td>0</td>\n",
       "      <td>0</td>\n",
       "      <td>0</td>\n",
       "      <td>0</td>\n",
       "      <td>1</td>\n",
       "      <td>0</td>\n",
       "      <td>0</td>\n",
       "      <td>0</td>\n",
       "    </tr>\n",
       "    <tr>\n",
       "      <th>3</th>\n",
       "      <td>52630</td>\n",
       "      <td>P400741</td>\n",
       "      <td>8.0</td>\n",
       "      <td>42.761097</td>\n",
       "      <td>1958</td>\n",
       "      <td></td>\n",
       "      <td>0</td>\n",
       "      <td>1958</td>\n",
       "      <td>61</td>\n",
       "      <td>79.6832</td>\n",
       "      <td>...</td>\n",
       "      <td>1</td>\n",
       "      <td>0</td>\n",
       "      <td>0</td>\n",
       "      <td>0</td>\n",
       "      <td>0</td>\n",
       "      <td>0</td>\n",
       "      <td>1</td>\n",
       "      <td>0</td>\n",
       "      <td>0</td>\n",
       "      <td>0</td>\n",
       "    </tr>\n",
       "    <tr>\n",
       "      <th>4</th>\n",
       "      <td>10510</td>\n",
       "      <td>P20210</td>\n",
       "      <td>12.0</td>\n",
       "      <td>31.300481</td>\n",
       "      <td>2006</td>\n",
       "      <td></td>\n",
       "      <td>0</td>\n",
       "      <td>2006</td>\n",
       "      <td>139</td>\n",
       "      <td>98.6106</td>\n",
       "      <td>...</td>\n",
       "      <td>0</td>\n",
       "      <td>0</td>\n",
       "      <td>0</td>\n",
       "      <td>0</td>\n",
       "      <td>1</td>\n",
       "      <td>0</td>\n",
       "      <td>1</td>\n",
       "      <td>0</td>\n",
       "      <td>0</td>\n",
       "      <td>0</td>\n",
       "    </tr>\n",
       "  </tbody>\n",
       "</table>\n",
       "<p>5 rows × 91 columns</p>\n",
       "</div>"
      ],
      "text/plain": [
       "     FID     MOID  DIAMETER  PIPE_LENGTH  YEAR_INSTALLED LINING  LINE_YEAR  \\\n",
       "0  16420   P35881       8.0   861.090481            1952                 0   \n",
       "1  44465   P88079       8.0   749.511184            1965                 0   \n",
       "2  23810   P53764       8.0   171.554040            1958                 0   \n",
       "3  52630  P400741       8.0    42.761097            1958                 0   \n",
       "4  10510   P20210      12.0    31.300481            2006                 0   \n",
       "\n",
       "   INDEX_YR  ROUGHNESS     FLOW     ...      DESCRIPTION_Distribution  \\\n",
       "0      1952         86  23.4711     ...                             1   \n",
       "1      1965        122  56.2002     ...                             1   \n",
       "2      1958         61  79.6832     ...                             1   \n",
       "3      1958         61  79.6832     ...                             1   \n",
       "4      2006        139  98.6106     ...                             0   \n",
       "\n",
       "   DESCRIPTION_Experimental Pipe not in CIP  DESCRIPTION_Facility Pipe  \\\n",
       "0                                         0                          0   \n",
       "1                                         0                          0   \n",
       "2                                         0                          0   \n",
       "3                                         0                          0   \n",
       "4                                         0                          0   \n",
       "\n",
       "   DESCRIPTION_Proposed Main: Adamsville  DESCRIPTION_Transmission  \\\n",
       "0                                      0                         0   \n",
       "1                                      0                         0   \n",
       "2                                      0                         0   \n",
       "3                                      0                         0   \n",
       "4                                      0                         1   \n",
       "\n",
       "   P-ZONE_Chatt 1020  P-ZONE_Hemp 1175  P-ZONE_Hemp 1175 (moved)  \\\n",
       "0                  0                 1                         0   \n",
       "1                  0                 1                         0   \n",
       "2                  0                 1                         0   \n",
       "3                  0                 1                         0   \n",
       "4                  0                 1                         0   \n",
       "\n",
       "   P-ZONE_North 1225  P-ZONE_WTP  \n",
       "0                  0           0  \n",
       "1                  0           0  \n",
       "2                  0           0  \n",
       "3                  0           0  \n",
       "4                  0           0  \n",
       "\n",
       "[5 rows x 91 columns]"
      ]
     },
     "execution_count": 26,
     "metadata": {},
     "output_type": "execute_result"
    }
   ],
   "source": [
    "pipes_df3.head()"
   ]
  },
  {
   "cell_type": "code",
   "execution_count": 27,
   "metadata": {},
   "outputs": [
    {
     "name": "stdout",
     "output_type": "stream",
     "text": [
      "[dtype('int64'), dtype('O'), dtype('float64'), dtype('float64'), dtype('int64'), dtype('O'), dtype('int64'), dtype('int64'), dtype('int64'), dtype('float64'), dtype('float64'), dtype('float64'), dtype('float64'), dtype('float64'), dtype('float64'), dtype('float64'), dtype('float64'), dtype('float64'), dtype('float64'), dtype('float64'), dtype('float64'), dtype('float64'), dtype('float64'), dtype('float64'), dtype('float64'), dtype('float64'), dtype('float64'), dtype('float64'), dtype('float64'), dtype('float64'), dtype('int64'), dtype('float64'), dtype('float64'), dtype('float64'), dtype('float64'), dtype('float64'), dtype('float64'), dtype('float64'), dtype('float64'), dtype('float64'), dtype('float64'), dtype('float64'), dtype('O'), dtype('O'), dtype('<M8[ns]'), dtype('<M8[ns]'), dtype('<M8[ns]'), dtype('int64'), dtype('O'), dtype('O'), dtype('O'), dtype('int64'), dtype('uint8'), dtype('uint8'), dtype('uint8'), dtype('uint8'), dtype('uint8'), dtype('uint8'), dtype('uint8'), dtype('uint8'), dtype('uint8'), dtype('uint8'), dtype('uint8'), dtype('uint8'), dtype('uint8'), dtype('uint8'), dtype('uint8'), dtype('uint8'), dtype('uint8'), dtype('uint8'), dtype('uint8'), dtype('uint8'), dtype('uint8'), dtype('uint8'), dtype('uint8'), dtype('uint8'), dtype('uint8'), dtype('uint8'), dtype('uint8'), dtype('uint8'), dtype('uint8'), dtype('uint8'), dtype('uint8'), dtype('uint8'), dtype('uint8'), dtype('uint8'), dtype('uint8'), dtype('uint8'), dtype('uint8'), dtype('uint8'), dtype('uint8')]\n"
     ]
    }
   ],
   "source": [
    "print([t for t in pipes_df3.dtypes])"
   ]
  },
  {
   "cell_type": "code",
   "execution_count": 28,
   "metadata": {},
   "outputs": [],
   "source": [
    "tempAgeList = []\n",
    "for row in np.arange(len(pipes_df3['FID'])):\n",
    "    try:\n",
    "        value = int(pipes_df3.iloc[row]['ReportDate'].year) - pipes_df3.iloc[row]['YEAR_INSTALLED']\n",
    "    except:\n",
    "        value = 2018 - pipes_df3.iloc[row]['YEAR_INSTALLED']\n",
    "    tempAgeList.append(value)"
   ]
  },
  {
   "cell_type": "code",
   "execution_count": 159,
   "metadata": {},
   "outputs": [
    {
     "ename": "KeyError",
     "evalue": "'SUCCESS'",
     "output_type": "error",
     "traceback": [
      "\u001b[1;31m---------------------------------------------------------------------------\u001b[0m",
      "\u001b[1;31mKeyError\u001b[0m                                  Traceback (most recent call last)",
      "\u001b[1;32mC:\\ProgramData\\Anaconda3\\lib\\site-packages\\pandas\\core\\indexes\\base.py\u001b[0m in \u001b[0;36mget_loc\u001b[1;34m(self, key, method, tolerance)\u001b[0m\n\u001b[0;32m   3062\u001b[0m             \u001b[1;32mtry\u001b[0m\u001b[1;33m:\u001b[0m\u001b[1;33m\u001b[0m\u001b[0m\n\u001b[1;32m-> 3063\u001b[1;33m                 \u001b[1;32mreturn\u001b[0m \u001b[0mself\u001b[0m\u001b[1;33m.\u001b[0m\u001b[0m_engine\u001b[0m\u001b[1;33m.\u001b[0m\u001b[0mget_loc\u001b[0m\u001b[1;33m(\u001b[0m\u001b[0mkey\u001b[0m\u001b[1;33m)\u001b[0m\u001b[1;33m\u001b[0m\u001b[0m\n\u001b[0m\u001b[0;32m   3064\u001b[0m             \u001b[1;32mexcept\u001b[0m \u001b[0mKeyError\u001b[0m\u001b[1;33m:\u001b[0m\u001b[1;33m\u001b[0m\u001b[0m\n",
      "\u001b[1;32mpandas\\_libs\\index.pyx\u001b[0m in \u001b[0;36mpandas._libs.index.IndexEngine.get_loc\u001b[1;34m()\u001b[0m\n",
      "\u001b[1;32mpandas\\_libs\\index.pyx\u001b[0m in \u001b[0;36mpandas._libs.index.IndexEngine.get_loc\u001b[1;34m()\u001b[0m\n",
      "\u001b[1;32mpandas\\_libs\\hashtable_class_helper.pxi\u001b[0m in \u001b[0;36mpandas._libs.hashtable.PyObjectHashTable.get_item\u001b[1;34m()\u001b[0m\n",
      "\u001b[1;32mpandas\\_libs\\hashtable_class_helper.pxi\u001b[0m in \u001b[0;36mpandas._libs.hashtable.PyObjectHashTable.get_item\u001b[1;34m()\u001b[0m\n",
      "\u001b[1;31mKeyError\u001b[0m: 'SUCCESS'",
      "\nDuring handling of the above exception, another exception occurred:\n",
      "\u001b[1;31mKeyError\u001b[0m                                  Traceback (most recent call last)",
      "\u001b[1;32m<ipython-input-159-c6afb0091890>\u001b[0m in \u001b[0;36m<module>\u001b[1;34m()\u001b[0m\n\u001b[0;32m      3\u001b[0m     \u001b[0mvalue\u001b[0m \u001b[1;33m=\u001b[0m \u001b[1;36m1\u001b[0m \u001b[1;33m-\u001b[0m \u001b[0mpipes_df3\u001b[0m\u001b[1;33m.\u001b[0m\u001b[0miloc\u001b[0m\u001b[1;33m[\u001b[0m\u001b[0mrow\u001b[0m\u001b[1;33m]\u001b[0m\u001b[1;33m[\u001b[0m\u001b[1;34m'FAILURE'\u001b[0m\u001b[1;33m]\u001b[0m\u001b[1;33m\u001b[0m\u001b[0m\n\u001b[0;32m      4\u001b[0m     \u001b[0mtempSuccessList\u001b[0m\u001b[1;33m.\u001b[0m\u001b[0mappend\u001b[0m\u001b[1;33m(\u001b[0m\u001b[0mvalue\u001b[0m\u001b[1;33m)\u001b[0m\u001b[1;33m\u001b[0m\u001b[0m\n\u001b[1;32m----> 5\u001b[1;33m \u001b[0mpipes_df3\u001b[0m\u001b[1;33m[\u001b[0m\u001b[1;34m'SUCCESS'\u001b[0m\u001b[1;33m]\u001b[0m\u001b[1;33m\u001b[0m\u001b[0m\n\u001b[0m",
      "\u001b[1;32mC:\\ProgramData\\Anaconda3\\lib\\site-packages\\pandas\\core\\frame.py\u001b[0m in \u001b[0;36m__getitem__\u001b[1;34m(self, key)\u001b[0m\n\u001b[0;32m   2683\u001b[0m             \u001b[1;32mreturn\u001b[0m \u001b[0mself\u001b[0m\u001b[1;33m.\u001b[0m\u001b[0m_getitem_multilevel\u001b[0m\u001b[1;33m(\u001b[0m\u001b[0mkey\u001b[0m\u001b[1;33m)\u001b[0m\u001b[1;33m\u001b[0m\u001b[0m\n\u001b[0;32m   2684\u001b[0m         \u001b[1;32melse\u001b[0m\u001b[1;33m:\u001b[0m\u001b[1;33m\u001b[0m\u001b[0m\n\u001b[1;32m-> 2685\u001b[1;33m             \u001b[1;32mreturn\u001b[0m \u001b[0mself\u001b[0m\u001b[1;33m.\u001b[0m\u001b[0m_getitem_column\u001b[0m\u001b[1;33m(\u001b[0m\u001b[0mkey\u001b[0m\u001b[1;33m)\u001b[0m\u001b[1;33m\u001b[0m\u001b[0m\n\u001b[0m\u001b[0;32m   2686\u001b[0m \u001b[1;33m\u001b[0m\u001b[0m\n\u001b[0;32m   2687\u001b[0m     \u001b[1;32mdef\u001b[0m \u001b[0m_getitem_column\u001b[0m\u001b[1;33m(\u001b[0m\u001b[0mself\u001b[0m\u001b[1;33m,\u001b[0m \u001b[0mkey\u001b[0m\u001b[1;33m)\u001b[0m\u001b[1;33m:\u001b[0m\u001b[1;33m\u001b[0m\u001b[0m\n",
      "\u001b[1;32mC:\\ProgramData\\Anaconda3\\lib\\site-packages\\pandas\\core\\frame.py\u001b[0m in \u001b[0;36m_getitem_column\u001b[1;34m(self, key)\u001b[0m\n\u001b[0;32m   2690\u001b[0m         \u001b[1;31m# get column\u001b[0m\u001b[1;33m\u001b[0m\u001b[1;33m\u001b[0m\u001b[0m\n\u001b[0;32m   2691\u001b[0m         \u001b[1;32mif\u001b[0m \u001b[0mself\u001b[0m\u001b[1;33m.\u001b[0m\u001b[0mcolumns\u001b[0m\u001b[1;33m.\u001b[0m\u001b[0mis_unique\u001b[0m\u001b[1;33m:\u001b[0m\u001b[1;33m\u001b[0m\u001b[0m\n\u001b[1;32m-> 2692\u001b[1;33m             \u001b[1;32mreturn\u001b[0m \u001b[0mself\u001b[0m\u001b[1;33m.\u001b[0m\u001b[0m_get_item_cache\u001b[0m\u001b[1;33m(\u001b[0m\u001b[0mkey\u001b[0m\u001b[1;33m)\u001b[0m\u001b[1;33m\u001b[0m\u001b[0m\n\u001b[0m\u001b[0;32m   2693\u001b[0m \u001b[1;33m\u001b[0m\u001b[0m\n\u001b[0;32m   2694\u001b[0m         \u001b[1;31m# duplicate columns & possible reduce dimensionality\u001b[0m\u001b[1;33m\u001b[0m\u001b[1;33m\u001b[0m\u001b[0m\n",
      "\u001b[1;32mC:\\ProgramData\\Anaconda3\\lib\\site-packages\\pandas\\core\\generic.py\u001b[0m in \u001b[0;36m_get_item_cache\u001b[1;34m(self, item)\u001b[0m\n\u001b[0;32m   2484\u001b[0m         \u001b[0mres\u001b[0m \u001b[1;33m=\u001b[0m \u001b[0mcache\u001b[0m\u001b[1;33m.\u001b[0m\u001b[0mget\u001b[0m\u001b[1;33m(\u001b[0m\u001b[0mitem\u001b[0m\u001b[1;33m)\u001b[0m\u001b[1;33m\u001b[0m\u001b[0m\n\u001b[0;32m   2485\u001b[0m         \u001b[1;32mif\u001b[0m \u001b[0mres\u001b[0m \u001b[1;32mis\u001b[0m \u001b[1;32mNone\u001b[0m\u001b[1;33m:\u001b[0m\u001b[1;33m\u001b[0m\u001b[0m\n\u001b[1;32m-> 2486\u001b[1;33m             \u001b[0mvalues\u001b[0m \u001b[1;33m=\u001b[0m \u001b[0mself\u001b[0m\u001b[1;33m.\u001b[0m\u001b[0m_data\u001b[0m\u001b[1;33m.\u001b[0m\u001b[0mget\u001b[0m\u001b[1;33m(\u001b[0m\u001b[0mitem\u001b[0m\u001b[1;33m)\u001b[0m\u001b[1;33m\u001b[0m\u001b[0m\n\u001b[0m\u001b[0;32m   2487\u001b[0m             \u001b[0mres\u001b[0m \u001b[1;33m=\u001b[0m \u001b[0mself\u001b[0m\u001b[1;33m.\u001b[0m\u001b[0m_box_item_values\u001b[0m\u001b[1;33m(\u001b[0m\u001b[0mitem\u001b[0m\u001b[1;33m,\u001b[0m \u001b[0mvalues\u001b[0m\u001b[1;33m)\u001b[0m\u001b[1;33m\u001b[0m\u001b[0m\n\u001b[0;32m   2488\u001b[0m             \u001b[0mcache\u001b[0m\u001b[1;33m[\u001b[0m\u001b[0mitem\u001b[0m\u001b[1;33m]\u001b[0m \u001b[1;33m=\u001b[0m \u001b[0mres\u001b[0m\u001b[1;33m\u001b[0m\u001b[0m\n",
      "\u001b[1;32mC:\\ProgramData\\Anaconda3\\lib\\site-packages\\pandas\\core\\internals.py\u001b[0m in \u001b[0;36mget\u001b[1;34m(self, item, fastpath)\u001b[0m\n\u001b[0;32m   4113\u001b[0m \u001b[1;33m\u001b[0m\u001b[0m\n\u001b[0;32m   4114\u001b[0m             \u001b[1;32mif\u001b[0m \u001b[1;32mnot\u001b[0m \u001b[0misna\u001b[0m\u001b[1;33m(\u001b[0m\u001b[0mitem\u001b[0m\u001b[1;33m)\u001b[0m\u001b[1;33m:\u001b[0m\u001b[1;33m\u001b[0m\u001b[0m\n\u001b[1;32m-> 4115\u001b[1;33m                 \u001b[0mloc\u001b[0m \u001b[1;33m=\u001b[0m \u001b[0mself\u001b[0m\u001b[1;33m.\u001b[0m\u001b[0mitems\u001b[0m\u001b[1;33m.\u001b[0m\u001b[0mget_loc\u001b[0m\u001b[1;33m(\u001b[0m\u001b[0mitem\u001b[0m\u001b[1;33m)\u001b[0m\u001b[1;33m\u001b[0m\u001b[0m\n\u001b[0m\u001b[0;32m   4116\u001b[0m             \u001b[1;32melse\u001b[0m\u001b[1;33m:\u001b[0m\u001b[1;33m\u001b[0m\u001b[0m\n\u001b[0;32m   4117\u001b[0m                 \u001b[0mindexer\u001b[0m \u001b[1;33m=\u001b[0m \u001b[0mnp\u001b[0m\u001b[1;33m.\u001b[0m\u001b[0marange\u001b[0m\u001b[1;33m(\u001b[0m\u001b[0mlen\u001b[0m\u001b[1;33m(\u001b[0m\u001b[0mself\u001b[0m\u001b[1;33m.\u001b[0m\u001b[0mitems\u001b[0m\u001b[1;33m)\u001b[0m\u001b[1;33m)\u001b[0m\u001b[1;33m[\u001b[0m\u001b[0misna\u001b[0m\u001b[1;33m(\u001b[0m\u001b[0mself\u001b[0m\u001b[1;33m.\u001b[0m\u001b[0mitems\u001b[0m\u001b[1;33m)\u001b[0m\u001b[1;33m]\u001b[0m\u001b[1;33m\u001b[0m\u001b[0m\n",
      "\u001b[1;32mC:\\ProgramData\\Anaconda3\\lib\\site-packages\\pandas\\core\\indexes\\base.py\u001b[0m in \u001b[0;36mget_loc\u001b[1;34m(self, key, method, tolerance)\u001b[0m\n\u001b[0;32m   3063\u001b[0m                 \u001b[1;32mreturn\u001b[0m \u001b[0mself\u001b[0m\u001b[1;33m.\u001b[0m\u001b[0m_engine\u001b[0m\u001b[1;33m.\u001b[0m\u001b[0mget_loc\u001b[0m\u001b[1;33m(\u001b[0m\u001b[0mkey\u001b[0m\u001b[1;33m)\u001b[0m\u001b[1;33m\u001b[0m\u001b[0m\n\u001b[0;32m   3064\u001b[0m             \u001b[1;32mexcept\u001b[0m \u001b[0mKeyError\u001b[0m\u001b[1;33m:\u001b[0m\u001b[1;33m\u001b[0m\u001b[0m\n\u001b[1;32m-> 3065\u001b[1;33m                 \u001b[1;32mreturn\u001b[0m \u001b[0mself\u001b[0m\u001b[1;33m.\u001b[0m\u001b[0m_engine\u001b[0m\u001b[1;33m.\u001b[0m\u001b[0mget_loc\u001b[0m\u001b[1;33m(\u001b[0m\u001b[0mself\u001b[0m\u001b[1;33m.\u001b[0m\u001b[0m_maybe_cast_indexer\u001b[0m\u001b[1;33m(\u001b[0m\u001b[0mkey\u001b[0m\u001b[1;33m)\u001b[0m\u001b[1;33m)\u001b[0m\u001b[1;33m\u001b[0m\u001b[0m\n\u001b[0m\u001b[0;32m   3066\u001b[0m \u001b[1;33m\u001b[0m\u001b[0m\n\u001b[0;32m   3067\u001b[0m         \u001b[0mindexer\u001b[0m \u001b[1;33m=\u001b[0m \u001b[0mself\u001b[0m\u001b[1;33m.\u001b[0m\u001b[0mget_indexer\u001b[0m\u001b[1;33m(\u001b[0m\u001b[1;33m[\u001b[0m\u001b[0mkey\u001b[0m\u001b[1;33m]\u001b[0m\u001b[1;33m,\u001b[0m \u001b[0mmethod\u001b[0m\u001b[1;33m=\u001b[0m\u001b[0mmethod\u001b[0m\u001b[1;33m,\u001b[0m \u001b[0mtolerance\u001b[0m\u001b[1;33m=\u001b[0m\u001b[0mtolerance\u001b[0m\u001b[1;33m)\u001b[0m\u001b[1;33m\u001b[0m\u001b[0m\n",
      "\u001b[1;32mpandas\\_libs\\index.pyx\u001b[0m in \u001b[0;36mpandas._libs.index.IndexEngine.get_loc\u001b[1;34m()\u001b[0m\n",
      "\u001b[1;32mpandas\\_libs\\index.pyx\u001b[0m in \u001b[0;36mpandas._libs.index.IndexEngine.get_loc\u001b[1;34m()\u001b[0m\n",
      "\u001b[1;32mpandas\\_libs\\hashtable_class_helper.pxi\u001b[0m in \u001b[0;36mpandas._libs.hashtable.PyObjectHashTable.get_item\u001b[1;34m()\u001b[0m\n",
      "\u001b[1;32mpandas\\_libs\\hashtable_class_helper.pxi\u001b[0m in \u001b[0;36mpandas._libs.hashtable.PyObjectHashTable.get_item\u001b[1;34m()\u001b[0m\n",
      "\u001b[1;31mKeyError\u001b[0m: 'SUCCESS'"
     ]
    }
   ],
   "source": [
    "tempSuccessList = []\n",
    "for row in np.arange(len(pipes_df3['FID'])):\n",
    "    value = 1 - pipes_df3.iloc[row]['FAILURE']\n",
    "    tempSuccessList.append(value)\n"
   ]
  },
  {
   "cell_type": "code",
   "execution_count": 161,
   "metadata": {},
   "outputs": [],
   "source": [
    "pipes_df3['SUCCESS'] = tempSuccessList"
   ]
  },
  {
   "cell_type": "code",
   "execution_count": 29,
   "metadata": {},
   "outputs": [],
   "source": [
    "pipes_df3['Age']=tempAgeList"
   ]
  },
  {
   "cell_type": "code",
   "execution_count": 96,
   "metadata": {},
   "outputs": [],
   "source": [
    "inputColumns = ['DIAMETER', 'PIPE_LENGTH','ROUGHNESS',\n",
    "       'HL1000','AVE_FLOW', 'MAX_VELOCITY',\n",
    "       'MIN_VELOCITY', 'AVE_VELOCITY',\n",
    "       'AVE_HEADLOSS', 'ELEVATION','RUN_ELEV', 'DEMAND',\n",
    "       'AVE_HEAD',\n",
    "       'AVE_PRESS','MATERIAL_AMTYT',\n",
    "       'MATERIAL_CI', 'MATERIAL_CO', 'MATERIAL_COP', 'MATERIAL_CPP',\n",
    "       'MATERIAL_Copper', 'MATERIAL_DEL', 'MATERIAL_DIP', 'MATERIAL_EARGEO',\n",
    "       'MATERIAL_GP', 'MATERIAL_HDPE', 'MATERIAL_L.J.', 'MATERIAL_M.J.',\n",
    "       'MATERIAL_MCW', 'MATERIAL_OTH', 'MATERIAL_PE', 'MATERIAL_PP',\n",
    "       'MATERIAL_PVC', 'MATERIAL_R.L.J.', 'MATERIAL_RCP', 'MATERIAL_SP',\n",
    "       'MATERIAL_ST', 'MATERIAL_T.D', 'MATERIAL_T.D.', 'MATERIAL_TTE',\n",
    "       'MATERIAL_TYT', 'MATERIAL_UNK', 'MATERIAL_W.I.','Age']"
   ]
  },
  {
   "cell_type": "code",
   "execution_count": 30,
   "metadata": {},
   "outputs": [],
   "source": [
    "inputColumns = ['DIAMETER', 'PIPE_LENGTH','ROUGHNESS', 'FLOW', 'VELOCITY', 'HEADLOSS',\n",
    "       'HL1000', 'MAX_FLOW', 'MIN_FLOW', 'AVE_FLOW', 'MAX_VELOCITY',\n",
    "       'MIN_VELOCITY', 'AVE_VELOCITY', 'MAX_HEADLOSS', 'MIN_HEADLOSS',\n",
    "       'AVE_HEADLOSS', 'ELEVATION','RUN_ELEV', 'DEMAND',\n",
    "       'HEAD', 'PRESSURE', 'MAX_HEAD', 'MIN_HEAD', 'AVE_HEAD', 'MAX_PRESS',\n",
    "       'MIN_PRESS', 'AVE_PRESS', 'DIFF_PRESS','MATERIAL_AMTYT',\n",
    "       'MATERIAL_CI', 'MATERIAL_CO', 'MATERIAL_COP', 'MATERIAL_CPP',\n",
    "       'MATERIAL_Copper', 'MATERIAL_DEL', 'MATERIAL_DIP', 'MATERIAL_EARGEO',\n",
    "       'MATERIAL_GP', 'MATERIAL_HDPE', 'MATERIAL_L.J.', 'MATERIAL_M.J.',\n",
    "       'MATERIAL_MCW', 'MATERIAL_OTH', 'MATERIAL_PE', 'MATERIAL_PP',\n",
    "       'MATERIAL_PVC', 'MATERIAL_R.L.J.', 'MATERIAL_RCP', 'MATERIAL_SP',\n",
    "       'MATERIAL_ST', 'MATERIAL_T.D', 'MATERIAL_T.D.', 'MATERIAL_TTE',\n",
    "       'MATERIAL_TYT', 'MATERIAL_UNK', 'MATERIAL_W.I.','Age']"
   ]
  },
  {
   "cell_type": "code",
   "execution_count": 97,
   "metadata": {},
   "outputs": [],
   "source": [
    "import random"
   ]
  },
  {
   "cell_type": "code",
   "execution_count": 98,
   "metadata": {},
   "outputs": [],
   "source": [
    "X_train, X_test, y_train, y_test = train_test_split(pipes_df3[inputColumns],pipes_df3['FAILURE'],stratify=pipes_df3['FAILURE'],test_size = 0.3, random_state=42)"
   ]
  },
  {
   "cell_type": "code",
   "execution_count": 162,
   "metadata": {},
   "outputs": [],
   "source": [
    "X_train_2, X_test_2, y_train_2, y_test_2 = train_test_split(pipes_df3[inputColumns],pipes_df3[['FAILURE','SUCCESS']],stratify=pipes_df3['FAILURE'],test_size = 0.3, random_state=42)"
   ]
  },
  {
   "cell_type": "code",
   "execution_count": 99,
   "metadata": {},
   "outputs": [],
   "source": [
    "model = LogisticRegression()"
   ]
  },
  {
   "cell_type": "code",
   "execution_count": 100,
   "metadata": {},
   "outputs": [
    {
     "data": {
      "text/plain": [
       "0.9386349724546011"
      ]
     },
     "execution_count": 100,
     "metadata": {},
     "output_type": "execute_result"
    }
   ],
   "source": [
    "model.fit(X_train,y_train)\n",
    "model.score(X_train,y_train)"
   ]
  },
  {
   "cell_type": "code",
   "execution_count": 101,
   "metadata": {},
   "outputs": [
    {
     "data": {
      "text/plain": [
       "0.9385860509402523"
      ]
     },
     "execution_count": 101,
     "metadata": {},
     "output_type": "execute_result"
    }
   ],
   "source": [
    "model.score(X_test,y_test)"
   ]
  },
  {
   "cell_type": "code",
   "execution_count": 102,
   "metadata": {},
   "outputs": [],
   "source": [
    "from sklearn.preprocessing import MinMaxScaler\n",
    "X_minmax = MinMaxScaler().fit(X_train)\n",
    "X_train_minmax = X_minmax.transform(X_train)\n",
    "X_test_minmax = X_minmax.transform(X_test)\n"
   ]
  },
  {
   "cell_type": "code",
   "execution_count": 163,
   "metadata": {},
   "outputs": [],
   "source": [
    "X_minmax_2 = MinMaxScaler().fit(X_train_2)\n",
    "X_train_minmax_2 = X_minmax_2.transform(X_train_2)\n",
    "X_test_minmax_2 = X_minmax_2.transform(X_test_2)"
   ]
  },
  {
   "cell_type": "code",
   "execution_count": 103,
   "metadata": {},
   "outputs": [],
   "source": [
    "X_train_false = X_train[y_train==0].sample(n=sum(y_train))\n",
    "X_train_true = X_train[y_train==1].sample(n=sum(y_train))"
   ]
  },
  {
   "cell_type": "code",
   "execution_count": 167,
   "metadata": {},
   "outputs": [
    {
     "data": {
      "text/html": [
       "<div>\n",
       "<style scoped>\n",
       "    .dataframe tbody tr th:only-of-type {\n",
       "        vertical-align: middle;\n",
       "    }\n",
       "\n",
       "    .dataframe tbody tr th {\n",
       "        vertical-align: top;\n",
       "    }\n",
       "\n",
       "    .dataframe thead th {\n",
       "        text-align: right;\n",
       "    }\n",
       "</style>\n",
       "<table border=\"1\" class=\"dataframe\">\n",
       "  <thead>\n",
       "    <tr style=\"text-align: right;\">\n",
       "      <th></th>\n",
       "      <th>FAILURE</th>\n",
       "      <th>SUCCESS</th>\n",
       "    </tr>\n",
       "  </thead>\n",
       "  <tbody>\n",
       "    <tr>\n",
       "      <th>47519</th>\n",
       "      <td>0</td>\n",
       "      <td>1</td>\n",
       "    </tr>\n",
       "    <tr>\n",
       "      <th>52248</th>\n",
       "      <td>0</td>\n",
       "      <td>1</td>\n",
       "    </tr>\n",
       "    <tr>\n",
       "      <th>32504</th>\n",
       "      <td>0</td>\n",
       "      <td>1</td>\n",
       "    </tr>\n",
       "    <tr>\n",
       "      <th>54658</th>\n",
       "      <td>1</td>\n",
       "      <td>0</td>\n",
       "    </tr>\n",
       "    <tr>\n",
       "      <th>13889</th>\n",
       "      <td>0</td>\n",
       "      <td>1</td>\n",
       "    </tr>\n",
       "    <tr>\n",
       "      <th>35162</th>\n",
       "      <td>0</td>\n",
       "      <td>1</td>\n",
       "    </tr>\n",
       "    <tr>\n",
       "      <th>37998</th>\n",
       "      <td>0</td>\n",
       "      <td>1</td>\n",
       "    </tr>\n",
       "    <tr>\n",
       "      <th>44435</th>\n",
       "      <td>0</td>\n",
       "      <td>1</td>\n",
       "    </tr>\n",
       "    <tr>\n",
       "      <th>4200</th>\n",
       "      <td>1</td>\n",
       "      <td>0</td>\n",
       "    </tr>\n",
       "    <tr>\n",
       "      <th>54302</th>\n",
       "      <td>0</td>\n",
       "      <td>1</td>\n",
       "    </tr>\n",
       "    <tr>\n",
       "      <th>26136</th>\n",
       "      <td>0</td>\n",
       "      <td>1</td>\n",
       "    </tr>\n",
       "    <tr>\n",
       "      <th>46715</th>\n",
       "      <td>0</td>\n",
       "      <td>1</td>\n",
       "    </tr>\n",
       "    <tr>\n",
       "      <th>18542</th>\n",
       "      <td>0</td>\n",
       "      <td>1</td>\n",
       "    </tr>\n",
       "    <tr>\n",
       "      <th>26437</th>\n",
       "      <td>0</td>\n",
       "      <td>1</td>\n",
       "    </tr>\n",
       "    <tr>\n",
       "      <th>16475</th>\n",
       "      <td>0</td>\n",
       "      <td>1</td>\n",
       "    </tr>\n",
       "    <tr>\n",
       "      <th>6218</th>\n",
       "      <td>0</td>\n",
       "      <td>1</td>\n",
       "    </tr>\n",
       "    <tr>\n",
       "      <th>41463</th>\n",
       "      <td>0</td>\n",
       "      <td>1</td>\n",
       "    </tr>\n",
       "    <tr>\n",
       "      <th>16320</th>\n",
       "      <td>0</td>\n",
       "      <td>1</td>\n",
       "    </tr>\n",
       "    <tr>\n",
       "      <th>51353</th>\n",
       "      <td>0</td>\n",
       "      <td>1</td>\n",
       "    </tr>\n",
       "    <tr>\n",
       "      <th>23870</th>\n",
       "      <td>0</td>\n",
       "      <td>1</td>\n",
       "    </tr>\n",
       "    <tr>\n",
       "      <th>39950</th>\n",
       "      <td>0</td>\n",
       "      <td>1</td>\n",
       "    </tr>\n",
       "    <tr>\n",
       "      <th>33441</th>\n",
       "      <td>0</td>\n",
       "      <td>1</td>\n",
       "    </tr>\n",
       "    <tr>\n",
       "      <th>596</th>\n",
       "      <td>1</td>\n",
       "      <td>0</td>\n",
       "    </tr>\n",
       "    <tr>\n",
       "      <th>55885</th>\n",
       "      <td>0</td>\n",
       "      <td>1</td>\n",
       "    </tr>\n",
       "    <tr>\n",
       "      <th>24135</th>\n",
       "      <td>0</td>\n",
       "      <td>1</td>\n",
       "    </tr>\n",
       "    <tr>\n",
       "      <th>40793</th>\n",
       "      <td>0</td>\n",
       "      <td>1</td>\n",
       "    </tr>\n",
       "    <tr>\n",
       "      <th>51082</th>\n",
       "      <td>0</td>\n",
       "      <td>1</td>\n",
       "    </tr>\n",
       "    <tr>\n",
       "      <th>346</th>\n",
       "      <td>1</td>\n",
       "      <td>0</td>\n",
       "    </tr>\n",
       "    <tr>\n",
       "      <th>6453</th>\n",
       "      <td>0</td>\n",
       "      <td>1</td>\n",
       "    </tr>\n",
       "    <tr>\n",
       "      <th>20520</th>\n",
       "      <td>0</td>\n",
       "      <td>1</td>\n",
       "    </tr>\n",
       "    <tr>\n",
       "      <th>...</th>\n",
       "      <td>...</td>\n",
       "      <td>...</td>\n",
       "    </tr>\n",
       "    <tr>\n",
       "      <th>12444</th>\n",
       "      <td>0</td>\n",
       "      <td>1</td>\n",
       "    </tr>\n",
       "    <tr>\n",
       "      <th>44064</th>\n",
       "      <td>0</td>\n",
       "      <td>1</td>\n",
       "    </tr>\n",
       "    <tr>\n",
       "      <th>51335</th>\n",
       "      <td>0</td>\n",
       "      <td>1</td>\n",
       "    </tr>\n",
       "    <tr>\n",
       "      <th>1515</th>\n",
       "      <td>1</td>\n",
       "      <td>0</td>\n",
       "    </tr>\n",
       "    <tr>\n",
       "      <th>7247</th>\n",
       "      <td>0</td>\n",
       "      <td>1</td>\n",
       "    </tr>\n",
       "    <tr>\n",
       "      <th>5888</th>\n",
       "      <td>0</td>\n",
       "      <td>1</td>\n",
       "    </tr>\n",
       "    <tr>\n",
       "      <th>26523</th>\n",
       "      <td>0</td>\n",
       "      <td>1</td>\n",
       "    </tr>\n",
       "    <tr>\n",
       "      <th>8320</th>\n",
       "      <td>0</td>\n",
       "      <td>1</td>\n",
       "    </tr>\n",
       "    <tr>\n",
       "      <th>25132</th>\n",
       "      <td>0</td>\n",
       "      <td>1</td>\n",
       "    </tr>\n",
       "    <tr>\n",
       "      <th>34930</th>\n",
       "      <td>0</td>\n",
       "      <td>1</td>\n",
       "    </tr>\n",
       "    <tr>\n",
       "      <th>54496</th>\n",
       "      <td>0</td>\n",
       "      <td>1</td>\n",
       "    </tr>\n",
       "    <tr>\n",
       "      <th>29190</th>\n",
       "      <td>0</td>\n",
       "      <td>1</td>\n",
       "    </tr>\n",
       "    <tr>\n",
       "      <th>51500</th>\n",
       "      <td>0</td>\n",
       "      <td>1</td>\n",
       "    </tr>\n",
       "    <tr>\n",
       "      <th>53307</th>\n",
       "      <td>0</td>\n",
       "      <td>1</td>\n",
       "    </tr>\n",
       "    <tr>\n",
       "      <th>4929</th>\n",
       "      <td>0</td>\n",
       "      <td>1</td>\n",
       "    </tr>\n",
       "    <tr>\n",
       "      <th>8474</th>\n",
       "      <td>0</td>\n",
       "      <td>1</td>\n",
       "    </tr>\n",
       "    <tr>\n",
       "      <th>33728</th>\n",
       "      <td>0</td>\n",
       "      <td>1</td>\n",
       "    </tr>\n",
       "    <tr>\n",
       "      <th>43986</th>\n",
       "      <td>0</td>\n",
       "      <td>1</td>\n",
       "    </tr>\n",
       "    <tr>\n",
       "      <th>9269</th>\n",
       "      <td>0</td>\n",
       "      <td>1</td>\n",
       "    </tr>\n",
       "    <tr>\n",
       "      <th>425</th>\n",
       "      <td>1</td>\n",
       "      <td>0</td>\n",
       "    </tr>\n",
       "    <tr>\n",
       "      <th>52438</th>\n",
       "      <td>0</td>\n",
       "      <td>1</td>\n",
       "    </tr>\n",
       "    <tr>\n",
       "      <th>31946</th>\n",
       "      <td>0</td>\n",
       "      <td>1</td>\n",
       "    </tr>\n",
       "    <tr>\n",
       "      <th>25014</th>\n",
       "      <td>0</td>\n",
       "      <td>1</td>\n",
       "    </tr>\n",
       "    <tr>\n",
       "      <th>47646</th>\n",
       "      <td>0</td>\n",
       "      <td>1</td>\n",
       "    </tr>\n",
       "    <tr>\n",
       "      <th>18756</th>\n",
       "      <td>0</td>\n",
       "      <td>1</td>\n",
       "    </tr>\n",
       "    <tr>\n",
       "      <th>49879</th>\n",
       "      <td>0</td>\n",
       "      <td>1</td>\n",
       "    </tr>\n",
       "    <tr>\n",
       "      <th>4583</th>\n",
       "      <td>0</td>\n",
       "      <td>1</td>\n",
       "    </tr>\n",
       "    <tr>\n",
       "      <th>1210</th>\n",
       "      <td>0</td>\n",
       "      <td>1</td>\n",
       "    </tr>\n",
       "    <tr>\n",
       "      <th>22644</th>\n",
       "      <td>0</td>\n",
       "      <td>1</td>\n",
       "    </tr>\n",
       "    <tr>\n",
       "      <th>45095</th>\n",
       "      <td>0</td>\n",
       "      <td>1</td>\n",
       "    </tr>\n",
       "  </tbody>\n",
       "</table>\n",
       "<p>39208 rows × 2 columns</p>\n",
       "</div>"
      ],
      "text/plain": [
       "       FAILURE  SUCCESS\n",
       "47519        0        1\n",
       "52248        0        1\n",
       "32504        0        1\n",
       "54658        1        0\n",
       "13889        0        1\n",
       "35162        0        1\n",
       "37998        0        1\n",
       "44435        0        1\n",
       "4200         1        0\n",
       "54302        0        1\n",
       "26136        0        1\n",
       "46715        0        1\n",
       "18542        0        1\n",
       "26437        0        1\n",
       "16475        0        1\n",
       "6218         0        1\n",
       "41463        0        1\n",
       "16320        0        1\n",
       "51353        0        1\n",
       "23870        0        1\n",
       "39950        0        1\n",
       "33441        0        1\n",
       "596          1        0\n",
       "55885        0        1\n",
       "24135        0        1\n",
       "40793        0        1\n",
       "51082        0        1\n",
       "346          1        0\n",
       "6453         0        1\n",
       "20520        0        1\n",
       "...        ...      ...\n",
       "12444        0        1\n",
       "44064        0        1\n",
       "51335        0        1\n",
       "1515         1        0\n",
       "7247         0        1\n",
       "5888         0        1\n",
       "26523        0        1\n",
       "8320         0        1\n",
       "25132        0        1\n",
       "34930        0        1\n",
       "54496        0        1\n",
       "29190        0        1\n",
       "51500        0        1\n",
       "53307        0        1\n",
       "4929         0        1\n",
       "8474         0        1\n",
       "33728        0        1\n",
       "43986        0        1\n",
       "9269         0        1\n",
       "425          1        0\n",
       "52438        0        1\n",
       "31946        0        1\n",
       "25014        0        1\n",
       "47646        0        1\n",
       "18756        0        1\n",
       "49879        0        1\n",
       "4583         0        1\n",
       "1210         0        1\n",
       "22644        0        1\n",
       "45095        0        1\n",
       "\n",
       "[39208 rows x 2 columns]"
      ]
     },
     "execution_count": 167,
     "metadata": {},
     "output_type": "execute_result"
    }
   ],
   "source": [
    "y_train_2"
   ]
  },
  {
   "cell_type": "code",
   "execution_count": 166,
   "metadata": {},
   "outputs": [
    {
     "data": {
      "text/plain": [
       "47519    0\n",
       "52248    0\n",
       "32504    0\n",
       "54658    1\n",
       "13889    0\n",
       "35162    0\n",
       "37998    0\n",
       "44435    0\n",
       "4200     1\n",
       "54302    0\n",
       "26136    0\n",
       "46715    0\n",
       "18542    0\n",
       "26437    0\n",
       "16475    0\n",
       "6218     0\n",
       "41463    0\n",
       "16320    0\n",
       "51353    0\n",
       "23870    0\n",
       "39950    0\n",
       "33441    0\n",
       "596      1\n",
       "55885    0\n",
       "24135    0\n",
       "40793    0\n",
       "51082    0\n",
       "346      1\n",
       "6453     0\n",
       "20520    0\n",
       "        ..\n",
       "12444    0\n",
       "44064    0\n",
       "51335    0\n",
       "1515     1\n",
       "7247     0\n",
       "5888     0\n",
       "26523    0\n",
       "8320     0\n",
       "25132    0\n",
       "34930    0\n",
       "54496    0\n",
       "29190    0\n",
       "51500    0\n",
       "53307    0\n",
       "4929     0\n",
       "8474     0\n",
       "33728    0\n",
       "43986    0\n",
       "9269     0\n",
       "425      1\n",
       "52438    0\n",
       "31946    0\n",
       "25014    0\n",
       "47646    0\n",
       "18756    0\n",
       "49879    0\n",
       "4583     0\n",
       "1210     0\n",
       "22644    0\n",
       "45095    0\n",
       "Name: FAILURE, Length: 39208, dtype: int64"
      ]
     },
     "execution_count": 166,
     "metadata": {},
     "output_type": "execute_result"
    }
   ],
   "source": [
    "y_train"
   ]
  },
  {
   "cell_type": "code",
   "execution_count": 104,
   "metadata": {},
   "outputs": [],
   "source": [
    "X_train_sampled = X_train_true.append(X_train_false)\n",
    "y_train_sampled = y_train.loc[X_train_sampled.index]"
   ]
  },
  {
   "cell_type": "code",
   "execution_count": 173,
   "metadata": {},
   "outputs": [],
   "source": [
    "y_train_sampled_2 = y_train_2.loc[X_train_sampled.index]"
   ]
  },
  {
   "cell_type": "code",
   "execution_count": 105,
   "metadata": {},
   "outputs": [
    {
     "data": {
      "text/plain": [
       "(4776,)"
      ]
     },
     "execution_count": 105,
     "metadata": {},
     "output_type": "execute_result"
    }
   ],
   "source": [
    "y_train_sampled.shape"
   ]
  },
  {
   "cell_type": "code",
   "execution_count": 106,
   "metadata": {},
   "outputs": [],
   "source": [
    "X_train_minmax = X_minmax.transform(X_train_sampled)\n"
   ]
  },
  {
   "cell_type": "markdown",
   "metadata": {},
   "source": [
    "## Logistic Regression"
   ]
  },
  {
   "cell_type": "code",
   "execution_count": 107,
   "metadata": {},
   "outputs": [],
   "source": [
    "model = LogisticRegression()"
   ]
  },
  {
   "cell_type": "code",
   "execution_count": 108,
   "metadata": {},
   "outputs": [
    {
     "data": {
      "text/plain": [
       "LogisticRegression(C=1.0, class_weight=None, dual=False, fit_intercept=True,\n",
       "          intercept_scaling=1, max_iter=100, multi_class='ovr', n_jobs=1,\n",
       "          penalty='l2', random_state=None, solver='liblinear', tol=0.0001,\n",
       "          verbose=0, warm_start=False)"
      ]
     },
     "execution_count": 108,
     "metadata": {},
     "output_type": "execute_result"
    }
   ],
   "source": [
    "model.fit(X_train_minmax,y_train_sampled)"
   ]
  },
  {
   "cell_type": "code",
   "execution_count": 109,
   "metadata": {},
   "outputs": [
    {
     "data": {
      "text/plain": [
       "0.7007956448911222"
      ]
     },
     "execution_count": 109,
     "metadata": {},
     "output_type": "execute_result"
    }
   ],
   "source": [
    "model.score(X_train_minmax,y_train_sampled)"
   ]
  },
  {
   "cell_type": "code",
   "execution_count": 110,
   "metadata": {},
   "outputs": [
    {
     "data": {
      "text/plain": [
       "0.7003094501309212"
      ]
     },
     "execution_count": 110,
     "metadata": {},
     "output_type": "execute_result"
    }
   ],
   "source": [
    "model.score(X_test_minmax,y_test)"
   ]
  },
  {
   "cell_type": "code",
   "execution_count": 111,
   "metadata": {},
   "outputs": [
    {
     "data": {
      "text/plain": [
       "43"
      ]
     },
     "execution_count": 111,
     "metadata": {},
     "output_type": "execute_result"
    }
   ],
   "source": [
    "len(model.coef_[0])"
   ]
  },
  {
   "cell_type": "code",
   "execution_count": 112,
   "metadata": {},
   "outputs": [
    {
     "data": {
      "text/plain": [
       "43"
      ]
     },
     "execution_count": 112,
     "metadata": {},
     "output_type": "execute_result"
    }
   ],
   "source": [
    "len(inputColumns)"
   ]
  },
  {
   "cell_type": "code",
   "execution_count": 113,
   "metadata": {},
   "outputs": [
    {
     "data": {
      "text/plain": [
       "array([-3.65505002e-01,  9.03048328e+00, -2.68452219e+00,  7.69496654e-02,\n",
       "        1.48365769e+00,  5.16484085e-01,  1.84945409e+00,  7.80408085e-01,\n",
       "        4.40705678e-01,  3.70068925e-01,  4.20160955e-01,  2.20239452e-01,\n",
       "        1.02680561e+00,  1.62581890e+00,  0.00000000e+00, -3.38157169e-01,\n",
       "        1.99429087e+00, -7.42075242e-01, -1.36754023e+00,  0.00000000e+00,\n",
       "        3.79048381e-01, -1.83060214e-02,  0.00000000e+00, -4.38924034e-01,\n",
       "        1.32560795e+00,  3.17198364e-03, -1.22056931e-01, -1.06993535e-01,\n",
       "       -5.89870177e-01,  0.00000000e+00,  0.00000000e+00, -4.22653945e-01,\n",
       "        0.00000000e+00,  1.25223051e+00, -6.63178447e-01,  4.02207831e-01,\n",
       "        0.00000000e+00, -6.00510209e-01,  5.55242543e-01,  3.59501783e-03,\n",
       "        1.18306488e-01, -1.75974602e-01, -3.31859963e+00])"
      ]
     },
     "execution_count": 113,
     "metadata": {},
     "output_type": "execute_result"
    }
   ],
   "source": [
    "model.coef_[0]"
   ]
  },
  {
   "cell_type": "code",
   "execution_count": 114,
   "metadata": {},
   "outputs": [
    {
     "name": "stdout",
     "output_type": "stream",
     "text": [
      "             precision    recall  f1-score   support\n",
      "\n",
      "          0       0.97      0.70      0.81     15780\n",
      "          1       0.13      0.68      0.22      1024\n",
      "\n",
      "avg / total       0.92      0.70      0.78     16804\n",
      "\n"
     ]
    }
   ],
   "source": [
    "from sklearn.metrics import classification_report\n",
    "print(classification_report(y_test, model.predict(X_test_minmax)))"
   ]
  },
  {
   "cell_type": "code",
   "execution_count": 115,
   "metadata": {},
   "outputs": [
    {
     "name": "stdout",
     "output_type": "stream",
     "text": [
      "[[11072  4708]\n",
      " [  328   696]]\n"
     ]
    }
   ],
   "source": [
    "from sklearn.metrics import confusion_matrix\n",
    "print(confusion_matrix(y_test, model.predict(X_test_minmax)))"
   ]
  },
  {
   "cell_type": "code",
   "execution_count": 116,
   "metadata": {},
   "outputs": [],
   "source": [
    "zipped = zip(model.coef_[0],inputColumns)"
   ]
  },
  {
   "cell_type": "code",
   "execution_count": 117,
   "metadata": {},
   "outputs": [
    {
     "data": {
      "text/plain": [
       "[(-0.3655050023905056, 'DIAMETER'),\n",
       " (9.030483282045898, 'PIPE_LENGTH'),\n",
       " (-2.6845221932270626, 'ROUGHNESS'),\n",
       " (0.07694966539797814, 'HL1000'),\n",
       " (1.4836576895247697, 'AVE_FLOW'),\n",
       " (0.5164840848085597, 'MAX_VELOCITY'),\n",
       " (1.8494540943760616, 'MIN_VELOCITY'),\n",
       " (0.7804080846840349, 'AVE_VELOCITY'),\n",
       " (0.4407056776943713, 'AVE_HEADLOSS'),\n",
       " (0.37006892497356675, 'ELEVATION'),\n",
       " (0.4201609548797858, 'RUN_ELEV'),\n",
       " (0.22023945165428968, 'DEMAND'),\n",
       " (1.0268056078005228, 'AVE_HEAD'),\n",
       " (1.6258188970861962, 'AVE_PRESS'),\n",
       " (0.0, 'MATERIAL_AMTYT'),\n",
       " (-0.3381571694063241, 'MATERIAL_CI'),\n",
       " (1.9942908728267783, 'MATERIAL_CO'),\n",
       " (-0.7420752422270527, 'MATERIAL_COP'),\n",
       " (-1.3675402299684567, 'MATERIAL_CPP'),\n",
       " (0.0, 'MATERIAL_Copper'),\n",
       " (0.37904838116615885, 'MATERIAL_DEL'),\n",
       " (-0.018306021416301787, 'MATERIAL_DIP'),\n",
       " (0.0, 'MATERIAL_EARGEO'),\n",
       " (-0.4389240344493731, 'MATERIAL_GP'),\n",
       " (1.3256079547494881, 'MATERIAL_HDPE'),\n",
       " (0.0031719836416887926, 'MATERIAL_L.J.'),\n",
       " (-0.1220569305339143, 'MATERIAL_M.J.'),\n",
       " (-0.10699353507040044, 'MATERIAL_MCW'),\n",
       " (-0.5898701773683749, 'MATERIAL_OTH'),\n",
       " (0.0, 'MATERIAL_PE'),\n",
       " (0.0, 'MATERIAL_PP'),\n",
       " (-0.42265394468173084, 'MATERIAL_PVC'),\n",
       " (0.0, 'MATERIAL_R.L.J.'),\n",
       " (1.2522305119854398, 'MATERIAL_RCP'),\n",
       " (-0.6631784471552237, 'MATERIAL_SP'),\n",
       " (0.40220783107222274, 'MATERIAL_ST'),\n",
       " (0.0, 'MATERIAL_T.D'),\n",
       " (-0.6005102085253227, 'MATERIAL_T.D.'),\n",
       " (0.5552425434513476, 'MATERIAL_TTE'),\n",
       " (0.003595017832289615, 'MATERIAL_TYT'),\n",
       " (0.1183064880043983, 'MATERIAL_UNK'),\n",
       " (-0.17597460208017882, 'MATERIAL_W.I.'),\n",
       " (-3.3185996266024316, 'Age')]"
      ]
     },
     "execution_count": 117,
     "metadata": {},
     "output_type": "execute_result"
    }
   ],
   "source": [
    "list(zipped)"
   ]
  },
  {
   "cell_type": "markdown",
   "metadata": {},
   "source": [
    "## Random Forest"
   ]
  },
  {
   "cell_type": "code",
   "execution_count": 118,
   "metadata": {},
   "outputs": [],
   "source": [
    "from sklearn.ensemble import RandomForestClassifier"
   ]
  },
  {
   "cell_type": "code",
   "execution_count": 178,
   "metadata": {},
   "outputs": [],
   "source": [
    "rfmodel = RandomForestClassifier(n_estimators=300)"
   ]
  },
  {
   "cell_type": "code",
   "execution_count": 179,
   "metadata": {},
   "outputs": [
    {
     "data": {
      "text/plain": [
       "RandomForestClassifier(bootstrap=True, class_weight=None, criterion='gini',\n",
       "            max_depth=None, max_features='auto', max_leaf_nodes=None,\n",
       "            min_impurity_decrease=0.0, min_impurity_split=None,\n",
       "            min_samples_leaf=1, min_samples_split=2,\n",
       "            min_weight_fraction_leaf=0.0, n_estimators=300, n_jobs=1,\n",
       "            oob_score=False, random_state=None, verbose=0,\n",
       "            warm_start=False)"
      ]
     },
     "execution_count": 179,
     "metadata": {},
     "output_type": "execute_result"
    }
   ],
   "source": [
    "rfmodel.fit(X_train_minmax, y_train_sampled)"
   ]
  },
  {
   "cell_type": "code",
   "execution_count": 180,
   "metadata": {},
   "outputs": [
    {
     "data": {
      "text/plain": [
       "1.0"
      ]
     },
     "execution_count": 180,
     "metadata": {},
     "output_type": "execute_result"
    }
   ],
   "source": [
    "rfmodel.score(X_train_minmax,y_train_sampled)"
   ]
  },
  {
   "cell_type": "code",
   "execution_count": 181,
   "metadata": {},
   "outputs": [
    {
     "data": {
      "text/plain": [
       "0.8173649131159247"
      ]
     },
     "execution_count": 181,
     "metadata": {},
     "output_type": "execute_result"
    }
   ],
   "source": [
    "rfmodel.score(X_test_minmax,y_test)"
   ]
  },
  {
   "cell_type": "code",
   "execution_count": 182,
   "metadata": {},
   "outputs": [
    {
     "data": {
      "text/plain": [
       "array([4.46942057e-02, 1.03856655e-01, 6.25616504e-02, 4.72627154e-02,\n",
       "       5.23351829e-02, 5.10167640e-02, 5.08232216e-02, 4.88865230e-02,\n",
       "       5.96282306e-02, 5.09587275e-02, 5.11973101e-02, 6.90686811e-02,\n",
       "       7.00685178e-02, 5.49542616e-02, 0.00000000e+00, 6.04721501e-04,\n",
       "       6.79035501e-04, 6.36884297e-05, 7.55182340e-04, 0.00000000e+00,\n",
       "       3.84730045e-03, 8.26205780e-03, 0.00000000e+00, 6.09959624e-05,\n",
       "       4.25310720e-05, 3.71990684e-03, 1.07530995e-02, 8.44736370e-06,\n",
       "       1.46549206e-04, 0.00000000e+00, 0.00000000e+00, 8.85811368e-05,\n",
       "       0.00000000e+00, 1.37799121e-04, 2.10088790e-05, 4.27584211e-04,\n",
       "       0.00000000e+00, 1.28954716e-02, 6.87979863e-06, 5.27386311e-03,\n",
       "       1.91533788e-03, 1.22599503e-03, 1.31751316e-01])"
      ]
     },
     "execution_count": 182,
     "metadata": {},
     "output_type": "execute_result"
    }
   ],
   "source": [
    "rfmodel.feature_importances_"
   ]
  },
  {
   "cell_type": "code",
   "execution_count": 183,
   "metadata": {},
   "outputs": [],
   "source": [
    "zipped = zip(list(rfmodel.feature_importances_),inputColumns)\n"
   ]
  },
  {
   "cell_type": "code",
   "execution_count": 184,
   "metadata": {},
   "outputs": [
    {
     "name": "stdout",
     "output_type": "stream",
     "text": [
      "[(0.1318, 'Age'), (0.1039, 'PIPE_LENGTH'), (0.0701, 'AVE_HEAD'), (0.0691, 'DEMAND'), (0.0626, 'ROUGHNESS'), (0.0596, 'AVE_HEADLOSS'), (0.055, 'AVE_PRESS'), (0.0523, 'AVE_FLOW'), (0.0512, 'RUN_ELEV'), (0.051, 'MAX_VELOCITY'), (0.051, 'ELEVATION'), (0.0508, 'MIN_VELOCITY'), (0.0489, 'AVE_VELOCITY'), (0.0473, 'HL1000'), (0.0447, 'DIAMETER'), (0.0129, 'MATERIAL_T.D.'), (0.0108, 'MATERIAL_M.J.'), (0.0083, 'MATERIAL_DIP'), (0.0053, 'MATERIAL_TYT'), (0.0038, 'MATERIAL_DEL'), (0.0037, 'MATERIAL_L.J.'), (0.0019, 'MATERIAL_UNK'), (0.0012, 'MATERIAL_W.I.'), (0.0008, 'MATERIAL_CPP'), (0.0007, 'MATERIAL_CO'), (0.0006, 'MATERIAL_CI'), (0.0004, 'MATERIAL_ST'), (0.0001, 'MATERIAL_RCP'), (0.0001, 'MATERIAL_PVC'), (0.0001, 'MATERIAL_OTH'), (0.0001, 'MATERIAL_GP'), (0.0001, 'MATERIAL_COP'), (0.0, 'MATERIAL_TTE'), (0.0, 'MATERIAL_T.D'), (0.0, 'MATERIAL_SP'), (0.0, 'MATERIAL_R.L.J.'), (0.0, 'MATERIAL_PP'), (0.0, 'MATERIAL_PE'), (0.0, 'MATERIAL_MCW'), (0.0, 'MATERIAL_HDPE'), (0.0, 'MATERIAL_EARGEO'), (0.0, 'MATERIAL_Copper'), (0.0, 'MATERIAL_AMTYT')]\n"
     ]
    }
   ],
   "source": [
    "print(sorted(zip(map(lambda x: round(x, 4), rfmodel.feature_importances_), inputColumns), reverse=True))"
   ]
  },
  {
   "cell_type": "code",
   "execution_count": 185,
   "metadata": {},
   "outputs": [
    {
     "data": {
      "text/plain": [
       "['DIAMETER',\n",
       " 'PIPE_LENGTH',\n",
       " 'ROUGHNESS',\n",
       " 'HL1000',\n",
       " 'AVE_FLOW',\n",
       " 'MAX_VELOCITY',\n",
       " 'MIN_VELOCITY',\n",
       " 'AVE_VELOCITY',\n",
       " 'AVE_HEADLOSS',\n",
       " 'ELEVATION',\n",
       " 'RUN_ELEV',\n",
       " 'DEMAND',\n",
       " 'AVE_HEAD',\n",
       " 'AVE_PRESS',\n",
       " 'MATERIAL_AMTYT',\n",
       " 'MATERIAL_CI',\n",
       " 'MATERIAL_CO',\n",
       " 'MATERIAL_COP',\n",
       " 'MATERIAL_CPP',\n",
       " 'MATERIAL_Copper',\n",
       " 'MATERIAL_DEL',\n",
       " 'MATERIAL_DIP',\n",
       " 'MATERIAL_EARGEO',\n",
       " 'MATERIAL_GP',\n",
       " 'MATERIAL_HDPE',\n",
       " 'MATERIAL_L.J.',\n",
       " 'MATERIAL_M.J.',\n",
       " 'MATERIAL_MCW',\n",
       " 'MATERIAL_OTH',\n",
       " 'MATERIAL_PE',\n",
       " 'MATERIAL_PP',\n",
       " 'MATERIAL_PVC',\n",
       " 'MATERIAL_R.L.J.',\n",
       " 'MATERIAL_RCP',\n",
       " 'MATERIAL_SP',\n",
       " 'MATERIAL_ST',\n",
       " 'MATERIAL_T.D',\n",
       " 'MATERIAL_T.D.',\n",
       " 'MATERIAL_TTE',\n",
       " 'MATERIAL_TYT',\n",
       " 'MATERIAL_UNK',\n",
       " 'MATERIAL_W.I.',\n",
       " 'Age']"
      ]
     },
     "execution_count": 185,
     "metadata": {},
     "output_type": "execute_result"
    }
   ],
   "source": [
    "inputColumns"
   ]
  },
  {
   "cell_type": "code",
   "execution_count": 186,
   "metadata": {},
   "outputs": [
    {
     "data": {
      "text/plain": [
       "[1, 2, 3, 4, 5]"
      ]
     },
     "execution_count": 186,
     "metadata": {},
     "output_type": "execute_result"
    }
   ],
   "source": [
    "sorted([1,3,5,2,4])"
   ]
  },
  {
   "cell_type": "code",
   "execution_count": 187,
   "metadata": {},
   "outputs": [
    {
     "name": "stdout",
     "output_type": "stream",
     "text": [
      "[[12922  2858]\n",
      " [  211   813]]\n"
     ]
    }
   ],
   "source": [
    "print(confusion_matrix(y_test, rfmodel.predict(X_test_minmax)))"
   ]
  },
  {
   "cell_type": "markdown",
   "metadata": {},
   "source": [
    "## Gridsearching"
   ]
  },
  {
   "cell_type": "code",
   "execution_count": 128,
   "metadata": {},
   "outputs": [],
   "source": [
    "model = RandomForestClassifier()\n",
    "from sklearn.model_selection import GridSearchCV\n",
    "param_grid = {'n_estimators': [20,50,100,200]}\n",
    "grid = GridSearchCV(model, param_grid, verbose=3)\n"
   ]
  },
  {
   "cell_type": "code",
   "execution_count": 129,
   "metadata": {},
   "outputs": [
    {
     "name": "stdout",
     "output_type": "stream",
     "text": [
      "Fitting 3 folds for each of 4 candidates, totalling 12 fits\n",
      "[CV] n_estimators=20 .................................................\n",
      "[CV] ........ n_estimators=20, score=0.7952261306532663, total=   0.1s\n",
      "[CV] n_estimators=20 .................................................\n"
     ]
    },
    {
     "name": "stderr",
     "output_type": "stream",
     "text": [
      "[Parallel(n_jobs=1)]: Done   1 out of   1 | elapsed:    0.1s remaining:    0.0s\n"
     ]
    },
    {
     "name": "stdout",
     "output_type": "stream",
     "text": [
      "[CV] ........ n_estimators=20, score=0.7713567839195979, total=   0.2s\n",
      "[CV] n_estimators=20 .................................................\n"
     ]
    },
    {
     "name": "stderr",
     "output_type": "stream",
     "text": [
      "[Parallel(n_jobs=1)]: Done   2 out of   2 | elapsed:    0.4s remaining:    0.0s\n"
     ]
    },
    {
     "name": "stdout",
     "output_type": "stream",
     "text": [
      "[CV] ......... n_estimators=20, score=0.792713567839196, total=   0.1s\n",
      "[CV] n_estimators=50 .................................................\n",
      "[CV] ........ n_estimators=50, score=0.8046482412060302, total=   0.5s\n",
      "[CV] n_estimators=50 .................................................\n",
      "[CV] ........ n_estimators=50, score=0.7870603015075377, total=   0.5s\n",
      "[CV] n_estimators=50 .................................................\n",
      "[CV] ........ n_estimators=50, score=0.8008793969849246, total=   0.5s\n",
      "[CV] n_estimators=100 ................................................\n",
      "[CV] ....... n_estimators=100, score=0.8027638190954773, total=   1.3s\n",
      "[CV] n_estimators=100 ................................................\n",
      "[CV] ....... n_estimators=100, score=0.7933417085427136, total=   1.1s\n",
      "[CV] n_estimators=100 ................................................\n",
      "[CV] ....... n_estimators=100, score=0.8090452261306532, total=   1.0s\n",
      "[CV] n_estimators=200 ................................................\n",
      "[CV] ........ n_estimators=200, score=0.803391959798995, total=   2.2s\n",
      "[CV] n_estimators=200 ................................................\n",
      "[CV] ........ n_estimators=200, score=0.800251256281407, total=   2.3s\n",
      "[CV] n_estimators=200 ................................................\n",
      "[CV] ....... n_estimators=200, score=0.8172110552763819, total=   2.0s\n"
     ]
    },
    {
     "name": "stderr",
     "output_type": "stream",
     "text": [
      "[Parallel(n_jobs=1)]: Done  12 out of  12 | elapsed:   14.1s finished\n"
     ]
    },
    {
     "data": {
      "text/plain": [
       "GridSearchCV(cv=None, error_score='raise',\n",
       "       estimator=RandomForestClassifier(bootstrap=True, class_weight=None, criterion='gini',\n",
       "            max_depth=None, max_features='auto', max_leaf_nodes=None,\n",
       "            min_impurity_decrease=0.0, min_impurity_split=None,\n",
       "            min_samples_leaf=1, min_samples_split=2,\n",
       "            min_weight_fraction_leaf=0.0, n_estimators=10, n_jobs=1,\n",
       "            oob_score=False, random_state=None, verbose=0,\n",
       "            warm_start=False),\n",
       "       fit_params=None, iid=True, n_jobs=1,\n",
       "       param_grid={'n_estimators': [20, 50, 100, 200]},\n",
       "       pre_dispatch='2*n_jobs', refit=True, return_train_score='warn',\n",
       "       scoring=None, verbose=3)"
      ]
     },
     "execution_count": 129,
     "metadata": {},
     "output_type": "execute_result"
    }
   ],
   "source": [
    "grid.fit(X_train_minmax,y_train_sampled)"
   ]
  },
  {
   "cell_type": "code",
   "execution_count": 130,
   "metadata": {},
   "outputs": [
    {
     "data": {
      "text/plain": [
       "0.818079028802666"
      ]
     },
     "execution_count": 130,
     "metadata": {},
     "output_type": "execute_result"
    }
   ],
   "source": [
    "grid.score(X_test_minmax,y_test)"
   ]
  },
  {
   "cell_type": "code",
   "execution_count": 131,
   "metadata": {},
   "outputs": [
    {
     "data": {
      "text/plain": [
       "{'n_estimators': 200}"
      ]
     },
     "execution_count": 131,
     "metadata": {},
     "output_type": "execute_result"
    }
   ],
   "source": [
    "grid.best_params_"
   ]
  },
  {
   "cell_type": "code",
   "execution_count": 134,
   "metadata": {},
   "outputs": [
    {
     "name": "stdout",
     "output_type": "stream",
     "text": [
      "             precision    recall  f1-score   support\n",
      "\n",
      "          0       0.98      0.82      0.89     15780\n",
      "          1       0.22      0.79      0.35      1024\n",
      "\n",
      "avg / total       0.94      0.82      0.86     16804\n",
      "\n"
     ]
    }
   ],
   "source": [
    "print(classification_report(y_test, grid.predict(X_test_minmax)))"
   ]
  },
  {
   "cell_type": "markdown",
   "metadata": {},
   "source": [
    "## Neural Network"
   ]
  },
  {
   "cell_type": "code",
   "execution_count": 144,
   "metadata": {},
   "outputs": [
    {
     "name": "stderr",
     "output_type": "stream",
     "text": [
      "C:\\ProgramData\\Anaconda3\\lib\\site-packages\\h5py\\__init__.py:36: FutureWarning: Conversion of the second argument of issubdtype from `float` to `np.floating` is deprecated. In future, it will be treated as `np.float64 == np.dtype(float).type`.\n",
      "  from ._conv import register_converters as _register_converters\n",
      "Using TensorFlow backend.\n"
     ]
    }
   ],
   "source": [
    "import tensorflow as tf\n",
    "from keras.models import Sequential\n",
    "from keras.utils import to_categorical\n",
    "from keras.layers import Dense"
   ]
  },
  {
   "cell_type": "code",
   "execution_count": 147,
   "metadata": {},
   "outputs": [],
   "source": [
    "nnmodel = Sequential()"
   ]
  },
  {
   "cell_type": "code",
   "execution_count": 148,
   "metadata": {},
   "outputs": [],
   "source": [
    "nnmodel.add(Dense(100, activation='relu', input_dim=X_train_minmax.shape[1]))"
   ]
  },
  {
   "cell_type": "code",
   "execution_count": 169,
   "metadata": {},
   "outputs": [],
   "source": [
    "nnmodel.add(Dense(2,activation = 'softmax'))"
   ]
  },
  {
   "cell_type": "code",
   "execution_count": 170,
   "metadata": {},
   "outputs": [],
   "source": [
    "nnmodel.compile(loss=\"categorical_crossentropy\",\n",
    "              optimizer=\"adam\", metrics=['accuracy'])"
   ]
  },
  {
   "cell_type": "code",
   "execution_count": 174,
   "metadata": {},
   "outputs": [
    {
     "name": "stdout",
     "output_type": "stream",
     "text": [
      "Epoch 1/100\n",
      " - 1s - loss: 0.6623 - acc: 0.6097\n",
      "Epoch 2/100\n",
      " - 0s - loss: 0.6392 - acc: 0.6336\n",
      "Epoch 3/100\n",
      " - 0s - loss: 0.6279 - acc: 0.6434\n",
      "Epoch 4/100\n",
      " - 0s - loss: 0.6163 - acc: 0.6642\n",
      "Epoch 5/100\n",
      " - 0s - loss: 0.6043 - acc: 0.6765\n",
      "Epoch 6/100\n",
      " - 0s - loss: 0.5910 - acc: 0.6972\n",
      "Epoch 7/100\n",
      " - 0s - loss: 0.5851 - acc: 0.7014\n",
      "Epoch 8/100\n",
      " - 0s - loss: 0.5751 - acc: 0.7155\n",
      "Epoch 9/100\n",
      " - 0s - loss: 0.5701 - acc: 0.7178\n",
      "Epoch 10/100\n",
      " - 0s - loss: 0.5621 - acc: 0.7289\n",
      "Epoch 11/100\n",
      " - 0s - loss: 0.5558 - acc: 0.7318\n",
      "Epoch 12/100\n",
      " - 0s - loss: 0.5509 - acc: 0.7324\n",
      "Epoch 13/100\n",
      " - 0s - loss: 0.5471 - acc: 0.7379\n",
      "Epoch 14/100\n",
      " - 0s - loss: 0.5444 - acc: 0.7397\n",
      "Epoch 15/100\n",
      " - 0s - loss: 0.5387 - acc: 0.7458\n",
      "Epoch 16/100\n",
      " - 0s - loss: 0.5364 - acc: 0.7425\n",
      "Epoch 17/100\n",
      " - 0s - loss: 0.5299 - acc: 0.7571\n",
      "Epoch 18/100\n",
      " - 0s - loss: 0.5270 - acc: 0.7485\n",
      "Epoch 19/100\n",
      " - 0s - loss: 0.5219 - acc: 0.7563\n",
      "Epoch 20/100\n",
      " - 0s - loss: 0.5167 - acc: 0.7592\n",
      "Epoch 21/100\n",
      " - 0s - loss: 0.5169 - acc: 0.7609\n",
      "Epoch 22/100\n",
      " - 0s - loss: 0.5098 - acc: 0.7582\n",
      "Epoch 23/100\n",
      " - 0s - loss: 0.5054 - acc: 0.7630\n",
      "Epoch 24/100\n",
      " - 0s - loss: 0.5039 - acc: 0.7663\n",
      "Epoch 25/100\n",
      " - 0s - loss: 0.5015 - acc: 0.7678\n",
      "Epoch 26/100\n",
      " - 0s - loss: 0.4958 - acc: 0.7718\n",
      "Epoch 27/100\n",
      " - 0s - loss: 0.4935 - acc: 0.7735\n",
      "Epoch 28/100\n",
      " - 0s - loss: 0.4903 - acc: 0.7739\n",
      "Epoch 29/100\n",
      " - 0s - loss: 0.4871 - acc: 0.7764\n",
      "Epoch 30/100\n",
      " - 0s - loss: 0.4837 - acc: 0.7778\n",
      "Epoch 31/100\n",
      " - 0s - loss: 0.4785 - acc: 0.7778\n",
      "Epoch 32/100\n",
      " - 0s - loss: 0.4789 - acc: 0.7799\n",
      "Epoch 33/100\n",
      " - 0s - loss: 0.4753 - acc: 0.7806\n",
      "Epoch 34/100\n",
      " - 0s - loss: 0.4716 - acc: 0.7837\n",
      "Epoch 35/100\n",
      " - 0s - loss: 0.4697 - acc: 0.7845\n",
      "Epoch 36/100\n",
      " - 0s - loss: 0.4665 - acc: 0.7902\n",
      "Epoch 37/100\n",
      " - 0s - loss: 0.4661 - acc: 0.7887\n",
      "Epoch 38/100\n",
      " - 0s - loss: 0.4618 - acc: 0.7820\n",
      "Epoch 39/100\n",
      " - 0s - loss: 0.4563 - acc: 0.7921\n",
      "Epoch 40/100\n",
      " - 0s - loss: 0.4647 - acc: 0.7835\n",
      "Epoch 41/100\n",
      " - 0s - loss: 0.4545 - acc: 0.7923\n",
      "Epoch 42/100\n",
      " - 0s - loss: 0.4523 - acc: 0.7936\n",
      "Epoch 43/100\n",
      " - 0s - loss: 0.4547 - acc: 0.7900\n",
      "Epoch 44/100\n",
      " - 0s - loss: 0.4499 - acc: 0.7933\n",
      "Epoch 45/100\n",
      " - 0s - loss: 0.4484 - acc: 0.7961\n",
      "Epoch 46/100\n",
      " - 0s - loss: 0.4461 - acc: 0.7971\n",
      "Epoch 47/100\n",
      " - 0s - loss: 0.4452 - acc: 0.7942\n",
      "Epoch 48/100\n",
      " - 0s - loss: 0.4440 - acc: 0.7950\n",
      "Epoch 49/100\n",
      " - 0s - loss: 0.4456 - acc: 0.7927\n",
      "Epoch 50/100\n",
      " - 0s - loss: 0.4428 - acc: 0.7961\n",
      "Epoch 51/100\n",
      " - 0s - loss: 0.4405 - acc: 0.7954\n",
      "Epoch 52/100\n",
      " - 0s - loss: 0.4379 - acc: 0.8011\n",
      "Epoch 53/100\n",
      " - 0s - loss: 0.4363 - acc: 0.8003\n",
      "Epoch 54/100\n",
      " - 0s - loss: 0.4357 - acc: 0.7996\n",
      "Epoch 55/100\n",
      " - 0s - loss: 0.4362 - acc: 0.8028\n",
      "Epoch 56/100\n",
      " - 0s - loss: 0.4352 - acc: 0.7982\n",
      "Epoch 57/100\n",
      " - 0s - loss: 0.4322 - acc: 0.8007\n",
      "Epoch 58/100\n",
      " - 0s - loss: 0.4309 - acc: 0.7992\n",
      "Epoch 59/100\n",
      " - 0s - loss: 0.4305 - acc: 0.8005\n",
      "Epoch 60/100\n",
      " - 0s - loss: 0.4314 - acc: 0.8005\n",
      "Epoch 61/100\n",
      " - 0s - loss: 0.4289 - acc: 0.8015\n",
      "Epoch 62/100\n",
      " - 0s - loss: 0.4271 - acc: 0.8036\n",
      "Epoch 63/100\n",
      " - 0s - loss: 0.4299 - acc: 0.7982\n",
      "Epoch 64/100\n",
      " - 0s - loss: 0.4292 - acc: 0.7998\n",
      "Epoch 65/100\n",
      " - 0s - loss: 0.4268 - acc: 0.8000\n",
      "Epoch 66/100\n",
      " - 0s - loss: 0.4286 - acc: 0.8063\n",
      "Epoch 67/100\n",
      " - 0s - loss: 0.4255 - acc: 0.8038\n",
      "Epoch 68/100\n",
      " - 0s - loss: 0.4252 - acc: 0.8023\n",
      "Epoch 69/100\n",
      " - 0s - loss: 0.4251 - acc: 0.8055\n",
      "Epoch 70/100\n",
      " - 0s - loss: 0.4255 - acc: 0.8034\n",
      "Epoch 71/100\n",
      " - 0s - loss: 0.4242 - acc: 0.8042\n",
      "Epoch 72/100\n",
      " - 0s - loss: 0.4228 - acc: 0.8055\n",
      "Epoch 73/100\n",
      " - 0s - loss: 0.4215 - acc: 0.8049\n",
      "Epoch 74/100\n",
      " - 0s - loss: 0.4225 - acc: 0.8059\n",
      "Epoch 75/100\n",
      " - 0s - loss: 0.4212 - acc: 0.8099\n",
      "Epoch 76/100\n",
      " - 0s - loss: 0.4189 - acc: 0.8065\n",
      "Epoch 77/100\n",
      " - 0s - loss: 0.4208 - acc: 0.8101\n",
      "Epoch 78/100\n",
      " - 0s - loss: 0.4181 - acc: 0.8076\n",
      "Epoch 79/100\n",
      " - 0s - loss: 0.4198 - acc: 0.8065\n",
      "Epoch 80/100\n",
      " - 0s - loss: 0.4182 - acc: 0.8076\n",
      "Epoch 81/100\n",
      " - 0s - loss: 0.4202 - acc: 0.8005\n",
      "Epoch 82/100\n",
      " - 0s - loss: 0.4204 - acc: 0.8015\n",
      "Epoch 83/100\n",
      " - 0s - loss: 0.4180 - acc: 0.8074\n",
      "Epoch 84/100\n",
      " - 0s - loss: 0.4171 - acc: 0.8122\n",
      "Epoch 85/100\n",
      " - 0s - loss: 0.4186 - acc: 0.8072\n",
      "Epoch 86/100\n",
      " - 0s - loss: 0.4158 - acc: 0.8082\n",
      "Epoch 87/100\n",
      " - 0s - loss: 0.4188 - acc: 0.8044\n",
      "Epoch 88/100\n",
      " - 0s - loss: 0.4159 - acc: 0.8088\n",
      "Epoch 89/100\n",
      " - 0s - loss: 0.4147 - acc: 0.8051\n",
      "Epoch 90/100\n",
      " - 0s - loss: 0.4145 - acc: 0.8059\n",
      "Epoch 91/100\n",
      " - 0s - loss: 0.4149 - acc: 0.8072\n",
      "Epoch 92/100\n",
      " - 0s - loss: 0.4156 - acc: 0.8084\n",
      "Epoch 93/100\n",
      " - 0s - loss: 0.4139 - acc: 0.8095\n",
      "Epoch 94/100\n",
      " - 0s - loss: 0.4135 - acc: 0.8082\n",
      "Epoch 95/100\n",
      " - 0s - loss: 0.4131 - acc: 0.8046\n",
      "Epoch 96/100\n",
      " - 0s - loss: 0.4146 - acc: 0.8147\n",
      "Epoch 97/100\n",
      " - 0s - loss: 0.4121 - acc: 0.8070\n",
      "Epoch 98/100\n",
      " - 0s - loss: 0.4121 - acc: 0.8118\n",
      "Epoch 99/100\n",
      " - 0s - loss: 0.4103 - acc: 0.8082\n",
      "Epoch 100/100\n",
      " - 0s - loss: 0.4120 - acc: 0.8118\n"
     ]
    },
    {
     "data": {
      "text/plain": [
       "<keras.callbacks.History at 0x2787b180358>"
      ]
     },
     "execution_count": 174,
     "metadata": {},
     "output_type": "execute_result"
    }
   ],
   "source": [
    "nnmodel.fit(\n",
    "    X_train_minmax,\n",
    "    y_train_sampled_2,\n",
    "    epochs=100,\n",
    "    shuffle=True,\n",
    "    verbose=2\n",
    ")"
   ]
  },
  {
   "cell_type": "code",
   "execution_count": 177,
   "metadata": {},
   "outputs": [
    {
     "name": "stdout",
     "output_type": "stream",
     "text": [
      "Loss: 0.5590688051197875, Accuracy: 0.748690787907641\n"
     ]
    }
   ],
   "source": [
    "nnmodel_loss, nnmodel_accuracy = nnmodel.evaluate(X_test_minmax, y_test_2, verbose=2)\n",
    "print(f\"Loss: {nnmodel_loss}, Accuracy: {nnmodel_accuracy}\")"
   ]
  },
  {
   "cell_type": "markdown",
   "metadata": {},
   "source": [
    "## Finding those pipes about to break (but haven't yet)"
   ]
  },
  {
   "cell_type": "code",
   "execution_count": 189,
   "metadata": {},
   "outputs": [
    {
     "data": {
      "text/plain": [
       "array([[0.61666667, 0.38333333],\n",
       "       [0.84666667, 0.15333333],\n",
       "       [0.79      , 0.21      ],\n",
       "       ...,\n",
       "       [0.86333333, 0.13666667],\n",
       "       [0.90666667, 0.09333333],\n",
       "       [0.90333333, 0.09666667]])"
      ]
     },
     "execution_count": 189,
     "metadata": {},
     "output_type": "execute_result"
    }
   ],
   "source": [
    "rfmodel.predict_proba(X_test_minmax)"
   ]
  },
  {
   "cell_type": "code",
   "execution_count": 213,
   "metadata": {},
   "outputs": [],
   "source": [
    "X_test_output = X_test\n",
    "X_test_output['BurstChance'] = [x[1] for x in list(rfmodel.predict_proba(X_test_minmax))]"
   ]
  },
  {
   "cell_type": "code",
   "execution_count": 214,
   "metadata": {},
   "outputs": [],
   "source": [
    "X_test_output['FAILURE'] = y_test"
   ]
  },
  {
   "cell_type": "code",
   "execution_count": 221,
   "metadata": {},
   "outputs": [
    {
     "data": {
      "text/html": [
       "<div>\n",
       "<style scoped>\n",
       "    .dataframe tbody tr th:only-of-type {\n",
       "        vertical-align: middle;\n",
       "    }\n",
       "\n",
       "    .dataframe tbody tr th {\n",
       "        vertical-align: top;\n",
       "    }\n",
       "\n",
       "    .dataframe thead th {\n",
       "        text-align: right;\n",
       "    }\n",
       "</style>\n",
       "<table border=\"1\" class=\"dataframe\">\n",
       "  <thead>\n",
       "    <tr style=\"text-align: right;\">\n",
       "      <th></th>\n",
       "      <th>DIAMETER</th>\n",
       "      <th>PIPE_LENGTH</th>\n",
       "      <th>ROUGHNESS</th>\n",
       "      <th>HL1000</th>\n",
       "      <th>AVE_FLOW</th>\n",
       "      <th>MAX_VELOCITY</th>\n",
       "      <th>MIN_VELOCITY</th>\n",
       "      <th>AVE_VELOCITY</th>\n",
       "      <th>AVE_HEADLOSS</th>\n",
       "      <th>ELEVATION</th>\n",
       "      <th>...</th>\n",
       "      <th>MATERIAL_ST</th>\n",
       "      <th>MATERIAL_T.D</th>\n",
       "      <th>MATERIAL_T.D.</th>\n",
       "      <th>MATERIAL_TTE</th>\n",
       "      <th>MATERIAL_TYT</th>\n",
       "      <th>MATERIAL_UNK</th>\n",
       "      <th>MATERIAL_W.I.</th>\n",
       "      <th>Age</th>\n",
       "      <th>BurstChance</th>\n",
       "      <th>FAILURE</th>\n",
       "    </tr>\n",
       "  </thead>\n",
       "  <tbody>\n",
       "    <tr>\n",
       "      <th>30893</th>\n",
       "      <td>6.0</td>\n",
       "      <td>563.533823</td>\n",
       "      <td>84</td>\n",
       "      <td>0.0026</td>\n",
       "      <td>2.6551</td>\n",
       "      <td>0.0335</td>\n",
       "      <td>0.0240</td>\n",
       "      <td>0.0301</td>\n",
       "      <td>0.0016</td>\n",
       "      <td>831.155278</td>\n",
       "      <td>...</td>\n",
       "      <td>0</td>\n",
       "      <td>0</td>\n",
       "      <td>0</td>\n",
       "      <td>0</td>\n",
       "      <td>0</td>\n",
       "      <td>0</td>\n",
       "      <td>0</td>\n",
       "      <td>59</td>\n",
       "      <td>0.983333</td>\n",
       "      <td>0</td>\n",
       "    </tr>\n",
       "    <tr>\n",
       "      <th>29863</th>\n",
       "      <td>6.0</td>\n",
       "      <td>656.275538</td>\n",
       "      <td>84</td>\n",
       "      <td>0.0020</td>\n",
       "      <td>2.4408</td>\n",
       "      <td>0.0320</td>\n",
       "      <td>0.0198</td>\n",
       "      <td>0.0277</td>\n",
       "      <td>0.0016</td>\n",
       "      <td>856.000000</td>\n",
       "      <td>...</td>\n",
       "      <td>0</td>\n",
       "      <td>0</td>\n",
       "      <td>0</td>\n",
       "      <td>0</td>\n",
       "      <td>0</td>\n",
       "      <td>0</td>\n",
       "      <td>0</td>\n",
       "      <td>60</td>\n",
       "      <td>0.970000</td>\n",
       "      <td>0</td>\n",
       "    </tr>\n",
       "    <tr>\n",
       "      <th>29050</th>\n",
       "      <td>6.0</td>\n",
       "      <td>583.595496</td>\n",
       "      <td>84</td>\n",
       "      <td>0.0013</td>\n",
       "      <td>1.8730</td>\n",
       "      <td>0.0251</td>\n",
       "      <td>0.0143</td>\n",
       "      <td>0.0213</td>\n",
       "      <td>0.0009</td>\n",
       "      <td>847.000000</td>\n",
       "      <td>...</td>\n",
       "      <td>0</td>\n",
       "      <td>0</td>\n",
       "      <td>0</td>\n",
       "      <td>0</td>\n",
       "      <td>0</td>\n",
       "      <td>0</td>\n",
       "      <td>0</td>\n",
       "      <td>61</td>\n",
       "      <td>0.966667</td>\n",
       "      <td>0</td>\n",
       "    </tr>\n",
       "    <tr>\n",
       "      <th>30862</th>\n",
       "      <td>6.0</td>\n",
       "      <td>459.069308</td>\n",
       "      <td>84</td>\n",
       "      <td>0.0048</td>\n",
       "      <td>6.3433</td>\n",
       "      <td>0.1677</td>\n",
       "      <td>0.0015</td>\n",
       "      <td>0.0720</td>\n",
       "      <td>0.0089</td>\n",
       "      <td>873.813172</td>\n",
       "      <td>...</td>\n",
       "      <td>0</td>\n",
       "      <td>0</td>\n",
       "      <td>0</td>\n",
       "      <td>0</td>\n",
       "      <td>0</td>\n",
       "      <td>0</td>\n",
       "      <td>0</td>\n",
       "      <td>59</td>\n",
       "      <td>0.963333</td>\n",
       "      <td>0</td>\n",
       "    </tr>\n",
       "    <tr>\n",
       "      <th>28837</th>\n",
       "      <td>6.0</td>\n",
       "      <td>594.058805</td>\n",
       "      <td>84</td>\n",
       "      <td>0.0010</td>\n",
       "      <td>1.6503</td>\n",
       "      <td>0.0210</td>\n",
       "      <td>0.0147</td>\n",
       "      <td>0.0187</td>\n",
       "      <td>0.0007</td>\n",
       "      <td>826.321512</td>\n",
       "      <td>...</td>\n",
       "      <td>0</td>\n",
       "      <td>0</td>\n",
       "      <td>0</td>\n",
       "      <td>0</td>\n",
       "      <td>0</td>\n",
       "      <td>0</td>\n",
       "      <td>0</td>\n",
       "      <td>61</td>\n",
       "      <td>0.960000</td>\n",
       "      <td>0</td>\n",
       "    </tr>\n",
       "    <tr>\n",
       "      <th>8266</th>\n",
       "      <td>36.0</td>\n",
       "      <td>104.262509</td>\n",
       "      <td>152</td>\n",
       "      <td>0.1065</td>\n",
       "      <td>4103.7539</td>\n",
       "      <td>1.7175</td>\n",
       "      <td>0.6711</td>\n",
       "      <td>1.2935</td>\n",
       "      <td>0.0132</td>\n",
       "      <td>917.255903</td>\n",
       "      <td>...</td>\n",
       "      <td>0</td>\n",
       "      <td>0</td>\n",
       "      <td>0</td>\n",
       "      <td>0</td>\n",
       "      <td>0</td>\n",
       "      <td>0</td>\n",
       "      <td>0</td>\n",
       "      <td>20</td>\n",
       "      <td>0.960000</td>\n",
       "      <td>0</td>\n",
       "    </tr>\n",
       "    <tr>\n",
       "      <th>28050</th>\n",
       "      <td>6.0</td>\n",
       "      <td>501.267553</td>\n",
       "      <td>84</td>\n",
       "      <td>0.0205</td>\n",
       "      <td>7.6829</td>\n",
       "      <td>0.1592</td>\n",
       "      <td>0.0201</td>\n",
       "      <td>0.0872</td>\n",
       "      <td>0.0115</td>\n",
       "      <td>816.984573</td>\n",
       "      <td>...</td>\n",
       "      <td>0</td>\n",
       "      <td>0</td>\n",
       "      <td>0</td>\n",
       "      <td>0</td>\n",
       "      <td>0</td>\n",
       "      <td>0</td>\n",
       "      <td>0</td>\n",
       "      <td>62</td>\n",
       "      <td>0.956667</td>\n",
       "      <td>0</td>\n",
       "    </tr>\n",
       "    <tr>\n",
       "      <th>28920</th>\n",
       "      <td>6.0</td>\n",
       "      <td>498.366119</td>\n",
       "      <td>84</td>\n",
       "      <td>0.0044</td>\n",
       "      <td>3.6030</td>\n",
       "      <td>0.0476</td>\n",
       "      <td>0.0287</td>\n",
       "      <td>0.0409</td>\n",
       "      <td>0.0025</td>\n",
       "      <td>849.331157</td>\n",
       "      <td>...</td>\n",
       "      <td>0</td>\n",
       "      <td>0</td>\n",
       "      <td>0</td>\n",
       "      <td>0</td>\n",
       "      <td>0</td>\n",
       "      <td>0</td>\n",
       "      <td>0</td>\n",
       "      <td>61</td>\n",
       "      <td>0.956667</td>\n",
       "      <td>0</td>\n",
       "    </tr>\n",
       "    <tr>\n",
       "      <th>28881</th>\n",
       "      <td>6.0</td>\n",
       "      <td>672.217027</td>\n",
       "      <td>84</td>\n",
       "      <td>0.0044</td>\n",
       "      <td>3.5178</td>\n",
       "      <td>0.0450</td>\n",
       "      <td>0.0307</td>\n",
       "      <td>0.0399</td>\n",
       "      <td>0.0032</td>\n",
       "      <td>875.741025</td>\n",
       "      <td>...</td>\n",
       "      <td>0</td>\n",
       "      <td>0</td>\n",
       "      <td>0</td>\n",
       "      <td>0</td>\n",
       "      <td>0</td>\n",
       "      <td>0</td>\n",
       "      <td>0</td>\n",
       "      <td>61</td>\n",
       "      <td>0.956667</td>\n",
       "      <td>0</td>\n",
       "    </tr>\n",
       "    <tr>\n",
       "      <th>32756</th>\n",
       "      <td>6.0</td>\n",
       "      <td>538.801083</td>\n",
       "      <td>84</td>\n",
       "      <td>0.4094</td>\n",
       "      <td>42.6443</td>\n",
       "      <td>0.6626</td>\n",
       "      <td>0.2538</td>\n",
       "      <td>0.4839</td>\n",
       "      <td>0.2703</td>\n",
       "      <td>927.565163</td>\n",
       "      <td>...</td>\n",
       "      <td>0</td>\n",
       "      <td>0</td>\n",
       "      <td>0</td>\n",
       "      <td>0</td>\n",
       "      <td>0</td>\n",
       "      <td>0</td>\n",
       "      <td>0</td>\n",
       "      <td>52</td>\n",
       "      <td>0.950000</td>\n",
       "      <td>0</td>\n",
       "    </tr>\n",
       "  </tbody>\n",
       "</table>\n",
       "<p>10 rows × 45 columns</p>\n",
       "</div>"
      ],
      "text/plain": [
       "       DIAMETER  PIPE_LENGTH  ROUGHNESS  HL1000   AVE_FLOW  MAX_VELOCITY  \\\n",
       "30893       6.0   563.533823         84  0.0026     2.6551        0.0335   \n",
       "29863       6.0   656.275538         84  0.0020     2.4408        0.0320   \n",
       "29050       6.0   583.595496         84  0.0013     1.8730        0.0251   \n",
       "30862       6.0   459.069308         84  0.0048     6.3433        0.1677   \n",
       "28837       6.0   594.058805         84  0.0010     1.6503        0.0210   \n",
       "8266       36.0   104.262509        152  0.1065  4103.7539        1.7175   \n",
       "28050       6.0   501.267553         84  0.0205     7.6829        0.1592   \n",
       "28920       6.0   498.366119         84  0.0044     3.6030        0.0476   \n",
       "28881       6.0   672.217027         84  0.0044     3.5178        0.0450   \n",
       "32756       6.0   538.801083         84  0.4094    42.6443        0.6626   \n",
       "\n",
       "       MIN_VELOCITY  AVE_VELOCITY  AVE_HEADLOSS   ELEVATION   ...     \\\n",
       "30893        0.0240        0.0301        0.0016  831.155278   ...      \n",
       "29863        0.0198        0.0277        0.0016  856.000000   ...      \n",
       "29050        0.0143        0.0213        0.0009  847.000000   ...      \n",
       "30862        0.0015        0.0720        0.0089  873.813172   ...      \n",
       "28837        0.0147        0.0187        0.0007  826.321512   ...      \n",
       "8266         0.6711        1.2935        0.0132  917.255903   ...      \n",
       "28050        0.0201        0.0872        0.0115  816.984573   ...      \n",
       "28920        0.0287        0.0409        0.0025  849.331157   ...      \n",
       "28881        0.0307        0.0399        0.0032  875.741025   ...      \n",
       "32756        0.2538        0.4839        0.2703  927.565163   ...      \n",
       "\n",
       "       MATERIAL_ST  MATERIAL_T.D  MATERIAL_T.D.  MATERIAL_TTE  MATERIAL_TYT  \\\n",
       "30893            0             0              0             0             0   \n",
       "29863            0             0              0             0             0   \n",
       "29050            0             0              0             0             0   \n",
       "30862            0             0              0             0             0   \n",
       "28837            0             0              0             0             0   \n",
       "8266             0             0              0             0             0   \n",
       "28050            0             0              0             0             0   \n",
       "28920            0             0              0             0             0   \n",
       "28881            0             0              0             0             0   \n",
       "32756            0             0              0             0             0   \n",
       "\n",
       "       MATERIAL_UNK  MATERIAL_W.I.  Age  BurstChance  FAILURE  \n",
       "30893             0              0   59     0.983333        0  \n",
       "29863             0              0   60     0.970000        0  \n",
       "29050             0              0   61     0.966667        0  \n",
       "30862             0              0   59     0.963333        0  \n",
       "28837             0              0   61     0.960000        0  \n",
       "8266              0              0   20     0.960000        0  \n",
       "28050             0              0   62     0.956667        0  \n",
       "28920             0              0   61     0.956667        0  \n",
       "28881             0              0   61     0.956667        0  \n",
       "32756             0              0   52     0.950000        0  \n",
       "\n",
       "[10 rows x 45 columns]"
      ]
     },
     "execution_count": 221,
     "metadata": {},
     "output_type": "execute_result"
    }
   ],
   "source": [
    "X_test_output.loc[X_test_output['FAILURE']==0].sort_values('BurstChance',ascending=False).head(10)"
   ]
  },
  {
   "cell_type": "code",
   "execution_count": 219,
   "metadata": {},
   "outputs": [
    {
     "data": {
      "text/plain": [
       "FID                                             8589\n",
       "MOID                                          P28339\n",
       "DIAMETER                                           6\n",
       "PIPE_LENGTH                                  563.534\n",
       "YEAR_INSTALLED                                  1959\n",
       "LINING                                              \n",
       "LINE_YEAR                                          0\n",
       "INDEX_YR                                        1959\n",
       "ROUGHNESS                                         84\n",
       "FLOW                                          2.5308\n",
       "VELOCITY                                      0.0287\n",
       "HEADLOSS                                      0.0015\n",
       "HL1000                                        0.0026\n",
       "MAX_FLOW                                      2.9549\n",
       "MIN_FLOW                                      2.1134\n",
       "AVE_FLOW                                      2.6551\n",
       "MAX_VELOCITY                                  0.0335\n",
       "MIN_VELOCITY                                   0.024\n",
       "AVE_VELOCITY                                  0.0301\n",
       "MAX_HEADLOSS                                   0.002\n",
       "MIN_HEADLOSS                                   0.001\n",
       "AVE_HEADLOSS                                  0.0016\n",
       "ELEVATION                                    831.155\n",
       "Demand_RES                                  0.780749\n",
       "Demand_NON-RES                                     0\n",
       "Demand_WHOLE                                       0\n",
       "Demand_FLUSH                                       0\n",
       "Demand_UFW                                  0.310088\n",
       "Demand_RES-DISTR                                   0\n",
       "Demand_NON RES-DISTR                               0\n",
       "                                              ...   \n",
       "MATERIAL_HDPE                                      0\n",
       "MATERIAL_L.J.                                      0\n",
       "MATERIAL_M.J.                                      1\n",
       "MATERIAL_MCW                                       0\n",
       "MATERIAL_OTH                                       0\n",
       "MATERIAL_PE                                        0\n",
       "MATERIAL_PP                                        0\n",
       "MATERIAL_PVC                                       0\n",
       "MATERIAL_R.L.J.                                    0\n",
       "MATERIAL_RCP                                       0\n",
       "MATERIAL_SP                                        0\n",
       "MATERIAL_ST                                        0\n",
       "MATERIAL_T.D                                       0\n",
       "MATERIAL_T.D.                                      0\n",
       "MATERIAL_TTE                                       0\n",
       "MATERIAL_TYT                                       0\n",
       "MATERIAL_UNK                                       0\n",
       "MATERIAL_W.I.                                      0\n",
       "DESCRIPTION_Distribution                           1\n",
       "DESCRIPTION_Experimental Pipe not in CIP           0\n",
       "DESCRIPTION_Facility Pipe                          0\n",
       "DESCRIPTION_Proposed Main: Adamsville              0\n",
       "DESCRIPTION_Transmission                           0\n",
       "P-ZONE_Chatt 1020                                  0\n",
       "P-ZONE_Hemp 1175                                   1\n",
       "P-ZONE_Hemp 1175 (moved)                           0\n",
       "P-ZONE_North 1225                                  0\n",
       "P-ZONE_WTP                                         0\n",
       "Age                                               59\n",
       "SUCCESS                                            1\n",
       "Name: 30893, Length: 93, dtype: object"
      ]
     },
     "execution_count": 219,
     "metadata": {},
     "output_type": "execute_result"
    }
   ],
   "source": [
    "pipes_df3.iloc[30893]"
   ]
  },
  {
   "cell_type": "markdown",
   "metadata": {},
   "source": [
    "## Cross Validation"
   ]
  },
  {
   "cell_type": "code",
   "execution_count": 224,
   "metadata": {},
   "outputs": [],
   "source": [
    "from sklearn.model_selection import StratifiedKFold"
   ]
  },
  {
   "cell_type": "code",
   "execution_count": 225,
   "metadata": {},
   "outputs": [],
   "source": [
    "cv = StratifiedKFold(n_splits=5, shuffle=True, random_state=42)"
   ]
  },
  {
   "cell_type": "code",
   "execution_count": 226,
   "metadata": {},
   "outputs": [],
   "source": [
    "split = cv.split(pipes_df3[inputColumns],pipes_df3['FAILURE'])"
   ]
  },
  {
   "cell_type": "code",
   "execution_count": 229,
   "metadata": {},
   "outputs": [
    {
     "ename": "TypeError",
     "evalue": "'generator' object is not subscriptable",
     "output_type": "error",
     "traceback": [
      "\u001b[1;31m---------------------------------------------------------------------------\u001b[0m",
      "\u001b[1;31mTypeError\u001b[0m                                 Traceback (most recent call last)",
      "\u001b[1;32m<ipython-input-229-e2cfe2cb9dc0>\u001b[0m in \u001b[0;36m<module>\u001b[1;34m()\u001b[0m\n\u001b[1;32m----> 1\u001b[1;33m \u001b[0msplit\u001b[0m\u001b[1;33m[\u001b[0m\u001b[1;36m0\u001b[0m\u001b[1;33m]\u001b[0m\u001b[1;33m\u001b[0m\u001b[0m\n\u001b[0m",
      "\u001b[1;31mTypeError\u001b[0m: 'generator' object is not subscriptable"
     ]
    }
   ],
   "source": []
  },
  {
   "cell_type": "code",
   "execution_count": 239,
   "metadata": {},
   "outputs": [],
   "source": [
    "scores = []\n",
    "rfmodel = RandomForestClassifier(n_estimators=300)\n",
    "final_df = pipes_df3\n",
    "final_df['BurstChance'] = 0"
   ]
  },
  {
   "cell_type": "code",
   "execution_count": 240,
   "metadata": {},
   "outputs": [
    {
     "data": {
      "text/plain": [
       "0        0\n",
       "1        0\n",
       "2        0\n",
       "3        0\n",
       "4        0\n",
       "5        0\n",
       "6        0\n",
       "7        0\n",
       "8        0\n",
       "9        0\n",
       "10       0\n",
       "11       0\n",
       "12       0\n",
       "13       0\n",
       "14       0\n",
       "15       0\n",
       "16       0\n",
       "17       0\n",
       "18       0\n",
       "19       0\n",
       "20       0\n",
       "21       0\n",
       "22       0\n",
       "23       0\n",
       "24       0\n",
       "25       0\n",
       "26       0\n",
       "27       0\n",
       "28       0\n",
       "29       0\n",
       "        ..\n",
       "55982    0\n",
       "55983    0\n",
       "55984    0\n",
       "55985    0\n",
       "55986    0\n",
       "55987    0\n",
       "55988    0\n",
       "55989    0\n",
       "55990    0\n",
       "55991    0\n",
       "55992    0\n",
       "55993    0\n",
       "55994    0\n",
       "55995    0\n",
       "55996    0\n",
       "55997    0\n",
       "55998    0\n",
       "55999    0\n",
       "56000    0\n",
       "56001    0\n",
       "56002    0\n",
       "56003    0\n",
       "56004    0\n",
       "56005    0\n",
       "56006    0\n",
       "56007    0\n",
       "56008    0\n",
       "56009    0\n",
       "56010    0\n",
       "56011    0\n",
       "Name: BurstChance, Length: 56012, dtype: int64"
      ]
     },
     "execution_count": 240,
     "metadata": {},
     "output_type": "execute_result"
    }
   ],
   "source": [
    "final_df['BurstChance']"
   ]
  },
  {
   "cell_type": "code",
   "execution_count": 247,
   "metadata": {},
   "outputs": [
    {
     "name": "stdout",
     "output_type": "stream",
     "text": [
      "[[8642 1878]\n",
      " [ 111  572]]\n"
     ]
    },
    {
     "name": "stderr",
     "output_type": "stream",
     "text": [
      "C:\\ProgramData\\Anaconda3\\lib\\site-packages\\pandas\\core\\indexing.py:189: SettingWithCopyWarning: \n",
      "A value is trying to be set on a copy of a slice from a DataFrame\n",
      "\n",
      "See the caveats in the documentation: http://pandas.pydata.org/pandas-docs/stable/indexing.html#indexing-view-versus-copy\n",
      "  self._setitem_with_indexer(indexer, value)\n"
     ]
    },
    {
     "name": "stdout",
     "output_type": "stream",
     "text": [
      "[[8761 1759]\n",
      " [ 128  555]]\n"
     ]
    },
    {
     "name": "stderr",
     "output_type": "stream",
     "text": [
      "C:\\ProgramData\\Anaconda3\\lib\\site-packages\\pandas\\core\\indexing.py:189: SettingWithCopyWarning: \n",
      "A value is trying to be set on a copy of a slice from a DataFrame\n",
      "\n",
      "See the caveats in the documentation: http://pandas.pydata.org/pandas-docs/stable/indexing.html#indexing-view-versus-copy\n",
      "  self._setitem_with_indexer(indexer, value)\n"
     ]
    },
    {
     "name": "stdout",
     "output_type": "stream",
     "text": [
      "[[8812 1708]\n",
      " [ 117  565]]\n"
     ]
    },
    {
     "name": "stderr",
     "output_type": "stream",
     "text": [
      "C:\\ProgramData\\Anaconda3\\lib\\site-packages\\pandas\\core\\indexing.py:189: SettingWithCopyWarning: \n",
      "A value is trying to be set on a copy of a slice from a DataFrame\n",
      "\n",
      "See the caveats in the documentation: http://pandas.pydata.org/pandas-docs/stable/indexing.html#indexing-view-versus-copy\n",
      "  self._setitem_with_indexer(indexer, value)\n"
     ]
    },
    {
     "name": "stdout",
     "output_type": "stream",
     "text": [
      "[[8568 1952]\n",
      " [ 125  557]]\n"
     ]
    },
    {
     "name": "stderr",
     "output_type": "stream",
     "text": [
      "C:\\ProgramData\\Anaconda3\\lib\\site-packages\\pandas\\core\\indexing.py:189: SettingWithCopyWarning: \n",
      "A value is trying to be set on a copy of a slice from a DataFrame\n",
      "\n",
      "See the caveats in the documentation: http://pandas.pydata.org/pandas-docs/stable/indexing.html#indexing-view-versus-copy\n",
      "  self._setitem_with_indexer(indexer, value)\n"
     ]
    },
    {
     "name": "stdout",
     "output_type": "stream",
     "text": [
      "[[8694 1826]\n",
      " [ 139  543]]\n"
     ]
    },
    {
     "name": "stderr",
     "output_type": "stream",
     "text": [
      "C:\\ProgramData\\Anaconda3\\lib\\site-packages\\pandas\\core\\indexing.py:189: SettingWithCopyWarning: \n",
      "A value is trying to be set on a copy of a slice from a DataFrame\n",
      "\n",
      "See the caveats in the documentation: http://pandas.pydata.org/pandas-docs/stable/indexing.html#indexing-view-versus-copy\n",
      "  self._setitem_with_indexer(indexer, value)\n"
     ]
    },
    {
     "data": {
      "text/plain": [
       "[0.8162992055699366,\n",
       " 0.8372757297152549,\n",
       " 0.8269951794322442,\n",
       " 0.8222638814497412,\n",
       " 0.8221746116764863,\n",
       " 0.8192448451307686,\n",
       " 0.8288851200571276,\n",
       " 0.829851812176397,\n",
       " 0.8201214068916265,\n",
       " 0.8194965184788431,\n",
       " 0.8224582701062215,\n",
       " 0.8315629742033384,\n",
       " 0.8370826638100339,\n",
       " 0.8145866809498303,\n",
       " 0.8245848955543653]"
      ]
     },
     "execution_count": 247,
     "metadata": {},
     "output_type": "execute_result"
    }
   ],
   "source": [
    "\n",
    "\n",
    "for train_idx, test_idx in cv.split(pipes_df3[inputColumns],pipes_df3['FAILURE']):\n",
    "    Current_X_train = pipes_df3[inputColumns].loc[train_idx]\n",
    "    Current_X_test = pipes_df3[inputColumns].loc[test_idx]\n",
    "    Current_y_train = pipes_df3['FAILURE'].loc[train_idx]\n",
    "    Current_y_test = pipes_df3['FAILURE'].loc[test_idx]\n",
    "    \n",
    "    Current_X_minmax = MinMaxScaler().fit(Current_X_train)\n",
    "    Current_X_train_minmax = Current_X_minmax.transform(Current_X_train)\n",
    "    Current_X_test_minmax = Current_X_minmax.transform(Current_X_test)\n",
    "    \n",
    "    Current_X_train_false = Current_X_train[Current_y_train==0].sample(n=sum(Current_y_train))\n",
    "    Current_X_train_true = Current_X_train[Current_y_train==1].sample(n=sum(Current_y_train))\n",
    "    \n",
    "    Current_X_train_sampled = Current_X_train_true.append(Current_X_train_false)\n",
    "    Current_y_train_sampled = Current_y_train.loc[Current_X_train_sampled.index]\n",
    "    \n",
    "    Current_X_train_minmax = Current_X_minmax.transform(Current_X_train_sampled)\n",
    "\n",
    "    \n",
    "    rfmodel.fit(Current_X_train_minmax, Current_y_train_sampled)\n",
    "    score = rfmodel.score(Current_X_test_minmax, Current_y_test)\n",
    "    scores.append(score)\n",
    "    print(confusion_matrix(Current_y_test,rfmodel.predict(Current_X_test_minmax)))\n",
    "    \n",
    "    final_df['BurstChance'].loc[test_idx] = [x[1] for x in list(rfmodel.predict_proba(Current_X_test_minmax))]\n",
    "    \n",
    "scores"
   ]
  },
  {
   "cell_type": "code",
   "execution_count": 252,
   "metadata": {},
   "outputs": [
    {
     "data": {
      "text/html": [
       "<div>\n",
       "<style scoped>\n",
       "    .dataframe tbody tr th:only-of-type {\n",
       "        vertical-align: middle;\n",
       "    }\n",
       "\n",
       "    .dataframe tbody tr th {\n",
       "        vertical-align: top;\n",
       "    }\n",
       "\n",
       "    .dataframe thead th {\n",
       "        text-align: right;\n",
       "    }\n",
       "</style>\n",
       "<table border=\"1\" class=\"dataframe\">\n",
       "  <thead>\n",
       "    <tr style=\"text-align: right;\">\n",
       "      <th></th>\n",
       "      <th>BurstChance</th>\n",
       "      <th>FID</th>\n",
       "      <th>MOID</th>\n",
       "      <th>DIAMETER</th>\n",
       "      <th>PIPE_LENGTH</th>\n",
       "      <th>ROUGHNESS</th>\n",
       "      <th>HL1000</th>\n",
       "      <th>AVE_FLOW</th>\n",
       "      <th>MAX_VELOCITY</th>\n",
       "      <th>MIN_VELOCITY</th>\n",
       "      <th>...</th>\n",
       "      <th>MATERIAL_RCP</th>\n",
       "      <th>MATERIAL_SP</th>\n",
       "      <th>MATERIAL_ST</th>\n",
       "      <th>MATERIAL_T.D</th>\n",
       "      <th>MATERIAL_T.D.</th>\n",
       "      <th>MATERIAL_TTE</th>\n",
       "      <th>MATERIAL_TYT</th>\n",
       "      <th>MATERIAL_UNK</th>\n",
       "      <th>MATERIAL_W.I.</th>\n",
       "      <th>Age</th>\n",
       "    </tr>\n",
       "  </thead>\n",
       "  <tbody>\n",
       "    <tr>\n",
       "      <th>2008</th>\n",
       "      <td>0.973333</td>\n",
       "      <td>16852</td>\n",
       "      <td>P38683</td>\n",
       "      <td>6.0</td>\n",
       "      <td>523.548036</td>\n",
       "      <td>39</td>\n",
       "      <td>1.1411</td>\n",
       "      <td>44.6551</td>\n",
       "      <td>0.6175</td>\n",
       "      <td>0.3268</td>\n",
       "      <td>...</td>\n",
       "      <td>0</td>\n",
       "      <td>0</td>\n",
       "      <td>0</td>\n",
       "      <td>0</td>\n",
       "      <td>0</td>\n",
       "      <td>0</td>\n",
       "      <td>0</td>\n",
       "      <td>0</td>\n",
       "      <td>0</td>\n",
       "      <td>80</td>\n",
       "    </tr>\n",
       "    <tr>\n",
       "      <th>30893</th>\n",
       "      <td>0.973333</td>\n",
       "      <td>8589</td>\n",
       "      <td>P28339</td>\n",
       "      <td>6.0</td>\n",
       "      <td>563.533823</td>\n",
       "      <td>84</td>\n",
       "      <td>0.0026</td>\n",
       "      <td>2.6551</td>\n",
       "      <td>0.0335</td>\n",
       "      <td>0.0240</td>\n",
       "      <td>...</td>\n",
       "      <td>0</td>\n",
       "      <td>0</td>\n",
       "      <td>0</td>\n",
       "      <td>0</td>\n",
       "      <td>0</td>\n",
       "      <td>0</td>\n",
       "      <td>0</td>\n",
       "      <td>0</td>\n",
       "      <td>0</td>\n",
       "      <td>59</td>\n",
       "    </tr>\n",
       "    <tr>\n",
       "      <th>2313</th>\n",
       "      <td>0.966667</td>\n",
       "      <td>16387</td>\n",
       "      <td>P35796</td>\n",
       "      <td>6.0</td>\n",
       "      <td>690.583405</td>\n",
       "      <td>39</td>\n",
       "      <td>0.0843</td>\n",
       "      <td>12.2440</td>\n",
       "      <td>0.1814</td>\n",
       "      <td>0.0440</td>\n",
       "      <td>...</td>\n",
       "      <td>0</td>\n",
       "      <td>0</td>\n",
       "      <td>0</td>\n",
       "      <td>0</td>\n",
       "      <td>0</td>\n",
       "      <td>0</td>\n",
       "      <td>0</td>\n",
       "      <td>0</td>\n",
       "      <td>0</td>\n",
       "      <td>75</td>\n",
       "    </tr>\n",
       "    <tr>\n",
       "      <th>18807</th>\n",
       "      <td>0.960000</td>\n",
       "      <td>153</td>\n",
       "      <td>P106854</td>\n",
       "      <td>6.0</td>\n",
       "      <td>1283.013408</td>\n",
       "      <td>39</td>\n",
       "      <td>0.2037</td>\n",
       "      <td>10.1875</td>\n",
       "      <td>0.2039</td>\n",
       "      <td>0.0279</td>\n",
       "      <td>...</td>\n",
       "      <td>0</td>\n",
       "      <td>0</td>\n",
       "      <td>0</td>\n",
       "      <td>0</td>\n",
       "      <td>0</td>\n",
       "      <td>0</td>\n",
       "      <td>0</td>\n",
       "      <td>0</td>\n",
       "      <td>0</td>\n",
       "      <td>67</td>\n",
       "    </tr>\n",
       "    <tr>\n",
       "      <th>2119</th>\n",
       "      <td>0.960000</td>\n",
       "      <td>912</td>\n",
       "      <td>P103019</td>\n",
       "      <td>6.0</td>\n",
       "      <td>636.358576</td>\n",
       "      <td>39</td>\n",
       "      <td>0.0631</td>\n",
       "      <td>15.3874</td>\n",
       "      <td>0.2520</td>\n",
       "      <td>0.0252</td>\n",
       "      <td>...</td>\n",
       "      <td>0</td>\n",
       "      <td>0</td>\n",
       "      <td>0</td>\n",
       "      <td>0</td>\n",
       "      <td>0</td>\n",
       "      <td>0</td>\n",
       "      <td>0</td>\n",
       "      <td>0</td>\n",
       "      <td>0</td>\n",
       "      <td>78</td>\n",
       "    </tr>\n",
       "    <tr>\n",
       "      <th>55769</th>\n",
       "      <td>0.953333</td>\n",
       "      <td>53927</td>\n",
       "      <td>P45877</td>\n",
       "      <td>2.0</td>\n",
       "      <td>328.264650</td>\n",
       "      <td>34</td>\n",
       "      <td>0.3194</td>\n",
       "      <td>0.8229</td>\n",
       "      <td>0.0984</td>\n",
       "      <td>0.0580</td>\n",
       "      <td>...</td>\n",
       "      <td>0</td>\n",
       "      <td>0</td>\n",
       "      <td>0</td>\n",
       "      <td>0</td>\n",
       "      <td>0</td>\n",
       "      <td>0</td>\n",
       "      <td>0</td>\n",
       "      <td>0</td>\n",
       "      <td>1</td>\n",
       "      <td>56</td>\n",
       "    </tr>\n",
       "    <tr>\n",
       "      <th>55684</th>\n",
       "      <td>0.953333</td>\n",
       "      <td>54071</td>\n",
       "      <td>P47905</td>\n",
       "      <td>2.0</td>\n",
       "      <td>415.751783</td>\n",
       "      <td>34</td>\n",
       "      <td>0.3990</td>\n",
       "      <td>0.9316</td>\n",
       "      <td>0.1122</td>\n",
       "      <td>0.0641</td>\n",
       "      <td>...</td>\n",
       "      <td>0</td>\n",
       "      <td>0</td>\n",
       "      <td>0</td>\n",
       "      <td>0</td>\n",
       "      <td>0</td>\n",
       "      <td>0</td>\n",
       "      <td>0</td>\n",
       "      <td>0</td>\n",
       "      <td>1</td>\n",
       "      <td>59</td>\n",
       "    </tr>\n",
       "    <tr>\n",
       "      <th>55878</th>\n",
       "      <td>0.950000</td>\n",
       "      <td>53929</td>\n",
       "      <td>P46994</td>\n",
       "      <td>2.0</td>\n",
       "      <td>311.496146</td>\n",
       "      <td>40</td>\n",
       "      <td>0.3068</td>\n",
       "      <td>0.9513</td>\n",
       "      <td>0.1148</td>\n",
       "      <td>0.0652</td>\n",
       "      <td>...</td>\n",
       "      <td>0</td>\n",
       "      <td>0</td>\n",
       "      <td>0</td>\n",
       "      <td>0</td>\n",
       "      <td>0</td>\n",
       "      <td>0</td>\n",
       "      <td>0</td>\n",
       "      <td>0</td>\n",
       "      <td>1</td>\n",
       "      <td>52</td>\n",
       "    </tr>\n",
       "    <tr>\n",
       "      <th>32369</th>\n",
       "      <td>0.950000</td>\n",
       "      <td>8001</td>\n",
       "      <td>P30545</td>\n",
       "      <td>6.0</td>\n",
       "      <td>702.251530</td>\n",
       "      <td>90</td>\n",
       "      <td>0.2293</td>\n",
       "      <td>28.1961</td>\n",
       "      <td>0.5759</td>\n",
       "      <td>0.0279</td>\n",
       "      <td>...</td>\n",
       "      <td>0</td>\n",
       "      <td>0</td>\n",
       "      <td>0</td>\n",
       "      <td>0</td>\n",
       "      <td>0</td>\n",
       "      <td>0</td>\n",
       "      <td>0</td>\n",
       "      <td>0</td>\n",
       "      <td>0</td>\n",
       "      <td>55</td>\n",
       "    </tr>\n",
       "    <tr>\n",
       "      <th>30842</th>\n",
       "      <td>0.950000</td>\n",
       "      <td>5084</td>\n",
       "      <td>P18742</td>\n",
       "      <td>6.0</td>\n",
       "      <td>704.887925</td>\n",
       "      <td>84</td>\n",
       "      <td>0.1998</td>\n",
       "      <td>32.9333</td>\n",
       "      <td>0.4761</td>\n",
       "      <td>0.2464</td>\n",
       "      <td>...</td>\n",
       "      <td>0</td>\n",
       "      <td>0</td>\n",
       "      <td>0</td>\n",
       "      <td>0</td>\n",
       "      <td>0</td>\n",
       "      <td>0</td>\n",
       "      <td>0</td>\n",
       "      <td>0</td>\n",
       "      <td>0</td>\n",
       "      <td>59</td>\n",
       "    </tr>\n",
       "  </tbody>\n",
       "</table>\n",
       "<p>10 rows × 46 columns</p>\n",
       "</div>"
      ],
      "text/plain": [
       "       BurstChance    FID     MOID  DIAMETER  PIPE_LENGTH  ROUGHNESS  HL1000  \\\n",
       "2008      0.973333  16852   P38683       6.0   523.548036         39  1.1411   \n",
       "30893     0.973333   8589   P28339       6.0   563.533823         84  0.0026   \n",
       "2313      0.966667  16387   P35796       6.0   690.583405         39  0.0843   \n",
       "18807     0.960000    153  P106854       6.0  1283.013408         39  0.2037   \n",
       "2119      0.960000    912  P103019       6.0   636.358576         39  0.0631   \n",
       "55769     0.953333  53927   P45877       2.0   328.264650         34  0.3194   \n",
       "55684     0.953333  54071   P47905       2.0   415.751783         34  0.3990   \n",
       "55878     0.950000  53929   P46994       2.0   311.496146         40  0.3068   \n",
       "32369     0.950000   8001   P30545       6.0   702.251530         90  0.2293   \n",
       "30842     0.950000   5084   P18742       6.0   704.887925         84  0.1998   \n",
       "\n",
       "       AVE_FLOW  MAX_VELOCITY  MIN_VELOCITY ...   MATERIAL_RCP  MATERIAL_SP  \\\n",
       "2008    44.6551        0.6175        0.3268 ...              0            0   \n",
       "30893    2.6551        0.0335        0.0240 ...              0            0   \n",
       "2313    12.2440        0.1814        0.0440 ...              0            0   \n",
       "18807   10.1875        0.2039        0.0279 ...              0            0   \n",
       "2119    15.3874        0.2520        0.0252 ...              0            0   \n",
       "55769    0.8229        0.0984        0.0580 ...              0            0   \n",
       "55684    0.9316        0.1122        0.0641 ...              0            0   \n",
       "55878    0.9513        0.1148        0.0652 ...              0            0   \n",
       "32369   28.1961        0.5759        0.0279 ...              0            0   \n",
       "30842   32.9333        0.4761        0.2464 ...              0            0   \n",
       "\n",
       "       MATERIAL_ST  MATERIAL_T.D  MATERIAL_T.D.  MATERIAL_TTE  MATERIAL_TYT  \\\n",
       "2008             0             0              0             0             0   \n",
       "30893            0             0              0             0             0   \n",
       "2313             0             0              0             0             0   \n",
       "18807            0             0              0             0             0   \n",
       "2119             0             0              0             0             0   \n",
       "55769            0             0              0             0             0   \n",
       "55684            0             0              0             0             0   \n",
       "55878            0             0              0             0             0   \n",
       "32369            0             0              0             0             0   \n",
       "30842            0             0              0             0             0   \n",
       "\n",
       "       MATERIAL_UNK  MATERIAL_W.I.  Age  \n",
       "2008              0              0   80  \n",
       "30893             0              0   59  \n",
       "2313              0              0   75  \n",
       "18807             0              0   67  \n",
       "2119              0              0   78  \n",
       "55769             0              1   56  \n",
       "55684             0              1   59  \n",
       "55878             0              1   52  \n",
       "32369             0              0   55  \n",
       "30842             0              0   59  \n",
       "\n",
       "[10 rows x 46 columns]"
      ]
     },
     "execution_count": 252,
     "metadata": {},
     "output_type": "execute_result"
    }
   ],
   "source": [
    "final_df[['BurstChance','FID','MOID'] + inputColumns].loc[final_df['FAILURE']==0].sort_values('BurstChance', ascending=False).head(10)"
   ]
  },
  {
   "cell_type": "code",
   "execution_count": null,
   "metadata": {},
   "outputs": [],
   "source": []
  }
 ],
 "metadata": {
  "kernelspec": {
   "display_name": "Python [default]",
   "language": "python",
   "name": "python3"
  },
  "language_info": {
   "codemirror_mode": {
    "name": "ipython",
    "version": 3
   },
   "file_extension": ".py",
   "mimetype": "text/x-python",
   "name": "python",
   "nbconvert_exporter": "python",
   "pygments_lexer": "ipython3",
   "version": "3.6.5"
  }
 },
 "nbformat": 4,
 "nbformat_minor": 2
}
